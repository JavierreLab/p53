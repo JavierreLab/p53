{
 "cells": [
  {
   "cell_type": "code",
   "execution_count": 1,
   "id": "17ec6b35",
   "metadata": {
    "ExecuteTime": {
     "end_time": "2023-12-14T09:08:41.276665Z",
     "start_time": "2023-12-14T09:08:40.583336Z"
    }
   },
   "outputs": [
    {
     "name": "stderr",
     "output_type": "stream",
     "text": [
      "/tmp/ipykernel_88366/4216170259.py:3: DeprecationWarning: \n",
      "Pyarrow will become a required dependency of pandas in the next major release of pandas (pandas 3.0),\n",
      "(to allow more performant data types, such as the Arrow string type, and better interoperability with other libraries)\n",
      "but was not found to be installed on your system.\n",
      "If this would cause problems for you,\n",
      "please provide us feedback at https://github.com/pandas-dev/pandas/issues/54466\n",
      "        \n",
      "  import pandas as pd\n"
     ]
    }
   ],
   "source": [
    "import os\n",
    "import numpy as np\n",
    "import pandas as pd\n",
    "from matplotlib import pyplot as plt\n",
    "import scipy.stats as stats\n",
    "import bioframe as bf"
   ]
  },
  {
   "cell_type": "code",
   "execution_count": 2,
   "id": "3513c787",
   "metadata": {
    "ExecuteTime": {
     "end_time": "2023-12-14T09:08:42.311746Z",
     "start_time": "2023-12-14T09:08:42.309520Z"
    }
   },
   "outputs": [],
   "source": [
    "colors = {\n",
    "    '0h'  : \"#fde72580\", \n",
    "    '1h'  : \"#37b57880\",\n",
    "    '4h'  : \"#21908d80\",\n",
    "    '7h'  : \"#31668d80\",\n",
    "    '10h' : \"#43377f80\",\n",
    "    '24h' : \"#44015480\",\n",
    "    'w24h': '#fb852480',\n",
    "#     'w48h': '#00000080',\n",
    "}"
   ]
  },
  {
   "cell_type": "code",
   "execution_count": 3,
   "id": "1d1c8e29",
   "metadata": {
    "ExecuteTime": {
     "end_time": "2023-12-14T09:08:42.681905Z",
     "start_time": "2023-12-14T09:08:42.679981Z"
    }
   },
   "outputs": [],
   "source": [
    "plt.rcParams[\"font.family\"] = \"Arial Narrow\""
   ]
  },
  {
   "cell_type": "code",
   "execution_count": 4,
   "id": "65839f33",
   "metadata": {
    "ExecuteTime": {
     "end_time": "2023-12-14T09:08:43.226097Z",
     "start_time": "2023-12-14T09:08:43.181810Z"
    }
   },
   "outputs": [],
   "source": [
    "# Load compartments\n",
    "comps = pd.read_csv('../../data/ComplementaryData/HiC/p53_normalized_compartments.tsv', sep='\\t', index_col=0)"
   ]
  },
  {
   "cell_type": "code",
   "execution_count": 5,
   "id": "705f9b75",
   "metadata": {
    "ExecuteTime": {
     "end_time": "2023-12-14T09:08:43.843349Z",
     "start_time": "2023-12-14T09:08:43.823799Z"
    }
   },
   "outputs": [
    {
     "data": {
      "text/html": [
       "<div>\n",
       "<style scoped>\n",
       "    .dataframe tbody tr th:only-of-type {\n",
       "        vertical-align: middle;\n",
       "    }\n",
       "\n",
       "    .dataframe tbody tr th {\n",
       "        vertical-align: top;\n",
       "    }\n",
       "\n",
       "    .dataframe thead th {\n",
       "        text-align: right;\n",
       "    }\n",
       "</style>\n",
       "<table border=\"1\" class=\"dataframe\">\n",
       "  <thead>\n",
       "    <tr style=\"text-align: right;\">\n",
       "      <th></th>\n",
       "      <th>chrom</th>\n",
       "      <th>start</th>\n",
       "      <th>end</th>\n",
       "      <th>WT-NUT-0h</th>\n",
       "      <th>WT-NUT-1h</th>\n",
       "      <th>WT-NUT-4h</th>\n",
       "      <th>WT-NUT-7h</th>\n",
       "      <th>WT-NUT-10h</th>\n",
       "      <th>WT-NUT-24h</th>\n",
       "      <th>WT-NUT-w24h</th>\n",
       "    </tr>\n",
       "  </thead>\n",
       "  <tbody>\n",
       "    <tr>\n",
       "      <th>14</th>\n",
       "      <td>1</td>\n",
       "      <td>1400001</td>\n",
       "      <td>1500000</td>\n",
       "      <td>0.468795</td>\n",
       "      <td>0.440108</td>\n",
       "      <td>0.497982</td>\n",
       "      <td>0.537427</td>\n",
       "      <td>0.492640</td>\n",
       "      <td>0.686431</td>\n",
       "      <td>0.900241</td>\n",
       "    </tr>\n",
       "    <tr>\n",
       "      <th>18</th>\n",
       "      <td>1</td>\n",
       "      <td>1800001</td>\n",
       "      <td>1900000</td>\n",
       "      <td>0.685488</td>\n",
       "      <td>0.580385</td>\n",
       "      <td>0.579867</td>\n",
       "      <td>0.609842</td>\n",
       "      <td>0.679293</td>\n",
       "      <td>0.693683</td>\n",
       "      <td>0.742896</td>\n",
       "    </tr>\n",
       "    <tr>\n",
       "      <th>19</th>\n",
       "      <td>1</td>\n",
       "      <td>1900001</td>\n",
       "      <td>2000000</td>\n",
       "      <td>0.639026</td>\n",
       "      <td>0.538240</td>\n",
       "      <td>0.575619</td>\n",
       "      <td>0.583009</td>\n",
       "      <td>0.643021</td>\n",
       "      <td>0.661393</td>\n",
       "      <td>0.741871</td>\n",
       "    </tr>\n",
       "    <tr>\n",
       "      <th>20</th>\n",
       "      <td>1</td>\n",
       "      <td>2000001</td>\n",
       "      <td>2100000</td>\n",
       "      <td>0.589284</td>\n",
       "      <td>0.499109</td>\n",
       "      <td>0.570522</td>\n",
       "      <td>0.547422</td>\n",
       "      <td>0.590013</td>\n",
       "      <td>0.602525</td>\n",
       "      <td>0.798586</td>\n",
       "    </tr>\n",
       "    <tr>\n",
       "      <th>21</th>\n",
       "      <td>1</td>\n",
       "      <td>2100001</td>\n",
       "      <td>2200000</td>\n",
       "      <td>0.539112</td>\n",
       "      <td>0.462766</td>\n",
       "      <td>0.508577</td>\n",
       "      <td>0.513178</td>\n",
       "      <td>0.548010</td>\n",
       "      <td>0.507771</td>\n",
       "      <td>0.686035</td>\n",
       "    </tr>\n",
       "    <tr>\n",
       "      <th>...</th>\n",
       "      <td>...</td>\n",
       "      <td>...</td>\n",
       "      <td>...</td>\n",
       "      <td>...</td>\n",
       "      <td>...</td>\n",
       "      <td>...</td>\n",
       "      <td>...</td>\n",
       "      <td>...</td>\n",
       "      <td>...</td>\n",
       "      <td>...</td>\n",
       "    </tr>\n",
       "    <tr>\n",
       "      <th>30364</th>\n",
       "      <td>X</td>\n",
       "      <td>154100001</td>\n",
       "      <td>154200000</td>\n",
       "      <td>0.388498</td>\n",
       "      <td>0.420869</td>\n",
       "      <td>0.426471</td>\n",
       "      <td>0.410045</td>\n",
       "      <td>0.386490</td>\n",
       "      <td>0.384076</td>\n",
       "      <td>0.483845</td>\n",
       "    </tr>\n",
       "    <tr>\n",
       "      <th>30365</th>\n",
       "      <td>X</td>\n",
       "      <td>154200001</td>\n",
       "      <td>154300000</td>\n",
       "      <td>0.395961</td>\n",
       "      <td>0.427263</td>\n",
       "      <td>0.425994</td>\n",
       "      <td>0.400963</td>\n",
       "      <td>0.405549</td>\n",
       "      <td>0.319887</td>\n",
       "      <td>0.626793</td>\n",
       "    </tr>\n",
       "    <tr>\n",
       "      <th>30366</th>\n",
       "      <td>X</td>\n",
       "      <td>154300001</td>\n",
       "      <td>154400000</td>\n",
       "      <td>0.395212</td>\n",
       "      <td>0.430908</td>\n",
       "      <td>0.416127</td>\n",
       "      <td>0.408493</td>\n",
       "      <td>0.430129</td>\n",
       "      <td>0.318014</td>\n",
       "      <td>0.624578</td>\n",
       "    </tr>\n",
       "    <tr>\n",
       "      <th>30367</th>\n",
       "      <td>X</td>\n",
       "      <td>154400001</td>\n",
       "      <td>154500000</td>\n",
       "      <td>0.343780</td>\n",
       "      <td>0.334457</td>\n",
       "      <td>0.320286</td>\n",
       "      <td>0.341765</td>\n",
       "      <td>0.372819</td>\n",
       "      <td>0.253453</td>\n",
       "      <td>0.488216</td>\n",
       "    </tr>\n",
       "    <tr>\n",
       "      <th>30371</th>\n",
       "      <td>X</td>\n",
       "      <td>154800001</td>\n",
       "      <td>154900000</td>\n",
       "      <td>0.189703</td>\n",
       "      <td>0.199737</td>\n",
       "      <td>0.254933</td>\n",
       "      <td>0.191116</td>\n",
       "      <td>0.221287</td>\n",
       "      <td>0.228030</td>\n",
       "      <td>0.314355</td>\n",
       "    </tr>\n",
       "  </tbody>\n",
       "</table>\n",
       "<p>27244 rows × 10 columns</p>\n",
       "</div>"
      ],
      "text/plain": [
       "      chrom      start        end  WT-NUT-0h  WT-NUT-1h  WT-NUT-4h  WT-NUT-7h  \\\n",
       "14        1    1400001    1500000   0.468795   0.440108   0.497982   0.537427   \n",
       "18        1    1800001    1900000   0.685488   0.580385   0.579867   0.609842   \n",
       "19        1    1900001    2000000   0.639026   0.538240   0.575619   0.583009   \n",
       "20        1    2000001    2100000   0.589284   0.499109   0.570522   0.547422   \n",
       "21        1    2100001    2200000   0.539112   0.462766   0.508577   0.513178   \n",
       "...     ...        ...        ...        ...        ...        ...        ...   \n",
       "30364     X  154100001  154200000   0.388498   0.420869   0.426471   0.410045   \n",
       "30365     X  154200001  154300000   0.395961   0.427263   0.425994   0.400963   \n",
       "30366     X  154300001  154400000   0.395212   0.430908   0.416127   0.408493   \n",
       "30367     X  154400001  154500000   0.343780   0.334457   0.320286   0.341765   \n",
       "30371     X  154800001  154900000   0.189703   0.199737   0.254933   0.191116   \n",
       "\n",
       "       WT-NUT-10h  WT-NUT-24h  WT-NUT-w24h  \n",
       "14       0.492640    0.686431     0.900241  \n",
       "18       0.679293    0.693683     0.742896  \n",
       "19       0.643021    0.661393     0.741871  \n",
       "20       0.590013    0.602525     0.798586  \n",
       "21       0.548010    0.507771     0.686035  \n",
       "...           ...         ...          ...  \n",
       "30364    0.386490    0.384076     0.483845  \n",
       "30365    0.405549    0.319887     0.626793  \n",
       "30366    0.430129    0.318014     0.624578  \n",
       "30367    0.372819    0.253453     0.488216  \n",
       "30371    0.221287    0.228030     0.314355  \n",
       "\n",
       "[27244 rows x 10 columns]"
      ]
     },
     "execution_count": 5,
     "metadata": {},
     "output_type": "execute_result"
    }
   ],
   "source": [
    "comps = comps.rename(columns={'Chromosome': 'chrom', 'Start': 'start', 'End': 'end'})\n",
    "comps = comps.dropna()\n",
    "comps"
   ]
  },
  {
   "cell_type": "markdown",
   "id": "36f228b4-d4aa-44ed-bda5-e479af7e5b58",
   "metadata": {},
   "source": [
    "## Load p53"
   ]
  },
  {
   "cell_type": "code",
   "execution_count": 6,
   "id": "ef3dd63b-a530-4c66-97ec-3a97f9f84102",
   "metadata": {},
   "outputs": [
    {
     "data": {
      "text/html": [
       "<div>\n",
       "<style scoped>\n",
       "    .dataframe tbody tr th:only-of-type {\n",
       "        vertical-align: middle;\n",
       "    }\n",
       "\n",
       "    .dataframe tbody tr th {\n",
       "        vertical-align: top;\n",
       "    }\n",
       "\n",
       "    .dataframe thead th {\n",
       "        text-align: right;\n",
       "    }\n",
       "</style>\n",
       "<table border=\"1\" class=\"dataframe\">\n",
       "  <thead>\n",
       "    <tr style=\"text-align: right;\">\n",
       "      <th></th>\n",
       "      <th>chrom</th>\n",
       "      <th>start</th>\n",
       "      <th>end</th>\n",
       "      <th>is_functional</th>\n",
       "      <th>is_functional_Nut1h</th>\n",
       "      <th>is_functional_Nut10h</th>\n",
       "      <th>in_promoter</th>\n",
       "      <th>in_active_promoter</th>\n",
       "      <th>in_enhancer</th>\n",
       "    </tr>\n",
       "  </thead>\n",
       "  <tbody>\n",
       "    <tr>\n",
       "      <th>0</th>\n",
       "      <td>17</td>\n",
       "      <td>81027504</td>\n",
       "      <td>81027726</td>\n",
       "      <td>True</td>\n",
       "      <td>True</td>\n",
       "      <td>False</td>\n",
       "      <td>False</td>\n",
       "      <td>False</td>\n",
       "      <td>False</td>\n",
       "    </tr>\n",
       "    <tr>\n",
       "      <th>1</th>\n",
       "      <td>4</td>\n",
       "      <td>75279228</td>\n",
       "      <td>75279450</td>\n",
       "      <td>False</td>\n",
       "      <td>False</td>\n",
       "      <td>False</td>\n",
       "      <td>False</td>\n",
       "      <td>False</td>\n",
       "      <td>False</td>\n",
       "    </tr>\n",
       "    <tr>\n",
       "      <th>2</th>\n",
       "      <td>6</td>\n",
       "      <td>26687121</td>\n",
       "      <td>26687343</td>\n",
       "      <td>True</td>\n",
       "      <td>True</td>\n",
       "      <td>True</td>\n",
       "      <td>False</td>\n",
       "      <td>False</td>\n",
       "      <td>False</td>\n",
       "    </tr>\n",
       "    <tr>\n",
       "      <th>3</th>\n",
       "      <td>1</td>\n",
       "      <td>68190934</td>\n",
       "      <td>68191156</td>\n",
       "      <td>True</td>\n",
       "      <td>True</td>\n",
       "      <td>True</td>\n",
       "      <td>False</td>\n",
       "      <td>False</td>\n",
       "      <td>True</td>\n",
       "    </tr>\n",
       "    <tr>\n",
       "      <th>4</th>\n",
       "      <td>2</td>\n",
       "      <td>19428605</td>\n",
       "      <td>19428827</td>\n",
       "      <td>True</td>\n",
       "      <td>False</td>\n",
       "      <td>True</td>\n",
       "      <td>False</td>\n",
       "      <td>False</td>\n",
       "      <td>False</td>\n",
       "    </tr>\n",
       "    <tr>\n",
       "      <th>...</th>\n",
       "      <td>...</td>\n",
       "      <td>...</td>\n",
       "      <td>...</td>\n",
       "      <td>...</td>\n",
       "      <td>...</td>\n",
       "      <td>...</td>\n",
       "      <td>...</td>\n",
       "      <td>...</td>\n",
       "      <td>...</td>\n",
       "    </tr>\n",
       "    <tr>\n",
       "      <th>5007</th>\n",
       "      <td>11</td>\n",
       "      <td>69811902</td>\n",
       "      <td>69812124</td>\n",
       "      <td>False</td>\n",
       "      <td>False</td>\n",
       "      <td>False</td>\n",
       "      <td>False</td>\n",
       "      <td>False</td>\n",
       "      <td>False</td>\n",
       "    </tr>\n",
       "    <tr>\n",
       "      <th>5008</th>\n",
       "      <td>15</td>\n",
       "      <td>22696787</td>\n",
       "      <td>22697009</td>\n",
       "      <td>False</td>\n",
       "      <td>False</td>\n",
       "      <td>False</td>\n",
       "      <td>False</td>\n",
       "      <td>False</td>\n",
       "      <td>False</td>\n",
       "    </tr>\n",
       "    <tr>\n",
       "      <th>5009</th>\n",
       "      <td>16</td>\n",
       "      <td>50299255</td>\n",
       "      <td>50299477</td>\n",
       "      <td>True</td>\n",
       "      <td>True</td>\n",
       "      <td>True</td>\n",
       "      <td>False</td>\n",
       "      <td>False</td>\n",
       "      <td>True</td>\n",
       "    </tr>\n",
       "    <tr>\n",
       "      <th>5010</th>\n",
       "      <td>21</td>\n",
       "      <td>44229761</td>\n",
       "      <td>44229983</td>\n",
       "      <td>False</td>\n",
       "      <td>False</td>\n",
       "      <td>False</td>\n",
       "      <td>False</td>\n",
       "      <td>False</td>\n",
       "      <td>False</td>\n",
       "    </tr>\n",
       "    <tr>\n",
       "      <th>5011</th>\n",
       "      <td>X</td>\n",
       "      <td>145152746</td>\n",
       "      <td>145152968</td>\n",
       "      <td>False</td>\n",
       "      <td>False</td>\n",
       "      <td>False</td>\n",
       "      <td>False</td>\n",
       "      <td>False</td>\n",
       "      <td>False</td>\n",
       "    </tr>\n",
       "  </tbody>\n",
       "</table>\n",
       "<p>5012 rows × 9 columns</p>\n",
       "</div>"
      ],
      "text/plain": [
       "     chrom      start        end  is_functional  is_functional_Nut1h  \\\n",
       "0       17   81027504   81027726           True                 True   \n",
       "1        4   75279228   75279450          False                False   \n",
       "2        6   26687121   26687343           True                 True   \n",
       "3        1   68190934   68191156           True                 True   \n",
       "4        2   19428605   19428827           True                False   \n",
       "...    ...        ...        ...            ...                  ...   \n",
       "5007    11   69811902   69812124          False                False   \n",
       "5008    15   22696787   22697009          False                False   \n",
       "5009    16   50299255   50299477           True                 True   \n",
       "5010    21   44229761   44229983          False                False   \n",
       "5011     X  145152746  145152968          False                False   \n",
       "\n",
       "      is_functional_Nut10h  in_promoter  in_active_promoter  in_enhancer  \n",
       "0                    False        False               False        False  \n",
       "1                    False        False               False        False  \n",
       "2                     True        False               False        False  \n",
       "3                     True        False               False         True  \n",
       "4                     True        False               False        False  \n",
       "...                    ...          ...                 ...          ...  \n",
       "5007                 False        False               False        False  \n",
       "5008                 False        False               False        False  \n",
       "5009                  True        False               False         True  \n",
       "5010                 False        False               False        False  \n",
       "5011                 False        False               False        False  \n",
       "\n",
       "[5012 rows x 9 columns]"
      ]
     },
     "execution_count": 6,
     "metadata": {},
     "output_type": "execute_result"
    }
   ],
   "source": [
    "p53 = pd.read_csv('../../data/ComplementaryData/p53bindingsites_annotated.txt', sep='\\t')\n",
    "p53 = p53.rename(columns={'chr': 'chrom'})\n",
    "p53"
   ]
  },
  {
   "cell_type": "code",
   "execution_count": 7,
   "id": "3c3b2d41-4aa4-461d-ba6f-ca2e1cf3bb9d",
   "metadata": {},
   "outputs": [
    {
     "name": "stderr",
     "output_type": "stream",
     "text": [
      "/home/fransua/.miniconda3/lib/python3.11/site-packages/bioframe/ops.py:573: FutureWarning: Setting an item of incompatible dtype is deprecated and will raise an error in a future version of pandas. Value 'nan' has dtype incompatible with bool, please explicitly cast to a compatible dtype first.\n",
      "  df_input_2[is_na_right] = None\n"
     ]
    }
   ],
   "source": [
    "comps = bf.overlap(comps, p53)"
   ]
  },
  {
   "cell_type": "code",
   "execution_count": 8,
   "id": "6d5dc219-baea-4db0-9d9d-51f1a668224e",
   "metadata": {},
   "outputs": [
    {
     "data": {
      "text/plain": [
       "Index(['chrom', 'start', 'end', 'WT-NUT-0h', 'WT-NUT-1h', 'WT-NUT-4h',\n",
       "       'WT-NUT-7h', 'WT-NUT-10h', 'WT-NUT-24h', 'WT-NUT-w24h', 'chrom_',\n",
       "       'start_', 'end_', 'is_functional_', 'is_functional_Nut1h_',\n",
       "       'is_functional_Nut10h_', 'in_promoter_', 'in_active_promoter_',\n",
       "       'in_enhancer_'],\n",
       "      dtype='object')"
      ]
     },
     "execution_count": 8,
     "metadata": {},
     "output_type": "execute_result"
    }
   ],
   "source": [
    "comps.columns"
   ]
  },
  {
   "cell_type": "code",
   "execution_count": 9,
   "id": "934b016e-bc88-481b-b2db-451a72ef3e1d",
   "metadata": {},
   "outputs": [
    {
     "name": "stderr",
     "output_type": "stream",
     "text": [
      "/tmp/ipykernel_88366/543225756.py:6: FutureWarning: Downcasting object dtype arrays on .fillna, .ffill, .bfill is deprecated and will change in a future version. Call result.infer_objects(copy=False) instead. To opt-in to the future behavior, set `pd.set_option('future.no_silent_downcasting', True)`\n",
      "  comps = comps.fillna(False)\n"
     ]
    }
   ],
   "source": [
    "comps = comps[\n",
    "['chrom', 'start', 'end', 'WT-NUT-0h', 'WT-NUT-1h', 'WT-NUT-4h',\n",
    " 'WT-NUT-7h', 'WT-NUT-10h', 'WT-NUT-24h', 'WT-NUT-w24h', 'is_functional_', 'is_functional_Nut1h_',\n",
    " 'is_functional_Nut10h_', 'in_promoter_', 'in_active_promoter_', 'in_enhancer_']]\n",
    "comps = comps.rename(columns=dict((k, k[:-1]) for k in comps.columns if k.endswith('_')))\n",
    "comps = comps.fillna(False)"
   ]
  },
  {
   "cell_type": "markdown",
   "id": "92607e8b-5ae3-4971-aea2-d52fc619b8d2",
   "metadata": {},
   "source": [
    "## Nut1h vs Nut 0h"
   ]
  },
  {
   "cell_type": "code",
   "execution_count": 13,
   "id": "dbdde4fb-f353-4f27-a499-90f277b78dba",
   "metadata": {},
   "outputs": [
    {
     "data": {
      "image/png": "[encoded data removed]",
      "text/plain": [
       "<Figure size 640x480 with 1 Axes>"
      ]
     },
     "metadata": {},
     "output_type": "display_data"
    }
   ],
   "source": [
    "AA = comps[(comps['WT-NUT-0h']>0) & (comps['WT-NUT-1h']>0)]\n",
    "p53AA = AA[AA['is_functional']==True]\n",
    "\n",
    "AB = comps[(comps['WT-NUT-0h']>0) & (comps['WT-NUT-1h']<0)]\n",
    "p53AB = AB[AB['is_functional']==True]\n",
    "\n",
    "BA = comps[(comps['WT-NUT-0h']<0) & (comps['WT-NUT-1h']>0)]\n",
    "p53BA = BA[BA['is_functional']==True]\n",
    "\n",
    "BB = comps[(comps['WT-NUT-0h']<0) & (comps['WT-NUT-1h']<0)]\n",
    "p53BB = BB[BB['is_functional']==True]\n",
    "\n",
    "bps = plt.boxplot([\n",
    "    AA   ['WT-NUT-1h'] - AA   ['WT-NUT-0h'],\n",
    "    p53AA['WT-NUT-1h'] - p53AA['WT-NUT-0h'],\n",
    "    AB   ['WT-NUT-1h'] - AB   ['WT-NUT-0h'],\n",
    "    p53AB['WT-NUT-1h'] - p53AB['WT-NUT-0h'],\n",
    "    BA   ['WT-NUT-1h'] - BA   ['WT-NUT-0h'],\n",
    "    p53BA['WT-NUT-1h'] - p53BA['WT-NUT-0h'],\n",
    "    BB   ['WT-NUT-1h'] - BB   ['WT-NUT-0h'],\n",
    "    p53BB['WT-NUT-1h'] - p53BB['WT-NUT-0h'],\n",
    "])"
   ]
  },
  {
   "cell_type": "code",
   "execution_count": 14,
   "id": "9c9a546a",
   "metadata": {},
   "outputs": [
    {
     "name": "stdout",
     "output_type": "stream",
     "text": [
      "MannwhitneyuResult(statistic=13817063.5, pvalue=0.9796462705684957)\n",
      "MannwhitneyuResult(statistic=1401.5, pvalue=0.43315506766095346)\n",
      "MannwhitneyuResult(statistic=31563.0, pvalue=0.005412668014678282)\n",
      "MannwhitneyuResult(statistic=1026883.5, pvalue=0.05457613322761161)\n"
     ]
    }
   ],
   "source": [
    "print(stats.mannwhitneyu(AA   ['WT-NUT-1h'] - AA   ['WT-NUT-0h'],\n",
    "                         p53AA['WT-NUT-1h'] - p53AA['WT-NUT-0h'], alternative='less'))\n",
    "print(stats.mannwhitneyu(AB   ['WT-NUT-1h'] - AB   ['WT-NUT-0h'],\n",
    "                         p53AB['WT-NUT-1h'] - p53AB['WT-NUT-0h'], alternative='less'))\n",
    "print(stats.mannwhitneyu(BA   ['WT-NUT-1h'] - BA   ['WT-NUT-0h'],\n",
    "                         p53BA['WT-NUT-1h'] - p53BA['WT-NUT-0h'], alternative='less'))\n",
    "print(stats.mannwhitneyu(BB   ['WT-NUT-1h'] - BB   ['WT-NUT-0h'],\n",
    "                         p53BB['WT-NUT-1h'] - p53BB['WT-NUT-0h'], alternative='less'))"
   ]
  },
  {
   "cell_type": "code",
   "execution_count": 15,
   "id": "0e709507-adfc-48f3-8987-132c6aefef4f",
   "metadata": {},
   "outputs": [
    {
     "data": {
      "text/plain": [
       "(16050, 1671, 416, 7, 1156, 67, 10154, 216)"
      ]
     },
     "execution_count": 15,
     "metadata": {},
     "output_type": "execute_result"
    }
   ],
   "source": [
    "len(AA), len(p53AA), len(AB), len(p53AB), len(BA), len(p53BA), len(BB), len(p53BB)"
   ]
  },
  {
   "cell_type": "markdown",
   "id": "b476baf6-9642-4ef0-a167-8b4f50ec11b7",
   "metadata": {},
   "source": [
    "## Nut10h vs Nut 0h"
   ]
  },
  {
   "cell_type": "code",
   "execution_count": 16,
   "id": "37f0efcd-632d-469f-833c-69f72026382f",
   "metadata": {},
   "outputs": [
    {
     "data": {
      "image/png": "[encoded data removed]",
      "text/plain": [
       "<Figure size 640x480 with 1 Axes>"
      ]
     },
     "metadata": {},
     "output_type": "display_data"
    }
   ],
   "source": [
    "AA = comps[(comps['WT-NUT-0h']>0) & (comps['WT-NUT-10h']>0)]\n",
    "p53AA = AA[AA['is_functional']==True]\n",
    "\n",
    "AB = comps[(comps['WT-NUT-0h']>0) & (comps['WT-NUT-10h']<0)]\n",
    "p53AB = AB[AB['is_functional']==True]\n",
    "\n",
    "BA = comps[(comps['WT-NUT-0h']<0) & (comps['WT-NUT-10h']>0)]\n",
    "p53BA = BA[BA['is_functional']==True]\n",
    "\n",
    "BB = comps[(comps['WT-NUT-0h']<0) & (comps['WT-NUT-10h']<0)]\n",
    "p53BB = BB[BB['is_functional']==True]\n",
    "\n",
    "bps = plt.boxplot([\n",
    "    AA   ['WT-NUT-10h'] - AA   ['WT-NUT-0h'],\n",
    "    p53AA['WT-NUT-10h'] - p53AA['WT-NUT-0h'],\n",
    "    AB   ['WT-NUT-10h'] - AB   ['WT-NUT-0h'],\n",
    "    p53AB['WT-NUT-10h'] - p53AB['WT-NUT-0h'],\n",
    "    BA   ['WT-NUT-10h'] - BA   ['WT-NUT-0h'],\n",
    "    p53BA['WT-NUT-10h'] - p53BA['WT-NUT-0h'],\n",
    "    BB   ['WT-NUT-10h'] - BB   ['WT-NUT-0h'],\n",
    "    p53BB['WT-NUT-10h'] - p53BB['WT-NUT-0h'],\n",
    "])"
   ]
  },
  {
   "cell_type": "code",
   "execution_count": 34,
   "id": "ac032f9a-c35b-4a57-ae9b-9ff47ba336cb",
   "metadata": {},
   "outputs": [
    {
     "name": "stdout",
     "output_type": "stream",
     "text": [
      "MannwhitneyuResult(statistic=11439701.5, pvalue=7.538227507769929e-07)\n",
      "MannwhitneyuResult(statistic=24320.5, pvalue=0.0023083485487883954)\n",
      "MannwhitneyuResult(statistic=1831.5, pvalue=0.04143140157897223)\n",
      "MannwhitneyuResult(statistic=1351169.0, pvalue=0.045623698674960106)\n"
     ]
    }
   ],
   "source": [
    "print(stats.mannwhitneyu(AA   ['WT-NUT-10h'] - AA   ['WT-NUT-0h'],\n",
    "                         p53AA['WT-NUT-10h'] - p53AA['WT-NUT-0h'], alternative='less'))\n",
    "print(stats.mannwhitneyu(AB   ['WT-NUT-10h'] - AB   ['WT-NUT-0h'],\n",
    "                         p53AB['WT-NUT-10h'] - p53AB['WT-NUT-0h'], alternative='less'))\n",
    "print(stats.mannwhitneyu(BA   ['WT-NUT-10h'] - BA   ['WT-NUT-0h'],\n",
    "                         p53BA['WT-NUT-10h'] - p53BA['WT-NUT-0h'], alternative='less'))\n",
    "print(stats.mannwhitneyu(BB   ['WT-NUT-10h'] - BB   ['WT-NUT-0h'],\n",
    "                         p53BB['WT-NUT-10h'] - p53BB['WT-NUT-0h'], alternative='less'))"
   ]
  },
  {
   "cell_type": "code",
   "execution_count": null,
   "id": "df80e5e5-ee8f-45d7-a486-8251143fb374",
   "metadata": {},
   "outputs": [],
   "source": []
  }
 ],
 "metadata": {
  "kernelspec": {
   "display_name": "base",
   "language": "python",
   "name": "base"
  },
  "language_info": {
   "codemirror_mode": {
    "name": "ipython",
    "version": 3
   },
   "file_extension": ".py",
   "mimetype": "text/x-python",
   "name": "python",
   "nbconvert_exporter": "python",
   "pygments_lexer": "ipython3",
   "version": "3.11.5"
  },
  "notify_time": "5",
  "toc": {
   "base_numbering": 1,
   "nav_menu": {},
   "number_sections": false,
   "sideBar": true,
   "skip_h1_title": false,
   "title_cell": "Table of Contents",
   "title_sidebar": "Contents",
   "toc_cell": false,
   "toc_position": {},
   "toc_section_display": true,
   "toc_window_display": false
  }
 },
 "nbformat": 4,
 "nbformat_minor": 5
}
