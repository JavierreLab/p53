{
 "cells": [
  {
   "cell_type": "code",
   "execution_count": 1,
   "id": "2c328655",
   "metadata": {
    "ExecuteTime": {
     "end_time": "2023-12-19T16:18:43.570697Z",
     "start_time": "2023-12-19T16:18:42.888857Z"
    }
   },
   "outputs": [
    {
     "name": "stderr",
     "output_type": "stream",
     "text": [
      "/tmp/ipykernel_47986/3213813731.py:1: DeprecationWarning: \n",
      "Pyarrow will become a required dependency of pandas in the next major release of pandas (pandas 3.0),\n",
      "(to allow more performant data types, such as the Arrow string type, and better interoperability with other libraries)\n",
      "but was not found to be installed on your system.\n",
      "If this would cause problems for you,\n",
      "please provide us feedback at https://github.com/pandas-dev/pandas/issues/54466\n",
      "        \n",
      "  import pandas as pd\n"
     ]
    }
   ],
   "source": [
    "import pandas as pd\n",
    "import numpy as np\n",
    "from matplotlib import pyplot as plt"
   ]
  },
  {
   "cell_type": "code",
   "execution_count": 2,
   "id": "f3775da3",
   "metadata": {
    "ExecuteTime": {
     "end_time": "2023-12-19T16:18:43.573394Z",
     "start_time": "2023-12-19T16:18:43.571781Z"
    }
   },
   "outputs": [],
   "source": [
    "plt.rcParams[\"font.family\"] = \"Arial Narrow\""
   ]
  },
  {
   "cell_type": "code",
   "execution_count": 21,
   "id": "f2537a77",
   "metadata": {
    "ExecuteTime": {
     "end_time": "2023-09-18T15:37:13.931696Z",
     "start_time": "2023-09-18T15:37:13.928744Z"
    }
   },
   "outputs": [],
   "source": [
    "data_ori = pd.read_csv('/home/fransua/Projects/Monica_p53/data/qrtpcr/qRTPCR_results_WT_KD.txt', sep='\\t')"
   ]
  },
  {
   "cell_type": "code",
   "execution_count": 4,
   "id": "a728c053",
   "metadata": {
    "ExecuteTime": {
     "end_time": "2023-12-19T16:18:43.848523Z",
     "start_time": "2023-12-19T16:18:43.836521Z"
    }
   },
   "outputs": [],
   "source": [
    "data_ori = pd.read_csv('/home/fransua/Projects/Monica_p53/data/qrtpcr/qPCR_data_figureS7C.txt', sep='\\t')"
   ]
  },
  {
   "cell_type": "code",
   "execution_count": 22,
   "id": "f2cd9991",
   "metadata": {
    "ExecuteTime": {
     "end_time": "2023-12-19T16:18:45.108940Z",
     "start_time": "2023-12-19T16:18:45.084201Z"
    }
   },
   "outputs": [
    {
     "data": {
      "text/html": [
       "<div>\n",
       "<style scoped>\n",
       "    .dataframe tbody tr th:only-of-type {\n",
       "        vertical-align: middle;\n",
       "    }\n",
       "\n",
       "    .dataframe tbody tr th {\n",
       "        vertical-align: top;\n",
       "    }\n",
       "\n",
       "    .dataframe thead th {\n",
       "        text-align: right;\n",
       "    }\n",
       "</style>\n",
       "<table border=\"1\" class=\"dataframe\">\n",
       "  <thead>\n",
       "    <tr style=\"text-align: right;\">\n",
       "      <th></th>\n",
       "      <th>Cond</th>\n",
       "      <th>BR</th>\n",
       "      <th>variable</th>\n",
       "      <th>value</th>\n",
       "    </tr>\n",
       "  </thead>\n",
       "  <tbody>\n",
       "    <tr>\n",
       "      <th>0</th>\n",
       "      <td>WTNut0h</td>\n",
       "      <td>BR1</td>\n",
       "      <td>TGFBR2</td>\n",
       "      <td>1.104</td>\n",
       "    </tr>\n",
       "    <tr>\n",
       "      <th>1</th>\n",
       "      <td>WTNut0h</td>\n",
       "      <td>BR2</td>\n",
       "      <td>TGFBR2</td>\n",
       "      <td>1.002</td>\n",
       "    </tr>\n",
       "    <tr>\n",
       "      <th>2</th>\n",
       "      <td>WTNut0h</td>\n",
       "      <td>BR3</td>\n",
       "      <td>TGFBR2</td>\n",
       "      <td>0.903</td>\n",
       "    </tr>\n",
       "    <tr>\n",
       "      <th>3</th>\n",
       "      <td>WTNut1h</td>\n",
       "      <td>BR1</td>\n",
       "      <td>TGFBR2</td>\n",
       "      <td>2.540</td>\n",
       "    </tr>\n",
       "    <tr>\n",
       "      <th>4</th>\n",
       "      <td>WTNut1h</td>\n",
       "      <td>BR2</td>\n",
       "      <td>TGFBR2</td>\n",
       "      <td>1.265</td>\n",
       "    </tr>\n",
       "    <tr>\n",
       "      <th>...</th>\n",
       "      <td>...</td>\n",
       "      <td>...</td>\n",
       "      <td>...</td>\n",
       "      <td>...</td>\n",
       "    </tr>\n",
       "    <tr>\n",
       "      <th>301</th>\n",
       "      <td>KDNut1h</td>\n",
       "      <td>BR2</td>\n",
       "      <td>BAX</td>\n",
       "      <td>1.674</td>\n",
       "    </tr>\n",
       "    <tr>\n",
       "      <th>302</th>\n",
       "      <td>KDNut1h</td>\n",
       "      <td>BR3</td>\n",
       "      <td>BAX</td>\n",
       "      <td>1.666</td>\n",
       "    </tr>\n",
       "    <tr>\n",
       "      <th>303</th>\n",
       "      <td>KDNut10h</td>\n",
       "      <td>BR1</td>\n",
       "      <td>BAX</td>\n",
       "      <td>9.947</td>\n",
       "    </tr>\n",
       "    <tr>\n",
       "      <th>304</th>\n",
       "      <td>KDNut10h</td>\n",
       "      <td>BR2</td>\n",
       "      <td>BAX</td>\n",
       "      <td>10.273</td>\n",
       "    </tr>\n",
       "    <tr>\n",
       "      <th>305</th>\n",
       "      <td>KDNut10h</td>\n",
       "      <td>BR3</td>\n",
       "      <td>BAX</td>\n",
       "      <td>10.270</td>\n",
       "    </tr>\n",
       "  </tbody>\n",
       "</table>\n",
       "<p>306 rows × 4 columns</p>\n",
       "</div>"
      ],
      "text/plain": [
       "         Cond   BR variable   value\n",
       "0     WTNut0h  BR1   TGFBR2   1.104\n",
       "1     WTNut0h  BR2   TGFBR2   1.002\n",
       "2     WTNut0h  BR3   TGFBR2   0.903\n",
       "3     WTNut1h  BR1   TGFBR2   2.540\n",
       "4     WTNut1h  BR2   TGFBR2   1.265\n",
       "..        ...  ...      ...     ...\n",
       "301   KDNut1h  BR2      BAX   1.674\n",
       "302   KDNut1h  BR3      BAX   1.666\n",
       "303  KDNut10h  BR1      BAX   9.947\n",
       "304  KDNut10h  BR2      BAX  10.273\n",
       "305  KDNut10h  BR3      BAX  10.270\n",
       "\n",
       "[306 rows x 4 columns]"
      ]
     },
     "execution_count": 22,
     "metadata": {},
     "output_type": "execute_result"
    }
   ],
   "source": [
    "data_ori"
   ]
  },
  {
   "cell_type": "code",
   "execution_count": 23,
   "id": "7b947ef7",
   "metadata": {
    "ExecuteTime": {
     "end_time": "2023-09-18T15:37:14.659711Z",
     "start_time": "2023-09-18T15:37:14.641464Z"
    }
   },
   "outputs": [],
   "source": [
    "data = data_ori.groupby(['variable', 'Cond'], as_index=False).agg({'value': [list, 'mean', 'std']}).reset_index()\n",
    "data.columns = [col[-1] or col[0] for col in data.columns]\n",
    "data['list'] = data['list'].apply(lambda x: np.array(x))"
   ]
  },
  {
   "cell_type": "code",
   "execution_count": 24,
   "id": "292ff79e",
   "metadata": {
    "ExecuteTime": {
     "end_time": "2023-09-18T15:37:14.911010Z",
     "start_time": "2023-09-18T15:37:14.895802Z"
    }
   },
   "outputs": [
    {
     "data": {
      "text/html": [
       "<div>\n",
       "<style scoped>\n",
       "    .dataframe tbody tr th:only-of-type {\n",
       "        vertical-align: middle;\n",
       "    }\n",
       "\n",
       "    .dataframe tbody tr th {\n",
       "        vertical-align: top;\n",
       "    }\n",
       "\n",
       "    .dataframe thead th {\n",
       "        text-align: right;\n",
       "    }\n",
       "</style>\n",
       "<table border=\"1\" class=\"dataframe\">\n",
       "  <thead>\n",
       "    <tr style=\"text-align: right;\">\n",
       "      <th></th>\n",
       "      <th>index</th>\n",
       "      <th>variable</th>\n",
       "      <th>Cond</th>\n",
       "      <th>list</th>\n",
       "      <th>mean</th>\n",
       "      <th>std</th>\n",
       "    </tr>\n",
       "  </thead>\n",
       "  <tbody>\n",
       "    <tr>\n",
       "      <th>0</th>\n",
       "      <td>0</td>\n",
       "      <td>ACTR8</td>\n",
       "      <td>KDNut0h</td>\n",
       "      <td>[0.894, 1.395, 0.802]</td>\n",
       "      <td>1.030333</td>\n",
       "      <td>0.319143</td>\n",
       "    </tr>\n",
       "    <tr>\n",
       "      <th>1</th>\n",
       "      <td>1</td>\n",
       "      <td>ACTR8</td>\n",
       "      <td>KDNut10h</td>\n",
       "      <td>[1.824, 2.08, 1.419]</td>\n",
       "      <td>1.774333</td>\n",
       "      <td>0.333287</td>\n",
       "    </tr>\n",
       "    <tr>\n",
       "      <th>2</th>\n",
       "      <td>2</td>\n",
       "      <td>ACTR8</td>\n",
       "      <td>KDNut1h</td>\n",
       "      <td>[0.942, 1.293, 0.817]</td>\n",
       "      <td>1.017333</td>\n",
       "      <td>0.246780</td>\n",
       "    </tr>\n",
       "    <tr>\n",
       "      <th>3</th>\n",
       "      <td>3</td>\n",
       "      <td>ACTR8</td>\n",
       "      <td>WTNut0h</td>\n",
       "      <td>[1.101, 1.133, 0.802]</td>\n",
       "      <td>1.012000</td>\n",
       "      <td>0.182568</td>\n",
       "    </tr>\n",
       "    <tr>\n",
       "      <th>4</th>\n",
       "      <td>4</td>\n",
       "      <td>ACTR8</td>\n",
       "      <td>WTNut10h</td>\n",
       "      <td>[1.969, 1.479, 1.077]</td>\n",
       "      <td>1.508333</td>\n",
       "      <td>0.446723</td>\n",
       "    </tr>\n",
       "    <tr>\n",
       "      <th>...</th>\n",
       "      <td>...</td>\n",
       "      <td>...</td>\n",
       "      <td>...</td>\n",
       "      <td>...</td>\n",
       "      <td>...</td>\n",
       "      <td>...</td>\n",
       "    </tr>\n",
       "    <tr>\n",
       "      <th>97</th>\n",
       "      <td>97</td>\n",
       "      <td>TP53</td>\n",
       "      <td>KDNut10h</td>\n",
       "      <td>[1.445, 1.216, 1.473]</td>\n",
       "      <td>1.378000</td>\n",
       "      <td>0.140993</td>\n",
       "    </tr>\n",
       "    <tr>\n",
       "      <th>98</th>\n",
       "      <td>98</td>\n",
       "      <td>TP53</td>\n",
       "      <td>KDNut1h</td>\n",
       "      <td>[0.694, 0.418, 0.519]</td>\n",
       "      <td>0.543667</td>\n",
       "      <td>0.139644</td>\n",
       "    </tr>\n",
       "    <tr>\n",
       "      <th>99</th>\n",
       "      <td>99</td>\n",
       "      <td>TP53</td>\n",
       "      <td>WTNut0h</td>\n",
       "      <td>[1.09, 0.928, 0.989]</td>\n",
       "      <td>1.002333</td>\n",
       "      <td>0.081819</td>\n",
       "    </tr>\n",
       "    <tr>\n",
       "      <th>100</th>\n",
       "      <td>100</td>\n",
       "      <td>TP53</td>\n",
       "      <td>WTNut10h</td>\n",
       "      <td>[2.025, 0.9, 1.146]</td>\n",
       "      <td>1.357000</td>\n",
       "      <td>0.591436</td>\n",
       "    </tr>\n",
       "    <tr>\n",
       "      <th>101</th>\n",
       "      <td>101</td>\n",
       "      <td>TP53</td>\n",
       "      <td>WTNut1h</td>\n",
       "      <td>[0.765, 0.483, 0.689]</td>\n",
       "      <td>0.645667</td>\n",
       "      <td>0.145909</td>\n",
       "    </tr>\n",
       "  </tbody>\n",
       "</table>\n",
       "<p>102 rows × 6 columns</p>\n",
       "</div>"
      ],
      "text/plain": [
       "     index variable      Cond                   list      mean       std\n",
       "0        0    ACTR8   KDNut0h  [0.894, 1.395, 0.802]  1.030333  0.319143\n",
       "1        1    ACTR8  KDNut10h   [1.824, 2.08, 1.419]  1.774333  0.333287\n",
       "2        2    ACTR8   KDNut1h  [0.942, 1.293, 0.817]  1.017333  0.246780\n",
       "3        3    ACTR8   WTNut0h  [1.101, 1.133, 0.802]  1.012000  0.182568\n",
       "4        4    ACTR8  WTNut10h  [1.969, 1.479, 1.077]  1.508333  0.446723\n",
       "..     ...      ...       ...                    ...       ...       ...\n",
       "97      97     TP53  KDNut10h  [1.445, 1.216, 1.473]  1.378000  0.140993\n",
       "98      98     TP53   KDNut1h  [0.694, 0.418, 0.519]  0.543667  0.139644\n",
       "99      99     TP53   WTNut0h   [1.09, 0.928, 0.989]  1.002333  0.081819\n",
       "100    100     TP53  WTNut10h    [2.025, 0.9, 1.146]  1.357000  0.591436\n",
       "101    101     TP53   WTNut1h  [0.765, 0.483, 0.689]  0.645667  0.145909\n",
       "\n",
       "[102 rows x 6 columns]"
      ]
     },
     "execution_count": 24,
     "metadata": {},
     "output_type": "execute_result"
    }
   ],
   "source": [
    "data"
   ]
  },
  {
   "cell_type": "code",
   "execution_count": 25,
   "id": "74a08ad3",
   "metadata": {
    "ExecuteTime": {
     "end_time": "2023-09-18T15:37:15.331680Z",
     "start_time": "2023-09-18T15:37:15.328999Z"
    }
   },
   "outputs": [
    {
     "data": {
      "text/plain": [
       "['index', 'variable', 'Cond', 'list', 'mean', 'std']"
      ]
     },
     "execution_count": 25,
     "metadata": {},
     "output_type": "execute_result"
    }
   ],
   "source": [
    "[col for col in data.columns]"
   ]
  },
  {
   "cell_type": "code",
   "execution_count": 26,
   "id": "ebd0271f",
   "metadata": {
    "ExecuteTime": {
     "end_time": "2023-09-18T15:37:15.902455Z",
     "start_time": "2023-09-18T15:37:15.896951Z"
    }
   },
   "outputs": [],
   "source": [
    "gene_order = [\n",
    "    'TGFBR2',\n",
    "    'GSR',\n",
    "    'LAMC1',\n",
    "    'PLK2',\n",
    "    'JAG2',\n",
    "    'BRD7',\n",
    "    'PPP1CB',\n",
    "    'TENT4B',\n",
    "    'TEP1',\n",
    "    'CD9',\n",
    "    'ACTR8',\n",
    "    'CHD4',\n",
    "    'PPM1D',\n",
    "#     'TGFA',   # \n",
    "#     'BAX',    # \n",
    "#     'CDKN1A', #\n",
    "#     'TP53',   # \n",
    "]"
   ]
  },
  {
   "cell_type": "code",
   "execution_count": 27,
   "id": "700e8ea4",
   "metadata": {
    "ExecuteTime": {
     "end_time": "2023-09-18T15:37:17.352350Z",
     "start_time": "2023-09-18T15:37:17.350258Z"
    }
   },
   "outputs": [
    {
     "name": "stdout",
     "output_type": "stream",
     "text": [
      "ACTR8, BRD7, CD9, CHD4, GSR, JAG2, LAMC1, PLK2, PPM1D, PPP1CB, TENT4B, TEP1, TGFBR2\n"
     ]
    }
   ],
   "source": [
    "print(', '.join(sorted(gene_order)))"
   ]
  },
  {
   "cell_type": "code",
   "execution_count": 28,
   "id": "eff5f75d",
   "metadata": {
    "ExecuteTime": {
     "end_time": "2023-09-18T15:37:17.916377Z",
     "start_time": "2023-09-18T15:37:17.911448Z"
    }
   },
   "outputs": [],
   "source": [
    "names = {    \n",
    "    'WTNut0h' : '0h WT',\n",
    "    'KDNut0h' : '0h KD' ,\n",
    "    'WTNut1h' : '1h WT' ,\n",
    "    'KDNut1h' : '1h KD' ,\n",
    "    'WTNut10h': '10h WT',\n",
    "    'KDNut10h': '10h KD',\n",
    "}"
   ]
  },
  {
   "cell_type": "code",
   "execution_count": 29,
   "id": "4a847e60",
   "metadata": {
    "ExecuteTime": {
     "end_time": "2023-09-18T15:37:18.963679Z",
     "start_time": "2023-09-18T15:37:18.961918Z"
    }
   },
   "outputs": [],
   "source": [
    "sample_order = [\n",
    "    'WTNut0h',\n",
    "    'KDNut0h',\n",
    "    'WTNut1h',\n",
    "    'KDNut1h',\n",
    "    'WTNut10h',\n",
    "    'KDNut10h',\n",
    "]"
   ]
  },
  {
   "cell_type": "code",
   "execution_count": 33,
   "id": "ea3404ee-264e-428e-ae88-f92efe8192ce",
   "metadata": {},
   "outputs": [
    {
     "data": {
      "text/html": [
       "<div>\n",
       "<style scoped>\n",
       "    .dataframe tbody tr th:only-of-type {\n",
       "        vertical-align: middle;\n",
       "    }\n",
       "\n",
       "    .dataframe tbody tr th {\n",
       "        vertical-align: top;\n",
       "    }\n",
       "\n",
       "    .dataframe thead th {\n",
       "        text-align: right;\n",
       "    }\n",
       "</style>\n",
       "<table border=\"1\" class=\"dataframe\">\n",
       "  <thead>\n",
       "    <tr style=\"text-align: right;\">\n",
       "      <th></th>\n",
       "      <th>index</th>\n",
       "      <th>variable</th>\n",
       "      <th>Cond</th>\n",
       "      <th>list</th>\n",
       "      <th>mean</th>\n",
       "      <th>std</th>\n",
       "    </tr>\n",
       "  </thead>\n",
       "  <tbody>\n",
       "    <tr>\n",
       "      <th>90</th>\n",
       "      <td>90</td>\n",
       "      <td>TGFBR2</td>\n",
       "      <td>KDNut0h</td>\n",
       "      <td>[1.13160518444666, 1.0538384845463606, 0.83150...</td>\n",
       "      <td>1.008667</td>\n",
       "      <td>0.156212</td>\n",
       "    </tr>\n",
       "  </tbody>\n",
       "</table>\n",
       "</div>"
      ],
      "text/plain": [
       "    index variable     Cond  \\\n",
       "90     90   TGFBR2  KDNut0h   \n",
       "\n",
       "                                                 list      mean       std  \n",
       "90  [1.13160518444666, 1.0538384845463606, 0.83150...  1.008667  0.156212  "
      ]
     },
     "execution_count": 33,
     "metadata": {},
     "output_type": "execute_result"
    }
   ],
   "source": [
    "line"
   ]
  },
  {
   "cell_type": "code",
   "execution_count": 39,
   "id": "154d4cde",
   "metadata": {
    "ExecuteTime": {
     "end_time": "2023-09-18T15:37:19.378079Z",
     "start_time": "2023-09-18T15:37:19.300346Z"
    }
   },
   "outputs": [
    {
     "ename": "IndentationError",
     "evalue": "expected an indented block after 'else' statement on line 11 (1211834752.py, line 13)",
     "output_type": "error",
     "traceback": [
      "\u001b[0;36m  Cell \u001b[0;32mIn[39], line 13\u001b[0;36m\u001b[0m\n\u001b[0;31m    prev_line = line.copy()\u001b[0m\n\u001b[0m    ^\u001b[0m\n\u001b[0;31mIndentationError\u001b[0m\u001b[0;31m:\u001b[0m expected an indented block after 'else' statement on line 11\n"
     ]
    }
   ],
   "source": [
    "lines = None\n",
    "for g in gene_order:\n",
    "    for s in sample_order:\n",
    "        line = data[(data['variable'] == g) & (data['Cond'] == s)].copy()\n",
    "        if list(line['Cond'].str.contains('WT'))[0]:\n",
    "            line['list'] = line['list'] / line['mean']\n",
    "        else:\n",
    "            line['list'] = line['list'] / list(prev_line['mean'])[0]\n",
    "        if lines is None:\n",
    "            lines = line\n",
    "        else:\n",
    "            # lines = lines.append(line)\n",
    "        prev_line = line.copy()"
   ]
  },
  {
   "cell_type": "code",
   "execution_count": 40,
   "id": "e96177fe",
   "metadata": {
    "ExecuteTime": {
     "end_time": "2023-09-18T15:37:20.188641Z",
     "start_time": "2023-09-18T15:37:20.180815Z"
    }
   },
   "outputs": [
    {
     "data": {
      "text/html": [
       "<div>\n",
       "<style scoped>\n",
       "    .dataframe tbody tr th:only-of-type {\n",
       "        vertical-align: middle;\n",
       "    }\n",
       "\n",
       "    .dataframe tbody tr th {\n",
       "        vertical-align: top;\n",
       "    }\n",
       "\n",
       "    .dataframe thead th {\n",
       "        text-align: right;\n",
       "    }\n",
       "</style>\n",
       "<table border=\"1\" class=\"dataframe\">\n",
       "  <thead>\n",
       "    <tr style=\"text-align: right;\">\n",
       "      <th></th>\n",
       "      <th>index</th>\n",
       "      <th>variable</th>\n",
       "      <th>Cond</th>\n",
       "      <th>list</th>\n",
       "      <th>mean</th>\n",
       "      <th>std</th>\n",
       "    </tr>\n",
       "  </thead>\n",
       "  <tbody>\n",
       "    <tr>\n",
       "      <th>0</th>\n",
       "      <td>93</td>\n",
       "      <td>TGFBR2</td>\n",
       "      <td>WTNut0h</td>\n",
       "      <td>[1.1006979062811566, 0.9990029910269191, 0.900...</td>\n",
       "      <td>1.003000</td>\n",
       "      <td>0.100504</td>\n",
       "    </tr>\n",
       "    <tr>\n",
       "      <th>1</th>\n",
       "      <td>90</td>\n",
       "      <td>TGFBR2</td>\n",
       "      <td>KDNut0h</td>\n",
       "      <td>[1.13160518444666, 1.0538384845463606, 0.83150...</td>\n",
       "      <td>1.008667</td>\n",
       "      <td>0.156212</td>\n",
       "    </tr>\n",
       "    <tr>\n",
       "      <th>2</th>\n",
       "      <td>95</td>\n",
       "      <td>TGFBR2</td>\n",
       "      <td>WTNut1h</td>\n",
       "      <td>[1.4897360703812317, 0.7419354838709676, 0.768...</td>\n",
       "      <td>1.705000</td>\n",
       "      <td>0.723481</td>\n",
       "    </tr>\n",
       "    <tr>\n",
       "      <th>3</th>\n",
       "      <td>92</td>\n",
       "      <td>TGFBR2</td>\n",
       "      <td>KDNut1h</td>\n",
       "      <td>[0.7759530791788856, 1.118475073313783, 0.6011...</td>\n",
       "      <td>1.418333</td>\n",
       "      <td>0.448662</td>\n",
       "    </tr>\n",
       "    <tr>\n",
       "      <th>4</th>\n",
       "      <td>94</td>\n",
       "      <td>TGFBR2</td>\n",
       "      <td>WTNut10h</td>\n",
       "      <td>[0.9063814866760167, 1.08765778401122, 1.00596...</td>\n",
       "      <td>2.852000</td>\n",
       "      <td>0.258919</td>\n",
       "    </tr>\n",
       "    <tr>\n",
       "      <th>...</th>\n",
       "      <td>...</td>\n",
       "      <td>...</td>\n",
       "      <td>...</td>\n",
       "      <td>...</td>\n",
       "      <td>...</td>\n",
       "      <td>...</td>\n",
       "    </tr>\n",
       "    <tr>\n",
       "      <th>73</th>\n",
       "      <td>60</td>\n",
       "      <td>PPM1D</td>\n",
       "      <td>KDNut0h</td>\n",
       "      <td>[1.1296538210320053, 1.0473546701502285, 0.794...</td>\n",
       "      <td>1.011000</td>\n",
       "      <td>0.178225</td>\n",
       "    </tr>\n",
       "    <tr>\n",
       "      <th>74</th>\n",
       "      <td>65</td>\n",
       "      <td>PPM1D</td>\n",
       "      <td>WTNut1h</td>\n",
       "      <td>[1.1245128966413063, 1.0170718129523102, 0.858...</td>\n",
       "      <td>1.796333</td>\n",
       "      <td>0.240471</td>\n",
       "    </tr>\n",
       "    <tr>\n",
       "      <th>75</th>\n",
       "      <td>62</td>\n",
       "      <td>PPM1D</td>\n",
       "      <td>KDNut1h</td>\n",
       "      <td>[0.5121543885693078, 0.580627203562813, 0.4169...</td>\n",
       "      <td>0.904000</td>\n",
       "      <td>0.147652</td>\n",
       "    </tr>\n",
       "    <tr>\n",
       "      <th>76</th>\n",
       "      <td>64</td>\n",
       "      <td>PPM1D</td>\n",
       "      <td>WTNut10h</td>\n",
       "      <td>[1.2884371029224904, 0.6908415599648128, 1.020...</td>\n",
       "      <td>3.410333</td>\n",
       "      <td>1.020836</td>\n",
       "    </tr>\n",
       "    <tr>\n",
       "      <th>77</th>\n",
       "      <td>61</td>\n",
       "      <td>PPM1D</td>\n",
       "      <td>KDNut10h</td>\n",
       "      <td>[1.4781546280910958, 1.2582347766591733, 0.874...</td>\n",
       "      <td>4.105000</td>\n",
       "      <td>1.041532</td>\n",
       "    </tr>\n",
       "  </tbody>\n",
       "</table>\n",
       "<p>78 rows × 6 columns</p>\n",
       "</div>"
      ],
      "text/plain": [
       "    index variable      Cond  \\\n",
       "0      93   TGFBR2   WTNut0h   \n",
       "1      90   TGFBR2   KDNut0h   \n",
       "2      95   TGFBR2   WTNut1h   \n",
       "3      92   TGFBR2   KDNut1h   \n",
       "4      94   TGFBR2  WTNut10h   \n",
       "..    ...      ...       ...   \n",
       "73     60    PPM1D   KDNut0h   \n",
       "74     65    PPM1D   WTNut1h   \n",
       "75     62    PPM1D   KDNut1h   \n",
       "76     64    PPM1D  WTNut10h   \n",
       "77     61    PPM1D  KDNut10h   \n",
       "\n",
       "                                                 list      mean       std  \n",
       "0   [1.1006979062811566, 0.9990029910269191, 0.900...  1.003000  0.100504  \n",
       "1   [1.13160518444666, 1.0538384845463606, 0.83150...  1.008667  0.156212  \n",
       "2   [1.4897360703812317, 0.7419354838709676, 0.768...  1.705000  0.723481  \n",
       "3   [0.7759530791788856, 1.118475073313783, 0.6011...  1.418333  0.448662  \n",
       "4   [0.9063814866760167, 1.08765778401122, 1.00596...  2.852000  0.258919  \n",
       "..                                                ...       ...       ...  \n",
       "73  [1.1296538210320053, 1.0473546701502285, 0.794...  1.011000  0.178225  \n",
       "74  [1.1245128966413063, 1.0170718129523102, 0.858...  1.796333  0.240471  \n",
       "75  [0.5121543885693078, 0.580627203562813, 0.4169...  0.904000  0.147652  \n",
       "76  [1.2884371029224904, 0.6908415599648128, 1.020...  3.410333  1.020836  \n",
       "77  [1.4781546280910958, 1.2582347766591733, 0.874...  4.105000  1.041532  \n",
       "\n",
       "[78 rows x 6 columns]"
      ]
     },
     "execution_count": 40,
     "metadata": {},
     "output_type": "execute_result"
    }
   ],
   "source": [
    "lines"
   ]
  },
  {
   "cell_type": "code",
   "execution_count": 41,
   "id": "49912fd3",
   "metadata": {
    "ExecuteTime": {
     "end_time": "2023-09-18T15:37:23.463085Z",
     "start_time": "2023-09-18T15:37:23.260140Z"
    }
   },
   "outputs": [],
   "source": [
    "from scipy.stats import wilcoxon"
   ]
  },
  {
   "cell_type": "code",
   "execution_count": 42,
   "id": "5874ef2a",
   "metadata": {
    "ExecuteTime": {
     "end_time": "2023-09-18T15:37:45.636421Z",
     "start_time": "2023-09-18T15:37:45.630238Z"
    }
   },
   "outputs": [
    {
     "data": {
      "text/plain": [
       "['WTNut0h', 'KDNut0h', 'WTNut1h', 'KDNut1h', 'WTNut10h', 'KDNut10h']"
      ]
     },
     "execution_count": 42,
     "metadata": {},
     "output_type": "execute_result"
    }
   ],
   "source": [
    "sample_order"
   ]
  },
  {
   "cell_type": "code",
   "execution_count": 44,
   "id": "0baf8f80",
   "metadata": {
    "ExecuteTime": {
     "end_time": "2023-09-18T15:37:26.220073Z",
     "start_time": "2023-09-18T15:37:26.069651Z"
    }
   },
   "outputs": [
    {
     "name": "stdout",
     "output_type": "stream",
     "text": [
      "369.0 0.9826446560128709\n",
      "55.0 2.0684092305600643e-07\n",
      "88.0 5.757588951382786e-06\n"
     ]
    },
    {
     "name": "stderr",
     "output_type": "stream",
     "text": [
      "/home/fransua/.miniconda3/lib/python3.11/site-packages/scipy/stats/_morestats.py:4088: UserWarning: Exact p-value calculation does not work if there are zeros. Switching to normal approximation.\n",
      "  warnings.warn(\"Exact p-value calculation does not work if there are \"\n"
     ]
    },
    {
     "data": {
      "image/png": "[encoded data removed]",
      "text/plain": [
       "<Figure size 600x400 with 1 Axes>"
      ]
     },
     "metadata": {},
     "output_type": "display_data"
    }
   ],
   "source": [
    "plt.figure(figsize=(3, 2), dpi=200)\n",
    "ax = plt.subplot()\n",
    "vals = [\n",
    "    [v for g in gene_order \n",
    "     for v in list(lines[(lines['variable']==g) & (lines['Cond']==s)]['list'])[0]] \n",
    "    for s in sample_order\n",
    "]\n",
    "stats = []\n",
    "y0 = 1.68\n",
    "y1 = 1.72\n",
    "yt = 1.75\n",
    "positions = [1.1, 1.9, 3.1, 3.9, 5.1, 5.9]\n",
    "for n, v1 in enumerate(vals[::2]):\n",
    "    v2 = vals[1 + n * 2]\n",
    "    r, pv = wilcoxon(v1, v2)\n",
    "    print (r, pv)\n",
    "#     plt.plot([x0, x1, x1, x0], [n * 2 + 1, n * 2 + 1, n * 2 + 2, n * 2 + 2], color='k')\n",
    "    plt.plot([positions[n * 2], positions[n * 2], positions[n * 2 + 1],\n",
    "              positions[n * 2 + 1]], [y0, y1, y1, y0], color='k')\n",
    "    plt.text(n * 2 + 1.5, yt, '*' if pv < 0.05 else 'ns', ha='center', size=8)\n",
    "plt.ylim(0.3, 1.9)\n",
    "\n",
    "colors = [\n",
    "    (253 / 256, 231 / 256,  36 / 256, 0.5), #  0h WT\n",
    "    (226 / 256, 226 / 256, 226 / 256, 0.5), #  0h KD\n",
    "    ( 54 / 256, 181 / 256, 120 / 256, 0.5), #  1h WT\n",
    "    (174 / 256, 174 / 256, 174 / 256, 0.5), #  1h KD\n",
    "    ( 66 / 256,  54 / 256, 126 / 256, 0.5), # 10h WT\n",
    "    (114 / 256, 114 / 256, 114 / 256, 0.5), # 10h KD\n",
    "]\n",
    "\n",
    "bps = plt.boxplot(vals, vert=True, positions=positions, showcaps=False, showfliers=False, patch_artist=True,\n",
    "                  boxprops=dict(facecolor='none', color='k'), medianprops=dict(color='k'), widths=0.3)\n",
    "for n, b in enumerate(bps['boxes']):\n",
    "    b.set_facecolor(colors[n])\n",
    "                  \n",
    "vls = plt.violinplot(vals, vert=True, positions=positions, showextrema=False)\n",
    "for n, v in enumerate(vls['bodies']):\n",
    "    v.set_facecolor(\"None\")\n",
    "    v.set_edgecolor(list(colors[n][:-1]) + [20])\n",
    "    v.set_linewidth(0.9)\n",
    "    v.set_alpha(1)\n",
    "\n",
    "plt.grid(axis='y')\n",
    "\n",
    "plt.xticks(positions, [names[s].split()[1] for s in sample_order], size=8)\n",
    "for n, s in enumerate(sample_order[::2]):\n",
    "    plt.text(positions[n * 2] + 0.4, -0.1, names[s].split()[0], size=8, ha='center')\n",
    "    plt.plot([n * 2 + 0.8, n * 2 + 2.2], [0.05, 0.05], 'k', lw=0.9, clip_on=False)\n",
    "plt.text(0, -0.1, 'Nut', size=8, ha='center')\n",
    "plt.yticks(size=8)\n",
    "ax.spines[['right', 'top', 'bottom']].set_visible(False)\n",
    "plt.tick_params(\n",
    "    axis='x',          # changes apply to the x-axis\n",
    "    which='both',      # both major and minor ticks are affected\n",
    "    bottom=False,      # ticks along the bottom edge are off\n",
    "    top=False,         # ticks along the top edge are off\n",
    "    labelbottom=True) \n",
    "\n",
    "plt.ylabel('WT-normalized nascent\\nmRNA expression (FC)', size=8);\n",
    "plt.savefig(\"/home/fransua/Projects/Monica_p53/results/degron/Suppl_norm_expr_FC.pdf\", dpi=300)"
   ]
  },
  {
   "cell_type": "code",
   "execution_count": 45,
   "id": "7eb43554",
   "metadata": {
    "ExecuteTime": {
     "end_time": "2023-05-24T10:02:02.522291Z",
     "start_time": "2023-05-24T10:02:02.519374Z"
    }
   },
   "outputs": [
    {
     "data": {
      "text/plain": [
       "['WTNut0h', 'KDNut0h']"
      ]
     },
     "execution_count": 45,
     "metadata": {},
     "output_type": "execute_result"
    }
   ],
   "source": [
    "sample_order[:2]"
   ]
  },
  {
   "cell_type": "code",
   "execution_count": 46,
   "id": "1d0b7937",
   "metadata": {
    "ExecuteTime": {
     "end_time": "2023-05-24T10:02:03.127566Z",
     "start_time": "2023-05-24T10:02:02.999790Z"
    }
   },
   "outputs": [
    {
     "name": "stdout",
     "output_type": "stream",
     "text": [
      "88.0 5.757588951382786e-06\n",
      "55.0 2.0684092305600643e-07\n",
      "369.0 0.9826446560128709\n"
     ]
    },
    {
     "name": "stderr",
     "output_type": "stream",
     "text": [
      "/home/fransua/.miniconda3/lib/python3.11/site-packages/scipy/stats/_morestats.py:4088: UserWarning: Exact p-value calculation does not work if there are zeros. Switching to normal approximation.\n",
      "  warnings.warn(\"Exact p-value calculation does not work if there are \"\n"
     ]
    },
    {
     "data": {
      "image/png": "[encoded data removed]",
      "text/plain": [
       "<Figure size 400x500 with 1 Axes>"
      ]
     },
     "metadata": {},
     "output_type": "display_data"
    }
   ],
   "source": [
    "plt.figure(figsize=(2, 2.5), dpi=200)\n",
    "vals = [\n",
    "    [v for g in gene_order \n",
    "     for v in list(lines[(lines['variable']==g) & (lines['Cond']==s)]['list'])[0]] \n",
    "    for s in sample_order[::-1]\n",
    "]\n",
    "stats = []\n",
    "x0 = 1.68\n",
    "x1 = 1.72\n",
    "xt = 1.75\n",
    "positions = [1.1, 1.9, 3.1, 3.9, 5.1, 5.9]\n",
    "for n, v1 in enumerate(vals[::2]):\n",
    "    v2 = vals[1 + n * 2]\n",
    "    r, pv = wilcoxon(v1, v2)\n",
    "    print (r, pv)\n",
    "#     plt.plot([x0, x1, x1, x0], [n * 2 + 1, n * 2 + 1, n * 2 + 2, n * 2 + 2], color='k')\n",
    "    plt.plot([x0, x1, x1, x0], [positions[n * 2], positions[n * 2], positions[n * 2 + 1],\n",
    "                                positions[n * 2 + 1]], color='k')\n",
    "    plt.text(xt, n * 2 + 1.5, '*' if pv < 0.05 else 'ns', va='center', size=8)\n",
    "plt.xlim(0.2, 1.9)\n",
    "\n",
    "colors = [\n",
    "    (253 / 256, 231 / 256,  36 / 256, 0.5), #  0h WT\n",
    "    (226 / 256, 226 / 256, 226 / 256, 0.5), #  0h KD\n",
    "    ( 54 / 256, 181 / 256, 120 / 256, 0.5), #  1h WT\n",
    "    (174 / 256, 174 / 256, 174 / 256, 0.5), #  1h KD\n",
    "    ( 66 / 256,  54 / 256, 126 / 256, 0.5), # 10h WT\n",
    "    (114 / 256, 114 / 256, 114 / 256, 0.5), # 10h KD\n",
    "][::-1]\n",
    "\n",
    "bps = plt.boxplot(vals, vert=False, positions=positions, showcaps=False, showfliers=False, patch_artist=True,\n",
    "                  boxprops=dict(facecolor='none', color='k'), medianprops=dict(color='k'), widths=0.3)\n",
    "for n, b in enumerate(bps['boxes']):\n",
    "    b.set_facecolor(colors[n])\n",
    "                  \n",
    "vls = plt.violinplot(vals, vert=False, positions=positions, showextrema=False)\n",
    "for n, v in enumerate(vls['bodies']):\n",
    "    v.set_facecolor(\"None\")\n",
    "    v.set_edgecolor(list(colors[n][:-1]) + [20])\n",
    "    v.set_linewidth(0.9)\n",
    "    v.set_alpha(1)\n",
    "\n",
    "plt.grid(axis='x')\n",
    "\n",
    "plt.yticks(positions, [names[s] for s in sample_order][::-1], size=8)\n",
    "plt.xticks(size=8)\n",
    "plt.xlabel('WT-normalized nascent\\nmRNA expression (FC)', size=8);\n",
    "plt.savefig(\"/home/fransua/Projects/Monica_p53/results/degron/Suppl_norm_expr_FC.pdf\", dpi=300)"
   ]
  },
  {
   "cell_type": "code",
   "execution_count": 22,
   "id": "713ffd19",
   "metadata": {
    "ExecuteTime": {
     "end_time": "2023-05-24T10:02:11.927677Z",
     "start_time": "2023-05-24T10:02:11.925839Z"
    }
   },
   "outputs": [],
   "source": [
    "colors = [\n",
    "    \"#fde72580\",\n",
    "    \"#E2E2E2\",\n",
    "    \"#37b57880\",\n",
    "    \"#AEAEAE\",\n",
    "    \"#43377f80\",\n",
    "    \"#727272\"]"
   ]
  },
  {
   "cell_type": "code",
   "execution_count": 23,
   "id": "cb6c1369",
   "metadata": {
    "ExecuteTime": {
     "end_time": "2023-05-24T10:02:12.351347Z",
     "start_time": "2023-05-24T10:02:12.346633Z"
    }
   },
   "outputs": [
    {
     "data": {
      "text/plain": [
       "17.0"
      ]
     },
     "execution_count": 23,
     "metadata": {},
     "output_type": "execute_result"
    }
   ],
   "source": [
    "len(data) / 6"
   ]
  },
  {
   "cell_type": "code",
   "execution_count": 24,
   "id": "b22b2b0b",
   "metadata": {
    "ExecuteTime": {
     "end_time": "2023-05-24T10:02:13.062559Z",
     "start_time": "2023-05-24T10:02:12.904038Z"
    }
   },
   "outputs": [
    {
     "data": {
      "text/plain": [
       "<matplotlib.lines.Line2D at 0x7fcacf89adc0>"
      ]
     },
     "execution_count": 24,
     "metadata": {},
     "output_type": "execute_result"
    },
    {
     "data": {
      "image/png": "[encoded data removed]",
      "text/plain": [
       "<Figure size 1152x432 with 1 Axes>"
      ]
     },
     "metadata": {
      "needs_background": "light"
     },
     "output_type": "display_data"
    }
   ],
   "source": [
    "plt.figure(figsize=(16, 6))\n",
    "slines = lines\n",
    "plt.bar([v for l in [np.array([1, 2, 3.5, 4.5, 6, 7]) + i * 9 for i in range(len(slines) // 6)] for v in l], \n",
    "        slines['mean'], yerr=slines['std'], width=1, ec='k', color=colors * (len(slines) // 6), alpha=0.75)\n",
    "plt.axhline(1, alpha=0.8, color='grey', zorder=-10)"
   ]
  },
  {
   "cell_type": "code",
   "execution_count": 25,
   "id": "ce985bd7",
   "metadata": {
    "ExecuteTime": {
     "end_time": "2023-05-24T10:02:13.717043Z",
     "start_time": "2023-05-24T10:02:13.712573Z"
    }
   },
   "outputs": [],
   "source": [
    "from scipy.stats import ttest_rel"
   ]
  },
  {
   "cell_type": "code",
   "execution_count": null,
   "id": "0d7bf157",
   "metadata": {},
   "outputs": [],
   "source": []
  },
  {
   "cell_type": "code",
   "execution_count": 27,
   "id": "2f8d3919",
   "metadata": {
    "ExecuteTime": {
     "end_time": "2023-05-24T10:02:18.998201Z",
     "start_time": "2023-05-24T10:02:18.897410Z"
    }
   },
   "outputs": [
    {
     "data": {
      "text/plain": [
       "<matplotlib.lines.Line2D at 0x7fcacf95d8e0>"
      ]
     },
     "execution_count": 27,
     "metadata": {},
     "output_type": "execute_result"
    },
    {
     "data": {
      "image/png": "[encoded data removed]",
      "text/plain": [
       "<Figure size 1152x432 with 1 Axes>"
      ]
     },
     "metadata": {
      "needs_background": "light"
     },
     "output_type": "display_data"
    }
   ],
   "source": [
    "plt.figure(figsize=(16, 6))\n",
    "slines = lines[:9 * 6]\n",
    "plt.bar([v for l in [np.array([1, 2, 3.5, 4.5, 6, 7]) + i * 9 for i in range(len(slines) // 6)] for v in l], \n",
    "        slines['mean'], yerr=slines['std'], width=1, ec='k', color=colors * (len(slines) // 6), alpha=0.75)\n",
    "plt.axhline(1, alpha=0.8, color='grey', zorder=-10)"
   ]
  },
  {
   "cell_type": "code",
   "execution_count": 28,
   "id": "56fc31e5",
   "metadata": {
    "ExecuteTime": {
     "end_time": "2023-05-24T10:02:19.463844Z",
     "start_time": "2023-05-24T10:02:19.453777Z"
    }
   },
   "outputs": [
    {
     "data": {
      "text/html": [
       "<div>\n",
       "<style scoped>\n",
       "    .dataframe tbody tr th:only-of-type {\n",
       "        vertical-align: middle;\n",
       "    }\n",
       "\n",
       "    .dataframe tbody tr th {\n",
       "        vertical-align: top;\n",
       "    }\n",
       "\n",
       "    .dataframe thead th {\n",
       "        text-align: right;\n",
       "    }\n",
       "</style>\n",
       "<table border=\"1\" class=\"dataframe\">\n",
       "  <thead>\n",
       "    <tr style=\"text-align: right;\">\n",
       "      <th></th>\n",
       "      <th>index</th>\n",
       "      <th>variable</th>\n",
       "      <th>Cond</th>\n",
       "      <th>list</th>\n",
       "      <th>mean</th>\n",
       "      <th>std</th>\n",
       "    </tr>\n",
       "  </thead>\n",
       "  <tbody>\n",
       "    <tr>\n",
       "      <th>0</th>\n",
       "      <td>0</td>\n",
       "      <td>ACTR8</td>\n",
       "      <td>KDNut0h</td>\n",
       "      <td>[0.894, 1.395, 0.802]</td>\n",
       "      <td>1.030333</td>\n",
       "      <td>0.319143</td>\n",
       "    </tr>\n",
       "    <tr>\n",
       "      <th>1</th>\n",
       "      <td>1</td>\n",
       "      <td>ACTR8</td>\n",
       "      <td>KDNut10h</td>\n",
       "      <td>[1.824, 2.08, 1.419]</td>\n",
       "      <td>1.774333</td>\n",
       "      <td>0.333287</td>\n",
       "    </tr>\n",
       "    <tr>\n",
       "      <th>2</th>\n",
       "      <td>2</td>\n",
       "      <td>ACTR8</td>\n",
       "      <td>KDNut1h</td>\n",
       "      <td>[0.942, 1.293, 0.817]</td>\n",
       "      <td>1.017333</td>\n",
       "      <td>0.246780</td>\n",
       "    </tr>\n",
       "    <tr>\n",
       "      <th>3</th>\n",
       "      <td>3</td>\n",
       "      <td>ACTR8</td>\n",
       "      <td>WTNut0h</td>\n",
       "      <td>[1.101, 1.133, 0.802]</td>\n",
       "      <td>1.012000</td>\n",
       "      <td>0.182568</td>\n",
       "    </tr>\n",
       "    <tr>\n",
       "      <th>4</th>\n",
       "      <td>4</td>\n",
       "      <td>ACTR8</td>\n",
       "      <td>WTNut10h</td>\n",
       "      <td>[1.969, 1.479, 1.077]</td>\n",
       "      <td>1.508333</td>\n",
       "      <td>0.446723</td>\n",
       "    </tr>\n",
       "    <tr>\n",
       "      <th>...</th>\n",
       "      <td>...</td>\n",
       "      <td>...</td>\n",
       "      <td>...</td>\n",
       "      <td>...</td>\n",
       "      <td>...</td>\n",
       "      <td>...</td>\n",
       "    </tr>\n",
       "    <tr>\n",
       "      <th>97</th>\n",
       "      <td>97</td>\n",
       "      <td>TP53</td>\n",
       "      <td>KDNut10h</td>\n",
       "      <td>[1.445, 1.216, 1.473]</td>\n",
       "      <td>1.378000</td>\n",
       "      <td>0.140993</td>\n",
       "    </tr>\n",
       "    <tr>\n",
       "      <th>98</th>\n",
       "      <td>98</td>\n",
       "      <td>TP53</td>\n",
       "      <td>KDNut1h</td>\n",
       "      <td>[0.694, 0.418, 0.519]</td>\n",
       "      <td>0.543667</td>\n",
       "      <td>0.139644</td>\n",
       "    </tr>\n",
       "    <tr>\n",
       "      <th>99</th>\n",
       "      <td>99</td>\n",
       "      <td>TP53</td>\n",
       "      <td>WTNut0h</td>\n",
       "      <td>[1.09, 0.928, 0.989]</td>\n",
       "      <td>1.002333</td>\n",
       "      <td>0.081819</td>\n",
       "    </tr>\n",
       "    <tr>\n",
       "      <th>100</th>\n",
       "      <td>100</td>\n",
       "      <td>TP53</td>\n",
       "      <td>WTNut10h</td>\n",
       "      <td>[2.025, 0.9, 1.146]</td>\n",
       "      <td>1.357000</td>\n",
       "      <td>0.591436</td>\n",
       "    </tr>\n",
       "    <tr>\n",
       "      <th>101</th>\n",
       "      <td>101</td>\n",
       "      <td>TP53</td>\n",
       "      <td>WTNut1h</td>\n",
       "      <td>[0.765, 0.483, 0.689]</td>\n",
       "      <td>0.645667</td>\n",
       "      <td>0.145909</td>\n",
       "    </tr>\n",
       "  </tbody>\n",
       "</table>\n",
       "<p>102 rows × 6 columns</p>\n",
       "</div>"
      ],
      "text/plain": [
       "     index variable      Cond                      list      mean       std\n",
       "0        0    ACTR8   KDNut0h  [8.94e-01, 1.395, 0.802]  1.030333  0.319143\n",
       "1        1    ACTR8  KDNut10h      [1.824, 2.08, 1.419]  1.774333  0.333287\n",
       "2        2    ACTR8   KDNut1h     [0.942, 1.293, 0.817]  1.017333  0.246780\n",
       "3        3    ACTR8   WTNut0h     [1.101, 1.133, 0.802]  1.012000  0.182568\n",
       "4        4    ACTR8  WTNut10h     [1.969, 1.479, 1.077]  1.508333  0.446723\n",
       "..     ...      ...       ...                       ...       ...       ...\n",
       "97      97     TP53  KDNut10h     [1.445, 1.216, 1.473]  1.378000  0.140993\n",
       "98      98     TP53   KDNut1h     [0.694, 0.418, 0.519]  0.543667  0.139644\n",
       "99      99     TP53   WTNut0h      [1.09, 0.928, 0.989]  1.002333  0.081819\n",
       "100    100     TP53  WTNut10h       [2.025, 0.9, 1.146]  1.357000  0.591436\n",
       "101    101     TP53   WTNut1h     [0.765, 0.483, 0.689]  0.645667  0.145909\n",
       "\n",
       "[102 rows x 6 columns]"
      ]
     },
     "execution_count": 28,
     "metadata": {},
     "output_type": "execute_result"
    }
   ],
   "source": [
    "data"
   ]
  },
  {
   "cell_type": "code",
   "execution_count": null,
   "id": "50087e38",
   "metadata": {},
   "outputs": [],
   "source": []
  },
  {
   "cell_type": "code",
   "execution_count": 30,
   "id": "d614e7a2",
   "metadata": {
    "ExecuteTime": {
     "end_time": "2023-05-24T10:02:28.429934Z",
     "start_time": "2023-05-24T10:02:28.325098Z"
    }
   },
   "outputs": [],
   "source": [
    "import statsmodels.api as sm\n",
    "import statsmodels.formula.api as smf"
   ]
  },
  {
   "cell_type": "code",
   "execution_count": 74,
   "id": "efead979",
   "metadata": {
    "ExecuteTime": {
     "end_time": "2023-05-24T11:14:44.958394Z",
     "start_time": "2023-05-24T11:14:44.796765Z"
    }
   },
   "outputs": [
    {
     "name": "stdout",
     "output_type": "stream",
     "text": [
      "Test WT-0h vs KD-0h:\t 0.8716809534398896\n",
      "Test WT-1h vs KD-1h:\t 4.948091946377563e-09\n",
      "Test WT-10h vs KD-10h:\t 7.286758060823123e-06\n"
     ]
    },
    {
     "name": "stderr",
     "output_type": "stream",
     "text": [
      "/home/fransua/.miniconda3/envs/py39/lib/python3.9/site-packages/statsmodels/regression/mixed_linear_model.py:1634: UserWarning: Random effects covariance is singular\n",
      "  warnings.warn(msg)\n",
      "/home/fransua/.miniconda3/envs/py39/lib/python3.9/site-packages/statsmodels/regression/mixed_linear_model.py:1634: UserWarning: Random effects covariance is singular\n",
      "  warnings.warn(msg)\n",
      "/home/fransua/.miniconda3/envs/py39/lib/python3.9/site-packages/statsmodels/regression/mixed_linear_model.py:2237: ConvergenceWarning: The MLE may be on the boundary of the parameter space.\n",
      "  warnings.warn(msg, ConvergenceWarning)\n",
      "/home/fransua/.miniconda3/envs/py39/lib/python3.9/site-packages/statsmodels/regression/mixed_linear_model.py:2261: ConvergenceWarning: The Hessian matrix at the estimated parameter values is not positive definite.\n",
      "  warnings.warn(msg, ConvergenceWarning)\n"
     ]
    }
   ],
   "source": [
    "for t in ['0h', '1h', '10h']:\n",
    "    tmp = data_ori[data_ori['Cond'].str.contains(f'KDNut{t}') | data_ori['Cond'].str.contains(f'WTNut{t}')]\n",
    "    tmp = tmp[tmp['variable'].isin(gene_order)]\n",
    "    md = smf.mixedlm(\"value ~ Cond\", tmp, groups=tmp[\"variable\"])\n",
    "    mdf = md.fit()\n",
    "    print(f'Test WT-{t} vs KD-{t}:\\t', mdf.pvalues[f'Cond[T.WTNut{t}]'])"
   ]
  },
  {
   "cell_type": "code",
   "execution_count": 73,
   "id": "530ecf50",
   "metadata": {
    "ExecuteTime": {
     "end_time": "2023-05-24T11:14:11.566456Z",
     "start_time": "2023-05-24T11:14:11.526912Z"
    }
   },
   "outputs": [
    {
     "name": "stdout",
     "output_type": "stream",
     "text": [
      "Test WT-0h vs WT-1h:\t 1.1949277462661382e-08\n",
      "Test WT-0h vs WT-10h:\t 1.387872740355734e-07\n"
     ]
    }
   ],
   "source": [
    "for t in ['1h', '10h']:\n",
    "    tmp = data_ori[data_ori['Cond'].str.contains(f'WTNut0h') | data_ori['Cond'].str.contains(f'WTNut{t}')]\n",
    "    tmp = tmp[tmp['variable'].isin(gene_order)]gam lambda\n",
    "    \n",
    "    md = smf.mixedlm(\"value ~ Cond\", tmp, groups=tmp[\"variable\"])\n",
    "    mdf = md.fit()\n",
    "    print(f'Test WT-0h vs WT-{t}:\\t', mdf.pvalues[f'Cond[T.WTNut{t}]'])"
   ]
  },
  {
   "cell_type": "code",
   "execution_count": null,
   "id": "a0670b59",
   "metadata": {},
   "outputs": [],
   "source": []
  }
 ],
 "metadata": {
  "kernelspec": {
   "display_name": "Python 3 (ipykernel)",
   "language": "python",
   "name": "python3"
  },
  "language_info": {
   "codemirror_mode": {
    "name": "ipython",
    "version": 3
   },
   "file_extension": ".py",
   "mimetype": "text/x-python",
   "name": "python",
   "nbconvert_exporter": "python",
   "pygments_lexer": "ipython3",
   "version": "3.11.5"
  },
  "toc": {
   "base_numbering": 1,
   "nav_menu": {},
   "number_sections": false,
   "sideBar": true,
   "skip_h1_title": false,
   "title_cell": "Table of Contents",
   "title_sidebar": "Contents",
   "toc_cell": false,
   "toc_position": {},
   "toc_section_display": true,
   "toc_window_display": false
  }
 },
 "nbformat": 4,
 "nbformat_minor": 5
}
