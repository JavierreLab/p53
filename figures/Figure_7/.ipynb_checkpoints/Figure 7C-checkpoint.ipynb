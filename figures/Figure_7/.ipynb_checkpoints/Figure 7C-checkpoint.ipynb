{
 "cells": [
  {
   "cell_type": "code",
   "execution_count": 1,
   "id": "a3c4ceef",
   "metadata": {
    "ExecuteTime": {
     "end_time": "2023-05-23T14:39:29.182659Z",
     "start_time": "2023-05-23T14:39:28.772149Z"
    }
   },
   "outputs": [],
   "source": [
    "from matplotlib import pyplot as plt\n",
    "import os\n",
    "import pandas as pd\n",
    "import bioframe as bf\n",
    "import numpy as np"
   ]
  },
  {
   "cell_type": "code",
   "execution_count": 2,
   "id": "eafe3f30",
   "metadata": {
    "ExecuteTime": {
     "end_time": "2023-05-23T14:39:29.185815Z",
     "start_time": "2023-05-23T14:39:29.183767Z"
    }
   },
   "outputs": [],
   "source": [
    "plt.rcParams[\"font.family\"] = \"Arial Narrow\""
   ]
  },
  {
   "cell_type": "code",
   "execution_count": 3,
   "id": "e1ee36a2",
   "metadata": {
    "ExecuteTime": {
     "end_time": "2023-05-23T14:39:29.192458Z",
     "start_time": "2023-05-23T14:39:29.186647Z"
    }
   },
   "outputs": [],
   "source": [
    "ddir = '../../complementary_data/H3K27ac/degron/'\n",
    "tdir = '../../SupplementaryTables/'\n",
    "gdir = '../../complementary_data/'"
   ]
  },
  {
   "cell_type": "code",
   "execution_count": 4,
   "id": "b5a69db9",
   "metadata": {
    "ExecuteTime": {
     "end_time": "2023-05-23T14:39:29.194564Z",
     "start_time": "2023-05-23T14:39:29.193262Z"
    }
   },
   "outputs": [],
   "source": [
    "time = '1h'"
   ]
  },
  {
   "cell_type": "markdown",
   "id": "02b1ac7e",
   "metadata": {},
   "source": [
    "# Load data"
   ]
  },
  {
   "cell_type": "code",
   "execution_count": 5,
   "id": "0687a36a",
   "metadata": {
    "ExecuteTime": {
     "end_time": "2023-05-23T14:39:29.196991Z",
     "start_time": "2023-05-23T14:39:29.195140Z"
    }
   },
   "outputs": [],
   "source": [
    "def split_coord(pos):\n",
    "    chrom, pos = pos.split(\":\")\n",
    "    chrom = chrom.replace(\"chr\", \"\")\n",
    "    try:\n",
    "        b, e = pos.split('-')\n",
    "    except ValueError:\n",
    "        b = e  = pos\n",
    "    b = int(b)\n",
    "    e = int(e)\n",
    "    return pd.Series((chrom, b, e))"
   ]
  },
  {
   "cell_type": "markdown",
   "id": "bbb00e62",
   "metadata": {},
   "source": [
    "## load all genes"
   ]
  },
  {
   "cell_type": "code",
   "execution_count": 6,
   "id": "eeff9a01",
   "metadata": {
    "ExecuteTime": {
     "end_time": "2023-05-23T14:39:29.201474Z",
     "start_time": "2023-05-23T14:39:29.197637Z"
    }
   },
   "outputs": [
    {
     "data": {
      "text/plain": [
       "'/home/fransua/Projects/Monica_p53/scripts/p53/figures/Figure_7'"
      ]
     },
     "execution_count": 6,
     "metadata": {},
     "output_type": "execute_result"
    }
   ],
   "source": [
    "pwd"
   ]
  },
  {
   "cell_type": "code",
   "execution_count": 7,
   "id": "6eff2dee",
   "metadata": {
    "ExecuteTime": {
     "end_time": "2023-05-23T14:39:29.217865Z",
     "start_time": "2023-05-23T14:39:29.202081Z"
    }
   },
   "outputs": [],
   "source": [
    "promoters = pd.read_csv(os.path.join(gdir, 'promoter_coordinates.txt'), \n",
    "                        sep='\\t')"
   ]
  },
  {
   "cell_type": "code",
   "execution_count": 8,
   "id": "c3ef165d",
   "metadata": {
    "ExecuteTime": {
     "end_time": "2023-05-23T14:39:29.224669Z",
     "start_time": "2023-05-23T14:39:29.218890Z"
    }
   },
   "outputs": [
    {
     "data": {
      "text/html": [
       "<div>\n",
       "<style scoped>\n",
       "    .dataframe tbody tr th:only-of-type {\n",
       "        vertical-align: middle;\n",
       "    }\n",
       "\n",
       "    .dataframe tbody tr th {\n",
       "        vertical-align: top;\n",
       "    }\n",
       "\n",
       "    .dataframe thead th {\n",
       "        text-align: right;\n",
       "    }\n",
       "</style>\n",
       "<table border=\"1\" class=\"dataframe\">\n",
       "  <thead>\n",
       "    <tr style=\"text-align: right;\">\n",
       "      <th></th>\n",
       "      <th>chr</th>\n",
       "      <th>promoter_start</th>\n",
       "      <th>promoter_end</th>\n",
       "      <th>strand</th>\n",
       "      <th>ensembl_gene_id</th>\n",
       "    </tr>\n",
       "  </thead>\n",
       "  <tbody>\n",
       "    <tr>\n",
       "      <th>0</th>\n",
       "      <td>1</td>\n",
       "      <td>845815</td>\n",
       "      <td>847015</td>\n",
       "      <td>+</td>\n",
       "      <td>ENSG00000230699</td>\n",
       "    </tr>\n",
       "    <tr>\n",
       "      <th>1</th>\n",
       "      <td>1</td>\n",
       "      <td>839214</td>\n",
       "      <td>840414</td>\n",
       "      <td>+</td>\n",
       "      <td>ENSG00000272438</td>\n",
       "    </tr>\n",
       "    <tr>\n",
       "      <th>2</th>\n",
       "      <td>1</td>\n",
       "      <td>848551</td>\n",
       "      <td>849751</td>\n",
       "      <td>+</td>\n",
       "      <td>ENSG00000241180</td>\n",
       "    </tr>\n",
       "    <tr>\n",
       "      <th>3</th>\n",
       "      <td>1</td>\n",
       "      <td>859260</td>\n",
       "      <td>860460</td>\n",
       "      <td>+</td>\n",
       "      <td>ENSG00000187634</td>\n",
       "    </tr>\n",
       "    <tr>\n",
       "      <th>4</th>\n",
       "      <td>1</td>\n",
       "      <td>856196</td>\n",
       "      <td>857396</td>\n",
       "      <td>-</td>\n",
       "      <td>ENSG00000223764</td>\n",
       "    </tr>\n",
       "    <tr>\n",
       "      <th>...</th>\n",
       "      <td>...</td>\n",
       "      <td>...</td>\n",
       "      <td>...</td>\n",
       "      <td>...</td>\n",
       "      <td>...</td>\n",
       "    </tr>\n",
       "    <tr>\n",
       "      <th>29074</th>\n",
       "      <td>Y</td>\n",
       "      <td>21180773</td>\n",
       "      <td>21181973</td>\n",
       "      <td>-</td>\n",
       "      <td>ENSG00000252766</td>\n",
       "    </tr>\n",
       "    <tr>\n",
       "      <th>29075</th>\n",
       "      <td>Y</td>\n",
       "      <td>21728199</td>\n",
       "      <td>21729399</td>\n",
       "      <td>+</td>\n",
       "      <td>ENSG00000131002</td>\n",
       "    </tr>\n",
       "    <tr>\n",
       "      <th>29076</th>\n",
       "      <td>Y</td>\n",
       "      <td>21906625</td>\n",
       "      <td>21907825</td>\n",
       "      <td>-</td>\n",
       "      <td>ENSG00000012817</td>\n",
       "    </tr>\n",
       "    <tr>\n",
       "      <th>29077</th>\n",
       "      <td>Y</td>\n",
       "      <td>22736611</td>\n",
       "      <td>22737811</td>\n",
       "      <td>+</td>\n",
       "      <td>ENSG00000198692</td>\n",
       "    </tr>\n",
       "    <tr>\n",
       "      <th>29078</th>\n",
       "      <td>Y</td>\n",
       "      <td>22917050</td>\n",
       "      <td>22918250</td>\n",
       "      <td>+</td>\n",
       "      <td>ENSG00000157828</td>\n",
       "    </tr>\n",
       "  </tbody>\n",
       "</table>\n",
       "<p>29079 rows × 5 columns</p>\n",
       "</div>"
      ],
      "text/plain": [
       "      chr  promoter_start  promoter_end strand  ensembl_gene_id\n",
       "0       1          845815        847015      +  ENSG00000230699\n",
       "1       1          839214        840414      +  ENSG00000272438\n",
       "2       1          848551        849751      +  ENSG00000241180\n",
       "3       1          859260        860460      +  ENSG00000187634\n",
       "4       1          856196        857396      -  ENSG00000223764\n",
       "...    ..             ...           ...    ...              ...\n",
       "29074   Y        21180773      21181973      -  ENSG00000252766\n",
       "29075   Y        21728199      21729399      +  ENSG00000131002\n",
       "29076   Y        21906625      21907825      -  ENSG00000012817\n",
       "29077   Y        22736611      22737811      +  ENSG00000198692\n",
       "29078   Y        22917050      22918250      +  ENSG00000157828\n",
       "\n",
       "[29079 rows x 5 columns]"
      ]
     },
     "execution_count": 8,
     "metadata": {},
     "output_type": "execute_result"
    }
   ],
   "source": [
    "promoters"
   ]
  },
  {
   "cell_type": "markdown",
   "id": "3476d2ce",
   "metadata": {},
   "source": [
    "## load target genes"
   ]
  },
  {
   "cell_type": "code",
   "execution_count": 9,
   "id": "a6801b91",
   "metadata": {
    "ExecuteTime": {
     "end_time": "2023-05-23T14:39:29.229561Z",
     "start_time": "2023-05-23T14:39:29.225422Z"
    }
   },
   "outputs": [],
   "source": [
    "alldf = pd.read_csv(os.path.join(tdir, \"SupplementaryTable_IntegrationPCHiC.csv\"), \n",
    "                    sep='\\t')"
   ]
  },
  {
   "cell_type": "code",
   "execution_count": 10,
   "id": "643b3490",
   "metadata": {
    "ExecuteTime": {
     "end_time": "2023-05-23T14:39:29.239608Z",
     "start_time": "2023-05-23T14:39:29.230876Z"
    }
   },
   "outputs": [
    {
     "data": {
      "text/html": [
       "<div>\n",
       "<style scoped>\n",
       "    .dataframe tbody tr th:only-of-type {\n",
       "        vertical-align: middle;\n",
       "    }\n",
       "\n",
       "    .dataframe tbody tr th {\n",
       "        vertical-align: top;\n",
       "    }\n",
       "\n",
       "    .dataframe thead th {\n",
       "        text-align: right;\n",
       "    }\n",
       "</style>\n",
       "<table border=\"1\" class=\"dataframe\">\n",
       "  <thead>\n",
       "    <tr style=\"text-align: right;\">\n",
       "      <th></th>\n",
       "      <th>Comparison</th>\n",
       "      <th>p53Target</th>\n",
       "      <th>Ensg</th>\n",
       "      <th>GeneID</th>\n",
       "      <th>p53</th>\n",
       "      <th>TargetRegion</th>\n",
       "      <th>InteractionBait</th>\n",
       "      <th>InteractionOtherEnd</th>\n",
       "      <th>InteractionDynamism</th>\n",
       "      <th>EnrichedInGeneSet</th>\n",
       "      <th>p53EnsgGenomicDistance</th>\n",
       "      <th>H3K27acLog2FCp53</th>\n",
       "      <th>H3K27acLog2FCensg</th>\n",
       "      <th>H3K27acLog2FCenhancer</th>\n",
       "      <th>ExprLog2FCensg</th>\n",
       "    </tr>\n",
       "  </thead>\n",
       "  <tbody>\n",
       "    <tr>\n",
       "      <th>0</th>\n",
       "      <td>Nut1h.vs.Nut0h</td>\n",
       "      <td>enhancer</td>\n",
       "      <td>ENSG00000222888</td>\n",
       "      <td>AC012467.1</td>\n",
       "      <td>3:53295826-53296048</td>\n",
       "      <td>3:53295801-53296141</td>\n",
       "      <td>3:53278994-53304604</td>\n",
       "      <td>3:53915522-53924632</td>\n",
       "      <td>gained</td>\n",
       "      <td>NaN</td>\n",
       "      <td>620759</td>\n",
       "      <td>0.918023</td>\n",
       "      <td>0.743529</td>\n",
       "      <td>0.918023</td>\n",
       "      <td>NaN</td>\n",
       "    </tr>\n",
       "    <tr>\n",
       "      <th>1</th>\n",
       "      <td>Nut1h.vs.Nut0h</td>\n",
       "      <td>enhancer</td>\n",
       "      <td>ENSG00000214184</td>\n",
       "      <td>AC012487.2</td>\n",
       "      <td>2:109061744-109061966</td>\n",
       "      <td>2:109060788-109062423</td>\n",
       "      <td>2:109061063-109066640</td>\n",
       "      <td>2:109144635-109152181</td>\n",
       "      <td>maintained</td>\n",
       "      <td>NaN</td>\n",
       "      <td>89197</td>\n",
       "      <td>0.447567</td>\n",
       "      <td>1.111372</td>\n",
       "      <td>0.571948</td>\n",
       "      <td>0.666304</td>\n",
       "    </tr>\n",
       "    <tr>\n",
       "      <th>2</th>\n",
       "      <td>Nut1h.vs.Nut0h</td>\n",
       "      <td>enhancer</td>\n",
       "      <td>ENSG00000179066</td>\n",
       "      <td>AC020907.1</td>\n",
       "      <td>19:35613962-35614184</td>\n",
       "      <td>19:35613666-35616224</td>\n",
       "      <td>19:35590055-35605734</td>\n",
       "      <td>19:35607798-35627441</td>\n",
       "      <td>gained</td>\n",
       "      <td>NaN</td>\n",
       "      <td>17600</td>\n",
       "      <td>0.982424</td>\n",
       "      <td>0.088625</td>\n",
       "      <td>0.703425</td>\n",
       "      <td>NaN</td>\n",
       "    </tr>\n",
       "    <tr>\n",
       "      <th>3</th>\n",
       "      <td>Nut1h.vs.Nut0h</td>\n",
       "      <td>enhancer</td>\n",
       "      <td>ENSG00000243243</td>\n",
       "      <td>AC073130.3</td>\n",
       "      <td>7:115924554-115924776</td>\n",
       "      <td>7:115924204-115925258</td>\n",
       "      <td>7:115924625-115929514</td>\n",
       "      <td>7:115967531-115969615</td>\n",
       "      <td>maintained</td>\n",
       "      <td>NaN</td>\n",
       "      <td>43685</td>\n",
       "      <td>0.910726</td>\n",
       "      <td>1.415161</td>\n",
       "      <td>1.110392</td>\n",
       "      <td>3.929697</td>\n",
       "    </tr>\n",
       "    <tr>\n",
       "      <th>4</th>\n",
       "      <td>Nut1h.vs.Nut0h</td>\n",
       "      <td>enhancer</td>\n",
       "      <td>ENSG00000237753</td>\n",
       "      <td>AC079922.3</td>\n",
       "      <td>2:113450219-113450441</td>\n",
       "      <td>2:113448129-113451605</td>\n",
       "      <td>2:113402487-113405754</td>\n",
       "      <td>2:113449093-113452250</td>\n",
       "      <td>maintained</td>\n",
       "      <td>PSMB5_TARGET_GENES</td>\n",
       "      <td>46663</td>\n",
       "      <td>1.189046</td>\n",
       "      <td>0.540793</td>\n",
       "      <td>0.934471</td>\n",
       "      <td>0.100269</td>\n",
       "    </tr>\n",
       "    <tr>\n",
       "      <th>...</th>\n",
       "      <td>...</td>\n",
       "      <td>...</td>\n",
       "      <td>...</td>\n",
       "      <td>...</td>\n",
       "      <td>...</td>\n",
       "      <td>...</td>\n",
       "      <td>...</td>\n",
       "      <td>...</td>\n",
       "      <td>...</td>\n",
       "      <td>...</td>\n",
       "      <td>...</td>\n",
       "      <td>...</td>\n",
       "      <td>...</td>\n",
       "      <td>...</td>\n",
       "      <td>...</td>\n",
       "    </tr>\n",
       "    <tr>\n",
       "      <th>632</th>\n",
       "      <td>Nut10h.vs.Nut0h</td>\n",
       "      <td>promoter</td>\n",
       "      <td>ENSG00000124571</td>\n",
       "      <td>XPO5</td>\n",
       "      <td>6:43543873-43544095</td>\n",
       "      <td>6:43543612-43544812</td>\n",
       "      <td>NaN</td>\n",
       "      <td>NaN</td>\n",
       "      <td>NaN</td>\n",
       "      <td>HOXC13_TARGET_GENES</td>\n",
       "      <td>0</td>\n",
       "      <td>1.090630</td>\n",
       "      <td>1.090630</td>\n",
       "      <td>NaN</td>\n",
       "      <td>-0.226007</td>\n",
       "    </tr>\n",
       "    <tr>\n",
       "      <th>633</th>\n",
       "      <td>Nut10h.vs.Nut0h</td>\n",
       "      <td>promoter</td>\n",
       "      <td>ENSG00000039319</td>\n",
       "      <td>ZFYVE16</td>\n",
       "      <td>5:79702825-79703047</td>\n",
       "      <td>5:79702832-79704032</td>\n",
       "      <td>NaN</td>\n",
       "      <td>NaN</td>\n",
       "      <td>NaN</td>\n",
       "      <td>NaN</td>\n",
       "      <td>0</td>\n",
       "      <td>0.580119</td>\n",
       "      <td>0.580119</td>\n",
       "      <td>NaN</td>\n",
       "      <td>0.668920</td>\n",
       "    </tr>\n",
       "    <tr>\n",
       "      <th>634</th>\n",
       "      <td>Nut10h.vs.Nut0h</td>\n",
       "      <td>promoter</td>\n",
       "      <td>ENSG00000174306</td>\n",
       "      <td>ZHX3</td>\n",
       "      <td>20:39946296-39946518</td>\n",
       "      <td>20:39946112-39947312</td>\n",
       "      <td>NaN</td>\n",
       "      <td>NaN</td>\n",
       "      <td>NaN</td>\n",
       "      <td>NaN</td>\n",
       "      <td>0</td>\n",
       "      <td>0.446416</td>\n",
       "      <td>0.481269</td>\n",
       "      <td>NaN</td>\n",
       "      <td>0.195498</td>\n",
       "    </tr>\n",
       "    <tr>\n",
       "      <th>635</th>\n",
       "      <td>Nut10h.vs.Nut0h</td>\n",
       "      <td>promoter</td>\n",
       "      <td>ENSG00000163848</td>\n",
       "      <td>ZNF148</td>\n",
       "      <td>3:125094143-125094365</td>\n",
       "      <td>3:125093998-125095198</td>\n",
       "      <td>NaN</td>\n",
       "      <td>NaN</td>\n",
       "      <td>NaN</td>\n",
       "      <td>ZHANG_BREAST_CANCER_PROGENITORS_UP</td>\n",
       "      <td>0</td>\n",
       "      <td>0.454725</td>\n",
       "      <td>0.454725</td>\n",
       "      <td>NaN</td>\n",
       "      <td>-0.118949</td>\n",
       "    </tr>\n",
       "    <tr>\n",
       "      <th>636</th>\n",
       "      <td>Nut10h.vs.Nut0h</td>\n",
       "      <td>promoter</td>\n",
       "      <td>ENSG00000171469</td>\n",
       "      <td>ZNF561</td>\n",
       "      <td>19:9732607-9732829</td>\n",
       "      <td>19:9731875-9733075</td>\n",
       "      <td>NaN</td>\n",
       "      <td>NaN</td>\n",
       "      <td>NaN</td>\n",
       "      <td>FISCHER_DIRECT_P53_TARGETS_META_ANALYSIS</td>\n",
       "      <td>0</td>\n",
       "      <td>0.495897</td>\n",
       "      <td>1.449689</td>\n",
       "      <td>NaN</td>\n",
       "      <td>1.190372</td>\n",
       "    </tr>\n",
       "  </tbody>\n",
       "</table>\n",
       "<p>637 rows × 15 columns</p>\n",
       "</div>"
      ],
      "text/plain": [
       "          Comparison p53Target             Ensg      GeneID  \\\n",
       "0     Nut1h.vs.Nut0h  enhancer  ENSG00000222888  AC012467.1   \n",
       "1     Nut1h.vs.Nut0h  enhancer  ENSG00000214184  AC012487.2   \n",
       "2     Nut1h.vs.Nut0h  enhancer  ENSG00000179066  AC020907.1   \n",
       "3     Nut1h.vs.Nut0h  enhancer  ENSG00000243243  AC073130.3   \n",
       "4     Nut1h.vs.Nut0h  enhancer  ENSG00000237753  AC079922.3   \n",
       "..               ...       ...              ...         ...   \n",
       "632  Nut10h.vs.Nut0h  promoter  ENSG00000124571        XPO5   \n",
       "633  Nut10h.vs.Nut0h  promoter  ENSG00000039319     ZFYVE16   \n",
       "634  Nut10h.vs.Nut0h  promoter  ENSG00000174306        ZHX3   \n",
       "635  Nut10h.vs.Nut0h  promoter  ENSG00000163848      ZNF148   \n",
       "636  Nut10h.vs.Nut0h  promoter  ENSG00000171469      ZNF561   \n",
       "\n",
       "                       p53           TargetRegion        InteractionBait  \\\n",
       "0      3:53295826-53296048    3:53295801-53296141    3:53278994-53304604   \n",
       "1    2:109061744-109061966  2:109060788-109062423  2:109061063-109066640   \n",
       "2     19:35613962-35614184   19:35613666-35616224   19:35590055-35605734   \n",
       "3    7:115924554-115924776  7:115924204-115925258  7:115924625-115929514   \n",
       "4    2:113450219-113450441  2:113448129-113451605  2:113402487-113405754   \n",
       "..                     ...                    ...                    ...   \n",
       "632    6:43543873-43544095    6:43543612-43544812                    NaN   \n",
       "633    5:79702825-79703047    5:79702832-79704032                    NaN   \n",
       "634   20:39946296-39946518   20:39946112-39947312                    NaN   \n",
       "635  3:125094143-125094365  3:125093998-125095198                    NaN   \n",
       "636     19:9732607-9732829     19:9731875-9733075                    NaN   \n",
       "\n",
       "       InteractionOtherEnd InteractionDynamism  \\\n",
       "0      3:53915522-53924632              gained   \n",
       "1    2:109144635-109152181          maintained   \n",
       "2     19:35607798-35627441              gained   \n",
       "3    7:115967531-115969615          maintained   \n",
       "4    2:113449093-113452250          maintained   \n",
       "..                     ...                 ...   \n",
       "632                    NaN                 NaN   \n",
       "633                    NaN                 NaN   \n",
       "634                    NaN                 NaN   \n",
       "635                    NaN                 NaN   \n",
       "636                    NaN                 NaN   \n",
       "\n",
       "                            EnrichedInGeneSet  p53EnsgGenomicDistance  \\\n",
       "0                                         NaN                  620759   \n",
       "1                                         NaN                   89197   \n",
       "2                                         NaN                   17600   \n",
       "3                                         NaN                   43685   \n",
       "4                          PSMB5_TARGET_GENES                   46663   \n",
       "..                                        ...                     ...   \n",
       "632                       HOXC13_TARGET_GENES                       0   \n",
       "633                                       NaN                       0   \n",
       "634                                       NaN                       0   \n",
       "635        ZHANG_BREAST_CANCER_PROGENITORS_UP                       0   \n",
       "636  FISCHER_DIRECT_P53_TARGETS_META_ANALYSIS                       0   \n",
       "\n",
       "     H3K27acLog2FCp53  H3K27acLog2FCensg  H3K27acLog2FCenhancer  \\\n",
       "0            0.918023           0.743529               0.918023   \n",
       "1            0.447567           1.111372               0.571948   \n",
       "2            0.982424           0.088625               0.703425   \n",
       "3            0.910726           1.415161               1.110392   \n",
       "4            1.189046           0.540793               0.934471   \n",
       "..                ...                ...                    ...   \n",
       "632          1.090630           1.090630                    NaN   \n",
       "633          0.580119           0.580119                    NaN   \n",
       "634          0.446416           0.481269                    NaN   \n",
       "635          0.454725           0.454725                    NaN   \n",
       "636          0.495897           1.449689                    NaN   \n",
       "\n",
       "     ExprLog2FCensg  \n",
       "0               NaN  \n",
       "1          0.666304  \n",
       "2               NaN  \n",
       "3          3.929697  \n",
       "4          0.100269  \n",
       "..              ...  \n",
       "632       -0.226007  \n",
       "633        0.668920  \n",
       "634        0.195498  \n",
       "635       -0.118949  \n",
       "636        1.190372  \n",
       "\n",
       "[637 rows x 15 columns]"
      ]
     },
     "execution_count": 10,
     "metadata": {},
     "output_type": "execute_result"
    }
   ],
   "source": [
    "alldf"
   ]
  },
  {
   "cell_type": "code",
   "execution_count": 11,
   "id": "fa0de862",
   "metadata": {
    "ExecuteTime": {
     "end_time": "2023-05-23T14:39:29.242455Z",
     "start_time": "2023-05-23T14:39:29.240242Z"
    }
   },
   "outputs": [
    {
     "data": {
      "text/plain": [
       "Index(['Comparison', 'p53Target', 'Ensg', 'GeneID', 'p53', 'TargetRegion',\n",
       "       'InteractionBait', 'InteractionOtherEnd', 'InteractionDynamism',\n",
       "       'EnrichedInGeneSet', 'p53EnsgGenomicDistance', 'H3K27acLog2FCp53',\n",
       "       'H3K27acLog2FCensg', 'H3K27acLog2FCenhancer', 'ExprLog2FCensg'],\n",
       "      dtype='object')"
      ]
     },
     "execution_count": 11,
     "metadata": {},
     "output_type": "execute_result"
    }
   ],
   "source": [
    "alldf.columns"
   ]
  },
  {
   "cell_type": "code",
   "execution_count": 12,
   "id": "e656f00e",
   "metadata": {
    "ExecuteTime": {
     "end_time": "2023-05-23T14:39:29.247147Z",
     "start_time": "2023-05-23T14:39:29.243091Z"
    }
   },
   "outputs": [],
   "source": [
    "target_genes = alldf[(alldf['p53Target'] == 'enhancer') & (alldf['Comparison'] == f'Nut{time}.vs.Nut0h')].drop_duplicates(subset='Ensg', keep=\"first\")[\n",
    "    [\"Ensg\", \"InteractionBait\"]]"
   ]
  },
  {
   "cell_type": "code",
   "execution_count": 13,
   "id": "c7889bc7",
   "metadata": {
    "ExecuteTime": {
     "end_time": "2023-05-23T14:39:29.267183Z",
     "start_time": "2023-05-23T14:39:29.247825Z"
    }
   },
   "outputs": [],
   "source": [
    "target_genes[['chrom', 'start', 'end']] = target_genes['InteractionBait'].apply(split_coord)"
   ]
  },
  {
   "cell_type": "code",
   "execution_count": 14,
   "id": "492e0ca6",
   "metadata": {
    "ExecuteTime": {
     "end_time": "2023-05-23T14:39:29.270698Z",
     "start_time": "2023-05-23T14:39:29.268439Z"
    }
   },
   "outputs": [],
   "source": [
    "bf_target_genes = bf.from_any(target_genes[[\"chrom\", \"start\", \"end\", \"Ensg\"]])"
   ]
  },
  {
   "cell_type": "code",
   "execution_count": 15,
   "id": "680da492",
   "metadata": {
    "ExecuteTime": {
     "end_time": "2023-05-23T14:39:29.274772Z",
     "start_time": "2023-05-23T14:39:29.271495Z"
    }
   },
   "outputs": [],
   "source": [
    "promoters = bf.from_any(promoters.rename(\n",
    "    columns={'chr': 'chrom', 'promoter_start': 'start', 'promoter_end': 'end'}))"
   ]
  },
  {
   "cell_type": "markdown",
   "id": "3954f27c",
   "metadata": {},
   "source": [
    "### Define target genes and Control genes"
   ]
  },
  {
   "cell_type": "code",
   "execution_count": 16,
   "id": "f97aa70c",
   "metadata": {
    "ExecuteTime": {
     "end_time": "2023-05-23T14:39:29.277333Z",
     "start_time": "2023-05-23T14:39:29.275632Z"
    }
   },
   "outputs": [],
   "source": [
    "tg_genes = set(bf_target_genes['Ensg'])"
   ]
  },
  {
   "cell_type": "code",
   "execution_count": 17,
   "id": "f1124043",
   "metadata": {
    "ExecuteTime": {
     "end_time": "2023-05-23T14:39:29.281849Z",
     "start_time": "2023-05-23T14:39:29.278070Z"
    }
   },
   "outputs": [],
   "source": [
    "tg_promoters = promoters[promoters['ensembl_gene_id'].isin(tg_genes)]"
   ]
  },
  {
   "cell_type": "code",
   "execution_count": 18,
   "id": "1dd4429c",
   "metadata": {
    "ExecuteTime": {
     "end_time": "2023-05-23T14:39:29.286462Z",
     "start_time": "2023-05-23T14:39:29.282581Z"
    }
   },
   "outputs": [],
   "source": [
    "bg_promoters = promoters[~promoters['ensembl_gene_id'].isin(tg_genes)]\n",
    "# bg_promoters = promoters.copy()"
   ]
  },
  {
   "cell_type": "markdown",
   "id": "b30b726a",
   "metadata": {},
   "source": [
    "## load H3K27ac"
   ]
  },
  {
   "cell_type": "code",
   "execution_count": 19,
   "id": "8581355d",
   "metadata": {
    "ExecuteTime": {
     "end_time": "2023-05-23T14:39:29.534694Z",
     "start_time": "2023-05-23T14:39:29.287262Z"
    }
   },
   "outputs": [],
   "source": [
    "k27KD1h = pd.read_csv(os.path.join(ddir, 'DifferentialPeaks_H3K27ac_KDNutlin1h_KDDMSO.txt'), sep='\\t')"
   ]
  },
  {
   "cell_type": "code",
   "execution_count": 20,
   "id": "ca689dd3",
   "metadata": {
    "ExecuteTime": {
     "end_time": "2023-05-23T14:39:29.890834Z",
     "start_time": "2023-05-23T14:39:29.535579Z"
    }
   },
   "outputs": [],
   "source": [
    "k27WT1h = pd.read_csv(os.path.join(ddir, 'DifferentialPeaks_H3K27ac_Nutlin1h_DMSO.txt'), sep='\\t')"
   ]
  },
  {
   "cell_type": "code",
   "execution_count": 21,
   "id": "631208c2",
   "metadata": {
    "ExecuteTime": {
     "end_time": "2023-05-23T14:39:29.898147Z",
     "start_time": "2023-05-23T14:39:29.891682Z"
    }
   },
   "outputs": [
    {
     "data": {
      "text/html": [
       "<div>\n",
       "<style scoped>\n",
       "    .dataframe tbody tr th:only-of-type {\n",
       "        vertical-align: middle;\n",
       "    }\n",
       "\n",
       "    .dataframe tbody tr th {\n",
       "        vertical-align: top;\n",
       "    }\n",
       "\n",
       "    .dataframe thead th {\n",
       "        text-align: right;\n",
       "    }\n",
       "</style>\n",
       "<table border=\"1\" class=\"dataframe\">\n",
       "  <thead>\n",
       "    <tr style=\"text-align: right;\">\n",
       "      <th></th>\n",
       "      <th>baseMean</th>\n",
       "      <th>log2FoldChange</th>\n",
       "      <th>lfcSE</th>\n",
       "      <th>stat</th>\n",
       "      <th>pvalue</th>\n",
       "      <th>padj</th>\n",
       "      <th>regions</th>\n",
       "    </tr>\n",
       "  </thead>\n",
       "  <tbody>\n",
       "    <tr>\n",
       "      <th>0</th>\n",
       "      <td>17.921647</td>\n",
       "      <td>0.237561</td>\n",
       "      <td>0.684123</td>\n",
       "      <td>0.347249</td>\n",
       "      <td>0.728405</td>\n",
       "      <td>0.807709</td>\n",
       "      <td>chr1:10003</td>\n",
       "    </tr>\n",
       "    <tr>\n",
       "      <th>1</th>\n",
       "      <td>26.692795</td>\n",
       "      <td>0.178786</td>\n",
       "      <td>0.603187</td>\n",
       "      <td>0.296402</td>\n",
       "      <td>0.766923</td>\n",
       "      <td>0.837098</td>\n",
       "      <td>chr1:10004-10010</td>\n",
       "    </tr>\n",
       "    <tr>\n",
       "      <th>2</th>\n",
       "      <td>223.082237</td>\n",
       "      <td>0.201213</td>\n",
       "      <td>0.334799</td>\n",
       "      <td>0.600997</td>\n",
       "      <td>0.547842</td>\n",
       "      <td>0.660433</td>\n",
       "      <td>chr1:10011-10440</td>\n",
       "    </tr>\n",
       "    <tr>\n",
       "      <th>3</th>\n",
       "      <td>30.675646</td>\n",
       "      <td>0.026620</td>\n",
       "      <td>0.572049</td>\n",
       "      <td>0.046534</td>\n",
       "      <td>0.962885</td>\n",
       "      <td>0.975676</td>\n",
       "      <td>chr1:10441-10463</td>\n",
       "    </tr>\n",
       "    <tr>\n",
       "      <th>4</th>\n",
       "      <td>21.573282</td>\n",
       "      <td>0.015846</td>\n",
       "      <td>0.646399</td>\n",
       "      <td>0.024514</td>\n",
       "      <td>0.980442</td>\n",
       "      <td>0.987090</td>\n",
       "      <td>chr1:10464-10466</td>\n",
       "    </tr>\n",
       "    <tr>\n",
       "      <th>...</th>\n",
       "      <td>...</td>\n",
       "      <td>...</td>\n",
       "      <td>...</td>\n",
       "      <td>...</td>\n",
       "      <td>...</td>\n",
       "      <td>...</td>\n",
       "      <td>...</td>\n",
       "    </tr>\n",
       "    <tr>\n",
       "      <th>262284</th>\n",
       "      <td>20.692149</td>\n",
       "      <td>1.040039</td>\n",
       "      <td>0.661515</td>\n",
       "      <td>1.572208</td>\n",
       "      <td>0.115902</td>\n",
       "      <td>0.216871</td>\n",
       "      <td>chrY:13369746-13369793</td>\n",
       "    </tr>\n",
       "    <tr>\n",
       "      <th>262285</th>\n",
       "      <td>223.783173</td>\n",
       "      <td>0.729245</td>\n",
       "      <td>0.333750</td>\n",
       "      <td>2.185005</td>\n",
       "      <td>0.028888</td>\n",
       "      <td>0.078635</td>\n",
       "      <td>chrY:13369794-13371123</td>\n",
       "    </tr>\n",
       "    <tr>\n",
       "      <th>262286</th>\n",
       "      <td>20.420345</td>\n",
       "      <td>1.193677</td>\n",
       "      <td>0.673796</td>\n",
       "      <td>1.771570</td>\n",
       "      <td>0.076466</td>\n",
       "      <td>0.160688</td>\n",
       "      <td>chrY:13371124-13371129</td>\n",
       "    </tr>\n",
       "    <tr>\n",
       "      <th>262287</th>\n",
       "      <td>20.503166</td>\n",
       "      <td>1.526323</td>\n",
       "      <td>0.675801</td>\n",
       "      <td>2.258539</td>\n",
       "      <td>0.023912</td>\n",
       "      <td>0.068358</td>\n",
       "      <td>chrY:13371130-13371192</td>\n",
       "    </tr>\n",
       "    <tr>\n",
       "      <th>262288</th>\n",
       "      <td>9.309923</td>\n",
       "      <td>1.266071</td>\n",
       "      <td>0.950405</td>\n",
       "      <td>1.332139</td>\n",
       "      <td>0.182814</td>\n",
       "      <td>NaN</td>\n",
       "      <td>chrY:13371193-13371202</td>\n",
       "    </tr>\n",
       "  </tbody>\n",
       "</table>\n",
       "<p>262289 rows × 7 columns</p>\n",
       "</div>"
      ],
      "text/plain": [
       "          baseMean  log2FoldChange     lfcSE      stat    pvalue      padj  \\\n",
       "0        17.921647        0.237561  0.684123  0.347249  0.728405  0.807709   \n",
       "1        26.692795        0.178786  0.603187  0.296402  0.766923  0.837098   \n",
       "2       223.082237        0.201213  0.334799  0.600997  0.547842  0.660433   \n",
       "3        30.675646        0.026620  0.572049  0.046534  0.962885  0.975676   \n",
       "4        21.573282        0.015846  0.646399  0.024514  0.980442  0.987090   \n",
       "...            ...             ...       ...       ...       ...       ...   \n",
       "262284   20.692149        1.040039  0.661515  1.572208  0.115902  0.216871   \n",
       "262285  223.783173        0.729245  0.333750  2.185005  0.028888  0.078635   \n",
       "262286   20.420345        1.193677  0.673796  1.771570  0.076466  0.160688   \n",
       "262287   20.503166        1.526323  0.675801  2.258539  0.023912  0.068358   \n",
       "262288    9.309923        1.266071  0.950405  1.332139  0.182814       NaN   \n",
       "\n",
       "                       regions  \n",
       "0                   chr1:10003  \n",
       "1             chr1:10004-10010  \n",
       "2             chr1:10011-10440  \n",
       "3             chr1:10441-10463  \n",
       "4             chr1:10464-10466  \n",
       "...                        ...  \n",
       "262284  chrY:13369746-13369793  \n",
       "262285  chrY:13369794-13371123  \n",
       "262286  chrY:13371124-13371129  \n",
       "262287  chrY:13371130-13371192  \n",
       "262288  chrY:13371193-13371202  \n",
       "\n",
       "[262289 rows x 7 columns]"
      ]
     },
     "execution_count": 21,
     "metadata": {},
     "output_type": "execute_result"
    }
   ],
   "source": [
    "k27KD1h"
   ]
  },
  {
   "cell_type": "code",
   "execution_count": null,
   "id": "c659bd35",
   "metadata": {
    "ExecuteTime": {
     "start_time": "2023-05-23T14:39:28.795Z"
    }
   },
   "outputs": [],
   "source": [
    "k27KD1h[['chrom', 'start', 'end']] = k27KD1h['regions'].apply(split_coord)"
   ]
  },
  {
   "cell_type": "code",
   "execution_count": null,
   "id": "c5d73598",
   "metadata": {
    "ExecuteTime": {
     "start_time": "2023-05-23T14:39:28.796Z"
    }
   },
   "outputs": [],
   "source": [
    "k27WT1h[['chrom', 'start', 'end']] = k27WT1h['regions'].apply(split_coord)"
   ]
  },
  {
   "cell_type": "code",
   "execution_count": null,
   "id": "4bb7667b",
   "metadata": {
    "ExecuteTime": {
     "start_time": "2023-05-23T14:39:28.798Z"
    }
   },
   "outputs": [],
   "source": [
    "k27KD1h.columns"
   ]
  },
  {
   "cell_type": "code",
   "execution_count": null,
   "id": "a7cf0f18",
   "metadata": {
    "ExecuteTime": {
     "start_time": "2023-05-23T14:39:28.799Z"
    }
   },
   "outputs": [],
   "source": [
    "bf_k27KD1h = bf.from_any(k27KD1h[\n",
    "    [\"chrom\", \"start\", \"end\", 'baseMean', 'log2FoldChange', 'lfcSE', 'stat', 'pvalue', 'padj']\n",
    "]\n",
    "                        )"
   ]
  },
  {
   "cell_type": "code",
   "execution_count": null,
   "id": "4ec44b59",
   "metadata": {
    "ExecuteTime": {
     "start_time": "2023-05-23T14:39:28.801Z"
    }
   },
   "outputs": [],
   "source": [
    "bf_k27WT1h = bf.from_any(k27WT1h[\n",
    "    [\"chrom\", \"start\", \"end\", 'baseMean', 'log2FoldChange', 'lfcSE', 'stat', 'pvalue', 'padj']\n",
    "]\n",
    "                        )"
   ]
  },
  {
   "cell_type": "markdown",
   "id": "00c62a43",
   "metadata": {},
   "source": [
    "### Remove NaN from 1h-0h comparison "
   ]
  },
  {
   "cell_type": "code",
   "execution_count": null,
   "id": "21bd38f3",
   "metadata": {
    "ExecuteTime": {
     "start_time": "2023-05-23T14:39:28.802Z"
    }
   },
   "outputs": [],
   "source": [
    "bf_k27KD1h = bf_k27KD1h[~bf_k27KD1h['log2FoldChange'].isna()]\n",
    "bf_k27KD1h = bf_k27KD1h[~bf_k27KD1h['padj'].isna()]"
   ]
  },
  {
   "cell_type": "code",
   "execution_count": null,
   "id": "4063d39b",
   "metadata": {
    "ExecuteTime": {
     "start_time": "2023-05-23T14:39:28.803Z"
    }
   },
   "outputs": [],
   "source": [
    "bf_k27WT1h = bf_k27WT1h[~bf_k27WT1h['log2FoldChange'].isna()]\n",
    "bf_k27WT1h = bf_k27WT1h[~bf_k27WT1h['padj'].isna()]"
   ]
  },
  {
   "cell_type": "markdown",
   "id": "ab2fdc85",
   "metadata": {},
   "source": [
    "# Get average H3K27ac signal in promoters (overlapping coordinates)"
   ]
  },
  {
   "cell_type": "code",
   "execution_count": null,
   "id": "acbe9d50",
   "metadata": {
    "ExecuteTime": {
     "start_time": "2023-05-23T14:39:28.805Z"
    }
   },
   "outputs": [],
   "source": [
    "bg_KD = bf.overlap(bg_promoters, bf_k27KD1h)"
   ]
  },
  {
   "cell_type": "code",
   "execution_count": null,
   "id": "0f2fd235",
   "metadata": {
    "ExecuteTime": {
     "start_time": "2023-05-23T14:39:28.806Z"
    }
   },
   "outputs": [],
   "source": [
    "bg_KD[~bg_KD['log2FoldChange_'].isna()]"
   ]
  },
  {
   "cell_type": "code",
   "execution_count": null,
   "id": "37134994",
   "metadata": {
    "ExecuteTime": {
     "start_time": "2023-05-23T14:39:28.807Z"
    }
   },
   "outputs": [],
   "source": [
    "bg_WT = bf.overlap(bg_promoters, bf_k27WT1h)"
   ]
  },
  {
   "cell_type": "code",
   "execution_count": null,
   "id": "13a6de49",
   "metadata": {
    "ExecuteTime": {
     "start_time": "2023-05-23T14:39:28.809Z"
    }
   },
   "outputs": [],
   "source": [
    "tg_KD = bf.overlap(tg_promoters, bf_k27KD1h)"
   ]
  },
  {
   "cell_type": "code",
   "execution_count": null,
   "id": "30f80ee8",
   "metadata": {
    "ExecuteTime": {
     "start_time": "2023-05-23T14:39:28.810Z"
    }
   },
   "outputs": [],
   "source": [
    "tg_WT = bf.overlap(tg_promoters, bf_k27WT1h)"
   ]
  },
  {
   "cell_type": "code",
   "execution_count": null,
   "id": "9e61b553",
   "metadata": {
    "ExecuteTime": {
     "start_time": "2023-05-23T14:39:28.811Z"
    }
   },
   "outputs": [],
   "source": [
    "vals_bg_KD = np.array([v for v in bg_KD.groupby('ensembl_gene_id', as_index=False)[\"log2FoldChange_\"].agg(\n",
    "    {\"log2FoldChange_\": np.nanmean})[\"log2FoldChange_\"] if np.isfinite(v)])"
   ]
  },
  {
   "cell_type": "code",
   "execution_count": null,
   "id": "eba29454",
   "metadata": {
    "ExecuteTime": {
     "start_time": "2023-05-23T14:39:28.812Z"
    }
   },
   "outputs": [],
   "source": [
    "vals_bg_WT = np.array([v for v in bg_WT.groupby('ensembl_gene_id', as_index=False)[\"log2FoldChange_\"].agg(\n",
    "    {\"log2FoldChange_\": np.nanmean})[\"log2FoldChange_\"] if np.isfinite(v)])"
   ]
  },
  {
   "cell_type": "code",
   "execution_count": null,
   "id": "9189335e",
   "metadata": {
    "ExecuteTime": {
     "start_time": "2023-05-23T14:39:28.820Z"
    }
   },
   "outputs": [],
   "source": [
    "vals_tg_KD = np.array([v for v in tg_KD.groupby('ensembl_gene_id', as_index=False)[\"log2FoldChange_\"].agg(\n",
    "    {\"log2FoldChange_\": np.nanmean})[\"log2FoldChange_\"] if np.isfinite(v)])"
   ]
  },
  {
   "cell_type": "code",
   "execution_count": null,
   "id": "26664c9f",
   "metadata": {
    "ExecuteTime": {
     "start_time": "2023-05-23T14:39:28.822Z"
    }
   },
   "outputs": [],
   "source": [
    "vals_tg_WT = np.array([v for v in tg_WT.groupby('ensembl_gene_id', as_index=False)[\"log2FoldChange_\"].agg(\n",
    "    {\"log2FoldChange_\": np.nanmean})[\"log2FoldChange_\"] if np.isfinite(v)])"
   ]
  },
  {
   "cell_type": "code",
   "execution_count": null,
   "id": "210de7ff",
   "metadata": {
    "ExecuteTime": {
     "start_time": "2023-05-23T14:39:28.823Z"
    }
   },
   "outputs": [],
   "source": [
    "len(vals_bg_KD)"
   ]
  },
  {
   "cell_type": "code",
   "execution_count": null,
   "id": "77ce5be0",
   "metadata": {
    "ExecuteTime": {
     "start_time": "2023-05-23T14:39:28.825Z"
    }
   },
   "outputs": [],
   "source": [
    "len(vals_bg_WT)"
   ]
  },
  {
   "cell_type": "code",
   "execution_count": null,
   "id": "58345112",
   "metadata": {
    "ExecuteTime": {
     "start_time": "2023-05-23T14:39:28.826Z"
    }
   },
   "outputs": [],
   "source": [
    "len(vals_tg_KD)"
   ]
  },
  {
   "cell_type": "code",
   "execution_count": null,
   "id": "6130e1b9",
   "metadata": {
    "ExecuteTime": {
     "start_time": "2023-05-23T14:39:28.828Z"
    }
   },
   "outputs": [],
   "source": [
    "len(vals_tg_WT)"
   ]
  },
  {
   "cell_type": "markdown",
   "id": "fdea149e",
   "metadata": {},
   "source": [
    "# Plot"
   ]
  },
  {
   "cell_type": "code",
   "execution_count": null,
   "id": "c5e9b25d",
   "metadata": {
    "ExecuteTime": {
     "start_time": "2023-05-23T14:39:28.829Z"
    }
   },
   "outputs": [],
   "source": [
    "from scipy import stats"
   ]
  },
  {
   "cell_type": "code",
   "execution_count": null,
   "id": "949afd20",
   "metadata": {
    "ExecuteTime": {
     "start_time": "2023-05-23T14:39:28.831Z"
    }
   },
   "outputs": [],
   "source": [
    "stats.mannwhitneyu(vals_tg_WT, vals_bg_WT)"
   ]
  },
  {
   "cell_type": "code",
   "execution_count": null,
   "id": "4f1105a2",
   "metadata": {
    "ExecuteTime": {
     "start_time": "2023-05-23T14:39:28.832Z"
    }
   },
   "outputs": [],
   "source": [
    "stats.mannwhitneyu(vals_tg_KD, vals_bg_KD)"
   ]
  },
  {
   "cell_type": "code",
   "execution_count": null,
   "id": "0081b3a6",
   "metadata": {
    "ExecuteTime": {
     "start_time": "2023-05-23T14:39:28.834Z"
    }
   },
   "outputs": [],
   "source": [
    "plt.figure(figsize=(2, 4), dpi=100)\n",
    "plt.boxplot([vals_tg_WT, vals_bg_WT, vals_tg_KD, vals_bg_KD], \n",
    "            showfliers=False, notch=True, bootstrap=100, widths=0.6, \n",
    "            labels=['WT\\n(tg)', 'WT\\n(all)', 'KD\\n(tg)', 'KD\\n(all)'])\n",
    "plt.yticks([-2.5, 0, 2.5])\n",
    "plt.ylabel('H3K27ac(log2FC)')"
   ]
  },
  {
   "cell_type": "code",
   "execution_count": null,
   "id": "2b6a26e6",
   "metadata": {
    "ExecuteTime": {
     "start_time": "2023-05-23T14:39:28.836Z"
    }
   },
   "outputs": [],
   "source": [
    "np.nanmean(vals_bg_KD), np.nanmedian(vals_bg_KD)"
   ]
  },
  {
   "cell_type": "code",
   "execution_count": null,
   "id": "01464e2c",
   "metadata": {
    "ExecuteTime": {
     "start_time": "2023-05-23T14:39:28.837Z"
    }
   },
   "outputs": [],
   "source": [
    "tg_normKD = (vals_tg_KD - np.nanmean(vals_bg_KD)) / np.nanstd(vals_bg_KD)"
   ]
  },
  {
   "cell_type": "code",
   "execution_count": null,
   "id": "b2ae326b",
   "metadata": {
    "ExecuteTime": {
     "start_time": "2023-05-23T14:39:28.839Z"
    }
   },
   "outputs": [],
   "source": [
    "tg_normWT = (vals_tg_WT - np.nanmean(vals_bg_WT)) / np.nanstd(vals_bg_WT)"
   ]
  },
  {
   "cell_type": "code",
   "execution_count": null,
   "id": "9a9ea7f3",
   "metadata": {
    "ExecuteTime": {
     "start_time": "2023-05-23T14:39:28.841Z"
    }
   },
   "outputs": [],
   "source": [
    "tg_normKD = (vals_tg_KD / np.nanmedian(vals_bg_KD))"
   ]
  },
  {
   "cell_type": "code",
   "execution_count": null,
   "id": "a6b1ce96",
   "metadata": {
    "ExecuteTime": {
     "start_time": "2023-05-23T14:39:28.842Z"
    }
   },
   "outputs": [],
   "source": [
    "tg_normWT = (vals_tg_WT / np.nanmedian(vals_bg_WT))"
   ]
  },
  {
   "cell_type": "code",
   "execution_count": null,
   "id": "cc002334",
   "metadata": {
    "ExecuteTime": {
     "start_time": "2023-05-23T14:39:28.844Z"
    }
   },
   "outputs": [],
   "source": [
    "names = {    \n",
    "    'WTNut0h' : '0h WT',\n",
    "    'KDNut0h' : '0h KD' ,\n",
    "    'WTNut1h' : '1h WT' ,\n",
    "    'KDNut1h' : '1h KD' ,\n",
    "    'WTNut10h': '10h WT',\n",
    "    'KDNut10h': '10h KD',\n",
    "}"
   ]
  },
  {
   "cell_type": "code",
   "execution_count": null,
   "id": "771d572d",
   "metadata": {
    "ExecuteTime": {
     "start_time": "2023-05-23T14:39:28.846Z"
    }
   },
   "outputs": [],
   "source": [
    "plt.figure(figsize=(1.5, 3), dpi=200)\n",
    "\n",
    "ax = plt.subplot()\n",
    "\n",
    "vals = [tg_normWT, tg_normKD]\n",
    "\n",
    "tests = []\n",
    "y0 = 4.95\n",
    "y1 = 5.1\n",
    "yt = 5.1\n",
    "positions = [1, 2]\n",
    "\n",
    "for n, v1 in enumerate(vals[::2]):\n",
    "    v2 = vals[1 + n * 2]\n",
    "    r, pv = stats.mannwhitneyu(v1, v2)\n",
    "    print (r, pv)\n",
    "#     plt.plot([x0, x1, x1, x0], [n * 2 + 1, n * 2 + 1, n * 2 + 2, n * 2 + 2], color='k')\n",
    "    plt.plot([positions[n * 2], positions[n * 2], positions[n * 2 + 1],\n",
    "              positions[n * 2 + 1]], [y0, y1, y1, y0], color='k')\n",
    "    plt.text(n * 2 + 1.5, yt, '*' if pv < 0.05 else 'ns', ha='center', size=8)\n",
    "plt.ylim(-1.7, 5.3)\n",
    "\n",
    "colors = [\n",
    "    ( 54 / 256, 181 / 256, 120 / 256, 0.5), #  1h WT\n",
    "    (174 / 256, 174 / 256, 174 / 256, 0.5), #  1h KD\n",
    "]\n",
    "\n",
    "\n",
    "bps = plt.boxplot(vals, showfliers=False, patch_artist=True, positions=positions, showcaps=False,\n",
    "                  boxprops=dict(facecolor='none', color='k'), medianprops=dict(color='k'), widths=0.3)\n",
    "\n",
    "for n, b in enumerate(bps['boxes']):\n",
    "    b.set_facecolor(colors[n])\n",
    "\n",
    "vls = plt.violinplot(vals, vert=True, positions=positions, showextrema=False)\n",
    "for n, v in enumerate(vls['bodies']):\n",
    "    v.set_facecolor(\"None\")\n",
    "    v.set_edgecolor(list(colors[n][:-1]) + [20])\n",
    "    v.set_linewidth(0.9)\n",
    "    v.set_alpha(1)\n",
    "\n",
    "plt.yticks(range(-1, 5))\n",
    "plt.grid(axis='y')\n",
    "\n",
    "sample_order = ['WTNut1h', 'KDNut1h']\n",
    "\n",
    "plt.xticks(positions, [names[s].split()[1] for s in sample_order], size=8)\n",
    "plt.yticks(size=8)\n",
    "ax.spines[['right', 'top', 'bottom']].set_visible(False)\n",
    "plt.tick_params(\n",
    "    axis='x',          # changes apply to the x-axis\n",
    "    which='both',      # both major and minor ticks are affected\n",
    "    bottom=False,      # ticks along the bottom edge are off\n",
    "    top=False,         # ticks along the top edge are off\n",
    "    labelbottom=True)\n",
    "\n",
    "plt.ylabel('Control-normalized H3K27ac\\n(log2FC Nut 1h vs. 0h)')\n",
    "plt.savefig(\"/home/fransua/Projects/Monica_p53/results/degron/fig7C_normh3k27acFC_KD.pdf\", dpi=300)"
   ]
  },
  {
   "cell_type": "code",
   "execution_count": null,
   "id": "8ea2fb76",
   "metadata": {
    "ExecuteTime": {
     "start_time": "2023-05-23T14:39:28.847Z"
    }
   },
   "outputs": [],
   "source": [
    "stats.mannwhitneyu(tg_normWT, tg_normKD)"
   ]
  },
  {
   "cell_type": "code",
   "execution_count": null,
   "id": "4f89f8c1",
   "metadata": {},
   "outputs": [],
   "source": []
  }
 ],
 "metadata": {
  "kernelspec": {
   "display_name": "Python [conda env:py39]",
   "language": "python",
   "name": "conda-env-py39-py"
  },
  "language_info": {
   "codemirror_mode": {
    "name": "ipython",
    "version": 3
   },
   "file_extension": ".py",
   "mimetype": "text/x-python",
   "name": "python",
   "nbconvert_exporter": "python",
   "pygments_lexer": "ipython3",
   "version": "3.9.7"
  },
  "toc": {
   "base_numbering": 1,
   "nav_menu": {},
   "number_sections": false,
   "sideBar": true,
   "skip_h1_title": false,
   "title_cell": "Table of Contents",
   "title_sidebar": "Contents",
   "toc_cell": false,
   "toc_position": {
    "height": "calc(100% - 180px)",
    "left": "10px",
    "top": "150px",
    "width": "304.8px"
   },
   "toc_section_display": true,
   "toc_window_display": true
  }
 },
 "nbformat": 4,
 "nbformat_minor": 5
}
