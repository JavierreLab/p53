{
 "cells": [
  {
   "cell_type": "code",
   "execution_count": 1,
   "id": "c563df16",
   "metadata": {
    "ExecuteTime": {
     "end_time": "2023-12-21T12:29:57.364101Z",
     "start_time": "2023-12-21T12:29:56.543894Z"
    }
   },
   "outputs": [],
   "source": [
    "import os\n",
    "from collections import Counter\n",
    "\n",
    "from pygam import LinearGAM, s, f\n",
    "import numpy as np\n",
    "import pandas as pd\n",
    "\n",
    "import matplotlib.pyplot as plt"
   ]
  },
  {
   "cell_type": "code",
   "execution_count": 2,
   "id": "767e0103",
   "metadata": {
    "ExecuteTime": {
     "end_time": "2023-12-21T12:29:57.366614Z",
     "start_time": "2023-12-21T12:29:57.365150Z"
    }
   },
   "outputs": [],
   "source": [
    "import matplotlib"
   ]
  },
  {
   "cell_type": "code",
   "execution_count": 3,
   "id": "f8e70f6f",
   "metadata": {
    "ExecuteTime": {
     "end_time": "2023-12-21T12:29:57.372105Z",
     "start_time": "2023-12-21T12:29:57.367394Z"
    }
   },
   "outputs": [],
   "source": [
    "import upsetplot"
   ]
  },
  {
   "cell_type": "code",
   "execution_count": 4,
   "id": "64bf782d",
   "metadata": {
    "ExecuteTime": {
     "end_time": "2023-12-21T12:29:57.376827Z",
     "start_time": "2023-12-21T12:29:57.373419Z"
    }
   },
   "outputs": [
    {
     "data": {
      "text/plain": [
       "'0.8.0'"
      ]
     },
     "execution_count": 4,
     "metadata": {},
     "output_type": "execute_result"
    }
   ],
   "source": [
    "upsetplot.__version__"
   ]
  },
  {
   "cell_type": "code",
   "execution_count": 5,
   "id": "8aceb9d9",
   "metadata": {
    "ExecuteTime": {
     "end_time": "2023-12-21T12:29:57.567057Z",
     "start_time": "2023-12-21T12:29:57.563445Z"
    }
   },
   "outputs": [],
   "source": [
    "from upsetplot import plot, from_memberships, UpSet"
   ]
  },
  {
   "cell_type": "code",
   "execution_count": 6,
   "id": "d1dc2021",
   "metadata": {
    "ExecuteTime": {
     "end_time": "2023-12-21T12:29:57.832994Z",
     "start_time": "2023-12-21T12:29:57.829475Z"
    }
   },
   "outputs": [],
   "source": [
    "plt.rcParams[\"font.family\"] = \"Arial Narrow\""
   ]
  },
  {
   "cell_type": "code",
   "execution_count": 7,
   "id": "56296dc0",
   "metadata": {
    "ExecuteTime": {
     "end_time": "2023-12-21T12:29:58.053312Z",
     "start_time": "2023-12-21T12:29:58.049250Z"
    }
   },
   "outputs": [],
   "source": [
    "ddir = \"/home/fransua/Projects/Monica_p53/data/PCHiC\""
   ]
  },
  {
   "cell_type": "code",
   "execution_count": 8,
   "id": "c3896ea3",
   "metadata": {
    "ExecuteTime": {
     "end_time": "2023-12-21T12:29:58.287721Z",
     "start_time": "2023-12-21T12:29:58.282058Z"
    }
   },
   "outputs": [],
   "source": [
    "samples = {\n",
    "    \"0h\" : {\n",
    "        \"path\" : \"DMSO_WT_merged_recalibrated2WTDMSO_cutoff_5.ibed\", #\"DMSO_WT_merged_cutoff_5.ibed\",\n",
    "        \"color\": (253 / 256, 231 / 256,  36 / 256, 1),\n",
    "    },\n",
    "    \"1h\" : {\n",
    "        \"path\" : \"Nutlin1h_WT_merged_recalibrated2WTDMSO_cutoff_5.ibed\", # \"Nutlin3a_1h_WT_merged_cutoff_5.ibed\",\n",
    "        \"color\": ( 54 / 256, 181 / 256, 120 / 256, 1),\n",
    "    },\n",
    "    \"1h-degron\" : {\n",
    "        \"path\" : \"HCT116_rad21KDNutlin1h_merged_recalibrated2WTDMSO_cutoff_5.ibed\", # \"Nutlin3a_1h_WT_merged_cutoff_5.ibed\",\n",
    "        \"color\": ( 184 / 256, 112 / 256, 112 / 256, 1),\n",
    "    },\n",
    "    \"10h\" : {\n",
    "        \"path\" : \"Nutlin10h_WT_merged_recalibrated2WTDMSO_cutoff_5.ibed\", # \"Nutlin3a_10h_WT_merged_cutoff_5.ibed\",\n",
    "        \"color\": ( 66 / 256,  54 / 256, 126 / 256, 1),\n",
    "    },\n",
    "}"
   ]
  },
  {
   "cell_type": "code",
   "execution_count": null,
   "id": "b10c7cf3",
   "metadata": {},
   "outputs": [],
   "source": []
  },
  {
   "cell_type": "code",
   "execution_count": 11,
   "id": "5e126aa0",
   "metadata": {
    "ExecuteTime": {
     "end_time": "2023-12-21T12:35:40.173566Z",
     "start_time": "2023-12-21T12:35:39.698500Z"
    }
   },
   "outputs": [],
   "source": [
    "datas = {}\n",
    "for s in samples:\n",
    "    data = pd.read_csv(os.path.join(ddir, samples[s][\"path\"]), sep=\"\\t\", low_memory=False)\n",
    "    data.drop_duplicates(inplace=True)\n",
    "    datas[s] = data[['bait_chr', 'bait_start', 'bait_end', 'otherEnd_chr', 'otherEnd_start', 'otherEnd_end']]"
   ]
  },
  {
   "cell_type": "code",
   "execution_count": 12,
   "id": "ff8f0696",
   "metadata": {
    "ExecuteTime": {
     "end_time": "2023-12-21T12:35:41.123264Z",
     "start_time": "2023-12-21T12:35:40.966397Z"
    }
   },
   "outputs": [
    {
     "name": "stderr",
     "output_type": "stream",
     "text": [
      "/tmp/ipykernel_42668/1582665655.py:2: SettingWithCopyWarning: \n",
      "A value is trying to be set on a copy of a slice from a DataFrame.\n",
      "Try using .loc[row_indexer,col_indexer] = value instead\n",
      "\n",
      "See the caveats in the documentation: https://pandas.pydata.org/pandas-docs/stable/user_guide/indexing.html#returning-a-view-versus-a-copy\n",
      "  datas[t]['left_start' ] = datas[t][['bait_start', 'otherEnd_start']].min(axis=1)\n",
      "/tmp/ipykernel_42668/1582665655.py:3: SettingWithCopyWarning: \n",
      "A value is trying to be set on a copy of a slice from a DataFrame.\n",
      "Try using .loc[row_indexer,col_indexer] = value instead\n",
      "\n",
      "See the caveats in the documentation: https://pandas.pydata.org/pandas-docs/stable/user_guide/indexing.html#returning-a-view-versus-a-copy\n",
      "  datas[t]['left_end'   ] = datas[t][['bait_end'  , 'otherEnd_end'  ]].min(axis=1)\n",
      "/tmp/ipykernel_42668/1582665655.py:4: SettingWithCopyWarning: \n",
      "A value is trying to be set on a copy of a slice from a DataFrame.\n",
      "Try using .loc[row_indexer,col_indexer] = value instead\n",
      "\n",
      "See the caveats in the documentation: https://pandas.pydata.org/pandas-docs/stable/user_guide/indexing.html#returning-a-view-versus-a-copy\n",
      "  datas[t]['right_start'] = datas[t][['bait_start', 'otherEnd_start']].max(axis=1)\n"
     ]
    }
   ],
   "source": [
    "for t in datas:\n",
    "    datas[t]['left_start' ] = datas[t][['bait_start', 'otherEnd_start']].min(axis=1)\n",
    "    datas[t]['left_end'   ] = datas[t][['bait_end'  , 'otherEnd_end'  ]].min(axis=1)\n",
    "    datas[t]['right_start'] = datas[t][['bait_start', 'otherEnd_start']].max(axis=1)\n",
    "    datas[t]['right_end'  ] = datas[t][['bait_end'  , 'otherEnd_end'  ]].max(axis=1)\n",
    "    datas[t]['left_chrom' ] = datas[t]['bait_chr']\n",
    "    datas[t]['right_chrom'] = datas[t]['bait_chr']    \n",
    "    datas[t].loc[datas[t]['bait_start'] > datas[t]['otherEnd_start'], 'left_chrom'] = datas[t].loc[datas[t]['bait_start'] > datas[t]['otherEnd_start'], 'otherEnd_chr']\n",
    "    datas[t].loc[datas[t]['bait_start'] < datas[t]['otherEnd_start'], 'right_chrom'] = datas[t].loc[datas[t]['bait_start'] < datas[t]['otherEnd_start'], 'otherEnd_chr']\n",
    "    datas[t] = datas[t][['left_chrom', 'left_start', 'left_end', \n",
    "                         'right_chrom', 'right_start', 'right_end']]\n",
    "    datas[t].drop_duplicates(inplace=True)"
   ]
  },
  {
   "cell_type": "code",
   "execution_count": 13,
   "id": "ff54ffce",
   "metadata": {
    "ExecuteTime": {
     "end_time": "2023-12-21T12:35:41.866667Z",
     "start_time": "2023-12-21T12:35:41.864131Z"
    }
   },
   "outputs": [],
   "source": [
    "times = ['0h', '1h','10h']"
   ]
  },
  {
   "cell_type": "code",
   "execution_count": 14,
   "id": "607dd33d",
   "metadata": {
    "ExecuteTime": {
     "end_time": "2023-12-21T12:35:42.549565Z",
     "start_time": "2023-12-21T12:35:42.544564Z"
    }
   },
   "outputs": [],
   "source": [
    "t1, t2 = '1h', '10h'"
   ]
  },
  {
   "cell_type": "code",
   "execution_count": 15,
   "id": "97119be4",
   "metadata": {
    "ExecuteTime": {
     "end_time": "2023-12-21T12:35:44.497971Z",
     "start_time": "2023-12-21T12:35:44.362205Z"
    }
   },
   "outputs": [],
   "source": [
    "wt = [t1, t2]\n",
    "others = [t for t in times if t not in wt]\n",
    "df_all = datas[t1].merge(datas[t2].drop_duplicates(), how='left', indicator=True)\n",
    "df_all = df_all[df_all['_merge'] == 'left_only'][df_all.columns[:-1]]\n",
    "for t3 in others:\n",
    "    df_all = df_all.merge(datas[t3].drop_duplicates(), how='left', indicator=True)\n",
    "    df_all = df_all[df_all['_merge'] == 'left_only'][df_all.columns[:-1]]"
   ]
  },
  {
   "cell_type": "code",
   "execution_count": 16,
   "id": "814cf00f",
   "metadata": {
    "ExecuteTime": {
     "end_time": "2023-12-21T12:35:49.369434Z",
     "start_time": "2023-12-21T12:35:48.903812Z"
    }
   },
   "outputs": [],
   "source": [
    "labels = []\n",
    "intersections = []\n",
    "for n, t1 in enumerate(times, 1):\n",
    "    for t2 in times[n:]:\n",
    "        labels.append([t1, t2])\n",
    "        df_all = datas[t1].merge(datas[t2].drop_duplicates(), how='outer', indicator=True)\n",
    "        \n",
    "        maintained = len(df_all[df_all['_merge']=='both'])\n",
    "        lost = len(df_all[df_all['_merge']=='left_only'])\n",
    "        gained = len(df_all[df_all['_merge']=='right_only'])\n",
    "        intersections.append(maintained)\n",
    "\n",
    "labels.append(['10h', '0h', '1h'])\n",
    "df_all = datas['0h'].merge(datas['1h'].drop_duplicates(), how='outer', indicator=True)\n",
    "df_all = df_all[df_all['_merge']=='both'][datas['10h'].columns.to_list()]\n",
    "df_all = df_all.merge(datas['10h'].drop_duplicates(), how='outer', indicator=True)\n",
    "intersections.append(len(df_all[df_all['_merge']=='both']))\n",
    "for n, t1 in enumerate(times, 1):\n",
    "    labels.append([t1])\n",
    "    intersections.append(len(datas[t1]))"
   ]
  },
  {
   "cell_type": "code",
   "execution_count": 17,
   "id": "8c6d91bf",
   "metadata": {
    "ExecuteTime": {
     "end_time": "2023-12-21T12:35:51.015867Z",
     "start_time": "2023-12-21T12:35:50.063269Z"
    }
   },
   "outputs": [],
   "source": [
    "labels = []\n",
    "intersections = []\n",
    "for n, t1 in enumerate(times, 1):\n",
    "    for t2 in times[n:]:\n",
    "        labels.append([t1, t2])\n",
    "        wt = [t1, t2]\n",
    "        others = [t for t in times if t not in wt]\n",
    "        df_all = datas[t1].merge(datas[t2].drop_duplicates(), how='left', indicator=True)\n",
    "        df_all = df_all[df_all['_merge'] == 'both'][df_all.columns[:-1]]\n",
    "        for t3 in others:\n",
    "            df_all = df_all.merge(datas[t3].drop_duplicates(), how='left', indicator=True)\n",
    "            df_all = df_all[df_all['_merge'] == 'left_only'][df_all.columns[:-1]]        \n",
    "        maintained = len(df_all)\n",
    "        intersections.append(maintained)\n",
    "\n",
    "labels.append(['10h', '0h', '1h'])\n",
    "df_all = datas['0h'].merge(datas['1h'].drop_duplicates(), how='outer', indicator=True)\n",
    "df_all = df_all[df_all['_merge']=='both'][datas['10h'].columns.to_list()]\n",
    "df_all = df_all.merge(datas['10h'].drop_duplicates(), how='outer', indicator=True)\n",
    "intersections.append(len(df_all[df_all['_merge']=='both']))\n",
    "for n, t1 in enumerate(times[::-1], 1):\n",
    "    labels.append([t1])\n",
    "    wt = [t1]\n",
    "    others = [t for t in times if t not in wt]\n",
    "    df_all = datas[t1].copy()\n",
    "    for t3 in others:\n",
    "        df_all = df_all.merge(datas[t3].drop_duplicates(), how='left', indicator=True)\n",
    "        df_all = df_all[df_all['_merge'] == 'left_only'][df_all.columns[:-1]]\n",
    "    intersections.append(len(df_all))"
   ]
  },
  {
   "cell_type": "code",
   "execution_count": 18,
   "id": "ffedd076",
   "metadata": {
    "ExecuteTime": {
     "end_time": "2023-12-21T12:35:51.018901Z",
     "start_time": "2023-12-21T12:35:51.016842Z"
    }
   },
   "outputs": [
    {
     "data": {
      "text/plain": [
       "['1h', '10h']"
      ]
     },
     "execution_count": 18,
     "metadata": {},
     "output_type": "execute_result"
    }
   ],
   "source": [
    "others"
   ]
  },
  {
   "cell_type": "code",
   "execution_count": 19,
   "id": "76272a57",
   "metadata": {
    "ExecuteTime": {
     "end_time": "2023-12-21T12:35:52.004846Z",
     "start_time": "2023-12-21T12:35:51.998148Z"
    }
   },
   "outputs": [
    {
     "data": {
      "text/plain": [
       "[['0h', '1h'],\n",
       " ['0h', '10h'],\n",
       " ['1h', '10h'],\n",
       " ['10h', '0h', '1h'],\n",
       " ['10h'],\n",
       " ['1h'],\n",
       " ['0h']]"
      ]
     },
     "execution_count": 19,
     "metadata": {},
     "output_type": "execute_result"
    }
   ],
   "source": [
    "labels"
   ]
  },
  {
   "cell_type": "code",
   "execution_count": 20,
   "id": "f1b756e4",
   "metadata": {
    "ExecuteTime": {
     "end_time": "2023-12-21T12:35:52.691194Z",
     "start_time": "2023-12-21T12:35:52.688589Z"
    }
   },
   "outputs": [
    {
     "data": {
      "text/plain": [
       "[8060, 24470, 11571, 30472, 34563, 37057, 34689]"
      ]
     },
     "execution_count": 20,
     "metadata": {},
     "output_type": "execute_result"
    }
   ],
   "source": [
    "intersections"
   ]
  },
  {
   "cell_type": "code",
   "execution_count": 21,
   "id": "bf34913d",
   "metadata": {
    "ExecuteTime": {
     "end_time": "2023-12-21T12:35:53.387262Z",
     "start_time": "2023-12-21T12:35:53.382637Z"
    }
   },
   "outputs": [],
   "source": [
    "labels = [[f\"Nut{l}\" for l in ll]for ll in labels]"
   ]
  },
  {
   "cell_type": "code",
   "execution_count": 22,
   "id": "1ad534c9",
   "metadata": {
    "ExecuteTime": {
     "end_time": "2023-12-21T12:35:53.573966Z",
     "start_time": "2023-12-21T12:35:53.565746Z"
    }
   },
   "outputs": [],
   "source": [
    "example = from_memberships(labels, data=intersections)"
   ]
  },
  {
   "cell_type": "code",
   "execution_count": 23,
   "id": "3bdd0741",
   "metadata": {
    "ExecuteTime": {
     "end_time": "2023-12-21T12:35:53.762701Z",
     "start_time": "2023-12-21T12:35:53.758060Z"
    }
   },
   "outputs": [],
   "source": [
    "example = example.reorder_levels([f\"Nut{l}\" for l in times])"
   ]
  },
  {
   "cell_type": "code",
   "execution_count": 24,
   "id": "2941f5ef",
   "metadata": {
    "ExecuteTime": {
     "end_time": "2023-12-21T12:35:53.949020Z",
     "start_time": "2023-12-21T12:35:53.945149Z"
    }
   },
   "outputs": [
    {
     "data": {
      "text/plain": [
       "Nut0h  Nut1h  Nut10h\n",
       "True   True   False      8060\n",
       "       False  True      24470\n",
       "False  True   True      11571\n",
       "True   True   True      30472\n",
       "False  False  True      34563\n",
       "       True   False     37057\n",
       "True   False  False     34689\n",
       "dtype: int64"
      ]
     },
     "execution_count": 24,
     "metadata": {},
     "output_type": "execute_result"
    }
   ],
   "source": [
    "example"
   ]
  },
  {
   "cell_type": "code",
   "execution_count": 25,
   "id": "9b9d994f",
   "metadata": {
    "ExecuteTime": {
     "end_time": "2023-12-21T12:35:54.768387Z",
     "start_time": "2023-12-21T12:35:54.623008Z"
    }
   },
   "outputs": [
    {
     "name": "stdout",
     "output_type": "stream",
     "text": [
      "< Nut0h  Nut1h  Nut10h\n",
      "True   True   False      8060\n",
      "       False  True      24470\n",
      "False  True   True      11571\n",
      "True   True   True      30472\n",
      "False  False  True      34563\n",
      "       True   False     37057\n",
      "True   False  False     34689\n",
      "dtype: int64\n",
      "> Nut0h  Nut1h  Nut10h\n",
      "True   False  False     34689\n",
      "False  True   False     37057\n",
      "       False  True      34563\n",
      "True   True   True      30472\n",
      "False  True   True      11571\n",
      "True   False  True      24470\n",
      "       True   False      8060\n",
      "dtype: int64\n"
     ]
    },
    {
     "data": {
      "image/png": "[encoded data removed]",
      "text/plain": [
       "<Figure size 750x450 with 4 Axes>"
      ]
     },
     "metadata": {
      "needs_background": "light"
     },
     "output_type": "display_data"
    }
   ],
   "source": [
    "upset = UpSet(example, show_counts='{:,}', sort_by=\"-input\", sort_categories_by='input',\n",
    "              orientation=\"horizontal\", facecolor='lightgrey')\n",
    "upset.style_subsets(present=['Nut0h', 'Nut1h'], absent=['Nut10h'], facecolor='tab:grey')\n",
    "upset.style_subsets(present=['Nut0h', 'Nut10h'], absent=['Nut1h'], facecolor='tab:grey')\n",
    "upset.style_subsets(present=['Nut0h' ], absent=['Nut1h', 'Nut10h'], facecolor=samples['0h' ]['color'])\n",
    "upset.style_subsets(present=['Nut1h' ], absent=['Nut0h', 'Nut10h'], facecolor=samples['1h' ]['color'])\n",
    "upset.style_subsets(present=['Nut10h'], absent=['Nut1h', 'Nut0h' ], facecolor=samples['10h']['color'])\n",
    "upset._facecolor = [samples['0h' ]['color'], samples['1h' ]['color'], samples['10h' ]['color']]\n",
    "axes = upset.plot()\n",
    "ax_inter = axes['intersections']\n",
    "for t in ax_inter.get_children():\n",
    "    if isinstance(t, matplotlib.text.Text) and t.get_text() != '':\n",
    "        t.set_rotation(90)\n",
    "ax_totals = axes['totals']\n",
    "ax_totals.set_title('Set size', size=8)\n",
    "# ax_totals.remove()\n",
    "fig = plt.gcf()\n",
    "fig.set_size_inches(5, 3)\n",
    "fig.set_dpi(150)"
   ]
  },
  {
   "cell_type": "code",
   "execution_count": 26,
   "id": "2df7e67b",
   "metadata": {
    "ExecuteTime": {
     "end_time": "2023-12-21T12:35:55.050416Z",
     "start_time": "2023-12-21T12:35:55.047863Z"
    }
   },
   "outputs": [
    {
     "data": {
      "text/plain": [
       "[(0.98828125, 0.90234375, 0.140625, 1),\n",
       " (0.2109375, 0.70703125, 0.46875, 1),\n",
       " (0.2578125, 0.2109375, 0.4921875, 1)]"
      ]
     },
     "execution_count": 26,
     "metadata": {},
     "output_type": "execute_result"
    }
   ],
   "source": [
    "upset._facecolor"
   ]
  },
  {
   "cell_type": "code",
   "execution_count": null,
   "id": "bff4e5ce",
   "metadata": {},
   "outputs": [],
   "source": []
  },
  {
   "cell_type": "code",
   "execution_count": 27,
   "id": "a38a88ea",
   "metadata": {
    "ExecuteTime": {
     "end_time": "2023-12-21T12:35:55.962243Z",
     "start_time": "2023-12-21T12:35:55.958585Z"
    }
   },
   "outputs": [],
   "source": [
    "times = ['0h', '1h', '10h', '1h-degron']"
   ]
  },
  {
   "cell_type": "code",
   "execution_count": 28,
   "id": "1dc6e131",
   "metadata": {
    "ExecuteTime": {
     "end_time": "2023-12-21T12:35:57.212296Z",
     "start_time": "2023-12-21T12:35:56.466889Z"
    }
   },
   "outputs": [],
   "source": [
    "labels = []\n",
    "intersections = []\n",
    "for n, t1 in enumerate(times, 1):\n",
    "    labels.append([t1])\n",
    "    intersections.append(len(datas[t1]))\n",
    "\n",
    "for n, t1 in enumerate(times, 1):\n",
    "    for t2 in times[n:]:\n",
    "        labels.append([t1, t2])\n",
    "        df_all = datas[t1].merge(datas[t2].drop_duplicates(), how='outer', indicator=True)\n",
    "        maintained = len(df_all[df_all['_merge']=='both'])\n",
    "        lost = len(df_all[df_all['_merge']=='left_only'])\n",
    "        gained = len(df_all[df_all['_merge']=='right_only'])\n",
    "        intersections.append(maintained)\n",
    "labels.append(['0h', '1h', '10h'])\n",
    "df_all = datas['0h'].merge(datas['1h'].drop_duplicates(), how='outer', indicator=True)\n",
    "df_all = df_all[df_all['_merge']=='both'][datas['10h'].columns.to_list()]\n",
    "df_all = df_all.merge(datas['10h'].drop_duplicates(), how='outer', indicator=True)\n",
    "intersections.append(len(df_all[df_all['_merge']=='both']))\n",
    "\n",
    "labels.append(['0h', '1h', '10h', '1h-degron'])\n",
    "df_all = df_all[df_all['_merge']=='both'][datas['10h'].columns.to_list()]\n",
    "df_all = df_all.merge(datas['1h-degron'].drop_duplicates(), how='outer', indicator=True)\n",
    "intersections.append(len(df_all[df_all['_merge']=='both']))"
   ]
  },
  {
   "cell_type": "code",
   "execution_count": 29,
   "id": "64e0f97c",
   "metadata": {
    "ExecuteTime": {
     "end_time": "2023-12-21T12:35:57.217835Z",
     "start_time": "2023-12-21T12:35:57.213563Z"
    }
   },
   "outputs": [],
   "source": [
    "example = from_memberships(labels, data=intersections)"
   ]
  },
  {
   "cell_type": "code",
   "execution_count": 30,
   "id": "acf93274",
   "metadata": {
    "ExecuteTime": {
     "end_time": "2023-12-21T12:35:57.311314Z",
     "start_time": "2023-12-21T12:35:57.305675Z"
    }
   },
   "outputs": [],
   "source": [
    "example = example.reorder_levels(times)"
   ]
  },
  {
   "cell_type": "code",
   "execution_count": 31,
   "id": "10fd7225",
   "metadata": {
    "ExecuteTime": {
     "end_time": "2023-12-21T12:35:57.727810Z",
     "start_time": "2023-12-21T12:35:57.602657Z"
    }
   },
   "outputs": [
    {
     "data": {
      "image/png": "[encoded data removed]",
      "text/plain": [
       "<Figure size 755.556x444.444 with 3 Axes>"
      ]
     },
     "metadata": {
      "needs_background": "light"
     },
     "output_type": "display_data"
    }
   ],
   "source": [
    "upset = UpSet(example, show_counts='{:,}', sort_categories_by='input',\n",
    "              sort_by=\"cardinality\", orientation=\"horizontal\", facecolor='lightgrey')\n",
    "upset.style_subsets(present=['0h', '1h'], absent=['10h'], facecolor='tab:grey')\n",
    "upset.style_subsets(present=['0h', '10h'], absent=['1h'], facecolor='tab:grey')\n",
    "upset.style_subsets(present=['1h-degron'], edgecolor='tab:red')\n",
    "axes = upset.plot()\n",
    "ax_inter = axes['intersections']\n",
    "for t in ax_inter.get_children():\n",
    "    if isinstance(t, matplotlib.text.Text) and t.get_text() != '':\n",
    "        t.set_rotation(90)\n",
    "ax_totals = axes['totals']\n",
    "ax_totals.remove()\n",
    "fig = plt.gcf()\n",
    "fig.set_dpi(100)"
   ]
  },
  {
   "cell_type": "code",
   "execution_count": null,
   "id": "a4c314f4",
   "metadata": {},
   "outputs": [],
   "source": []
  },
  {
   "cell_type": "code",
   "execution_count": null,
   "id": "54359888",
   "metadata": {},
   "outputs": [],
   "source": []
  },
  {
   "cell_type": "code",
   "execution_count": null,
   "id": "57e4a64c",
   "metadata": {},
   "outputs": [],
   "source": []
  },
  {
   "cell_type": "code",
   "execution_count": 32,
   "id": "b16c7361",
   "metadata": {
    "ExecuteTime": {
     "end_time": "2023-12-21T12:35:59.492555Z",
     "start_time": "2023-12-21T12:35:59.091683Z"
    }
   },
   "outputs": [],
   "source": [
    "reso = 10_000\n",
    "\n",
    "vals = {}\n",
    "for s in samples:\n",
    "    data = pd.read_csv(os.path.join(ddir, samples[s][\"path\"]), sep=\"\\t\", low_memory=False)\n",
    "    data = data[data[\"bait_chr\"] == data[\"otherEnd_chr\"]]\n",
    "    data[\"d1\"] = abs(data[\"bait_end\"]  - data[\"otherEnd_start\"])\n",
    "    data[\"d2\"] = abs(data[\"bait_start\"]  - data[\"otherEnd_end\"])\n",
    "    x = data[[\"d1\", \"d2\"]].min(axis=1).to_numpy(dtype=int) // reso\n",
    "    x = Counter(x)\n",
    "    factor = sum(x.values()) / 100_000\n",
    "#     factor = 1\n",
    "    vals[s] = [x.get(v, 0) / factor for v in range(20_000 // reso, 1_100_000 // reso + 1)]\n",
    "    vals[s].append(sum(x[v] for v in x if v > 1_100_000 // reso))"
   ]
  },
  {
   "cell_type": "code",
   "execution_count": 33,
   "id": "2ef4f5e9",
   "metadata": {
    "ExecuteTime": {
     "end_time": "2023-12-21T12:35:59.496129Z",
     "start_time": "2023-12-21T12:35:59.493734Z"
    }
   },
   "outputs": [
    {
     "data": {
      "text/plain": [
       "['0h', '1h', '10h', '1h-degron']"
      ]
     },
     "execution_count": 33,
     "metadata": {},
     "output_type": "execute_result"
    }
   ],
   "source": [
    "times"
   ]
  },
  {
   "cell_type": "code",
   "execution_count": 34,
   "id": "ca941bb0",
   "metadata": {
    "ExecuteTime": {
     "end_time": "2023-12-21T12:35:59.798078Z",
     "start_time": "2023-12-21T12:35:59.793012Z"
    }
   },
   "outputs": [
    {
     "data": {
      "text/plain": [
       "dict_keys(['0h', '1h', '1h-degron', '10h'])"
      ]
     },
     "execution_count": 34,
     "metadata": {},
     "output_type": "execute_result"
    }
   ],
   "source": [
    "samples.keys()"
   ]
  },
  {
   "cell_type": "code",
   "execution_count": 35,
   "id": "d134c8a9",
   "metadata": {
    "ExecuteTime": {
     "end_time": "2023-12-21T12:35:59.981755Z",
     "start_time": "2023-12-21T12:35:59.979902Z"
    }
   },
   "outputs": [],
   "source": [
    "import pandas as pd"
   ]
  },
  {
   "cell_type": "code",
   "execution_count": 36,
   "id": "9f1bd0d7",
   "metadata": {
    "ExecuteTime": {
     "end_time": "2023-12-21T12:36:00.447224Z",
     "start_time": "2023-12-21T12:36:00.444223Z"
    }
   },
   "outputs": [],
   "source": [
    "df = pd.DataFrame.from_dict(vals)"
   ]
  },
  {
   "cell_type": "code",
   "execution_count": 37,
   "id": "978b970c",
   "metadata": {
    "ExecuteTime": {
     "end_time": "2023-12-21T12:36:00.590456Z",
     "start_time": "2023-12-21T12:36:00.588299Z"
    }
   },
   "outputs": [],
   "source": [
    "df = df"
   ]
  },
  {
   "cell_type": "code",
   "execution_count": 38,
   "id": "354c3f9d",
   "metadata": {
    "ExecuteTime": {
     "end_time": "2023-12-21T12:36:00.753417Z",
     "start_time": "2023-12-21T12:36:00.748528Z"
    }
   },
   "outputs": [],
   "source": [
    "df[None] = [f\"{i * 10}-{(i + 1) * 10}kb\" for i in range(len(df))]"
   ]
  },
  {
   "cell_type": "code",
   "execution_count": 39,
   "id": "5772bc33",
   "metadata": {
    "ExecuteTime": {
     "end_time": "2023-12-21T12:36:01.158925Z",
     "start_time": "2023-12-21T12:36:01.154624Z"
    }
   },
   "outputs": [],
   "source": [
    "df.drop(df.tail(n).index,inplace=True)"
   ]
  },
  {
   "cell_type": "code",
   "execution_count": 40,
   "id": "821f9dad",
   "metadata": {
    "ExecuteTime": {
     "end_time": "2023-12-21T12:36:02.271540Z",
     "start_time": "2023-12-21T12:36:02.269131Z"
    }
   },
   "outputs": [],
   "source": [
    "df = df.set_index(None)"
   ]
  },
  {
   "cell_type": "code",
   "execution_count": 41,
   "id": "e3b3d8bc",
   "metadata": {
    "ExecuteTime": {
     "end_time": "2023-12-21T12:36:13.152886Z",
     "start_time": "2023-12-21T12:36:13.125801Z"
    }
   },
   "outputs": [
    {
     "name": "stderr",
     "output_type": "stream",
     "text": [
      "/tmp/ipykernel_42668/3099030495.py:1: FutureWarning: As the xlwt package is no longer maintained, the xlwt engine will be removed in a future version of pandas. This is the only engine in pandas that supports writing in the xls format. Install openpyxl and write to an xlsx file instead. You can set the option io.excel.xls.writer to 'xlwt' to silence this warning. While this option is deprecated and will also raise a warning, it can be globally set and the warning suppressed.\n",
      "  df.to_excel(\"pchic_di-tags_per_distance-range.xls\")\n"
     ]
    }
   ],
   "source": [
    "df.to_excel(\"pchic_di-tags_per_distance-range.xls\")"
   ]
  },
  {
   "cell_type": "code",
   "execution_count": 101,
   "id": "ab3b04c6",
   "metadata": {
    "ExecuteTime": {
     "end_time": "2023-09-13T15:17:37.577687Z",
     "start_time": "2023-09-13T15:17:37.574729Z"
    }
   },
   "outputs": [
    {
     "data": {
      "text/plain": [
       "['0h', '1h', '10h', '1h-degron']"
      ]
     },
     "execution_count": 101,
     "metadata": {},
     "output_type": "execute_result"
    }
   ],
   "source": [
    "times"
   ]
  },
  {
   "cell_type": "code",
   "execution_count": 102,
   "id": "2ca5a2ef",
   "metadata": {
    "ExecuteTime": {
     "end_time": "2023-09-13T15:17:45.445391Z",
     "start_time": "2023-09-13T15:17:45.441413Z"
    }
   },
   "outputs": [],
   "source": [
    "times = ['0h', '1h', '10h']"
   ]
  },
  {
   "cell_type": "code",
   "execution_count": 105,
   "id": "ddb9d6cc",
   "metadata": {
    "ExecuteTime": {
     "end_time": "2023-09-13T15:18:11.809362Z",
     "start_time": "2023-09-13T15:18:11.480551Z"
    }
   },
   "outputs": [
    {
     "name": "stderr",
     "output_type": "stream",
     "text": [
      "100% (11 of 11) |########################| Elapsed Time: 0:00:00 Time:  0:00:00\n",
      "100% (11 of 11) |########################| Elapsed Time: 0:00:00 Time:  0:00:00\n",
      "100% (11 of 11) |########################| Elapsed Time: 0:00:00 Time:  0:00:00\n"
     ]
    },
    {
     "name": "stdout",
     "output_type": "stream",
     "text": [
      "14.405056375600068 0.9986550079651926\n",
      "19.383520719369862 0.998658650328831\n",
      "19.383520719369862 0.9985751767190827\n"
     ]
    },
    {
     "data": {
      "image/png": "[encoded data removed]",
      "text/plain": [
       "<Figure size 600x500 with 1 Axes>"
      ]
     },
     "metadata": {
      "needs_background": "light"
     },
     "output_type": "display_data"
    }
   ],
   "source": [
    "plt.figure(figsize=(3, 2.5), dpi=200)\n",
    "ax = plt.subplot()\n",
    "zoom = True\n",
    "degron = False\n",
    "if zoom:\n",
    "    axins = ax.inset_axes([0.37, 0.6, 0.34, 0.39])\n",
    "for w in (samples if degron else times):\n",
    "    y = vals[w][:-5]\n",
    "    X = np.asarray([[v,] for v in range(len(y))])\n",
    "    gam = LinearGAM().gridsearch(X, y)\n",
    "    XX = gam.generate_X_grid(term=0)\n",
    "    ax.plot(XX, gam.predict(XX), '-', label=f\"{w}\", color=samples[w][\"color\"], alpha=0.75)\n",
    "    if zoom:\n",
    "        axins.plot(XX, gam.predict(XX), '-', label=f\"{w}\", color=samples[w][\"color\"], alpha=0.75)\n",
    "    y0, y1 = list(zip(*gam.prediction_intervals(XX, width=.95)))\n",
    "    ax.fill_between([v[0] for v in XX], y0, y1, color=samples[w][\"color\"], alpha=0.25, ec='none')\n",
    "    if zoom:\n",
    "        axins.fill_between([v[0] for v in XX], y0, y1, color=samples[w][\"color\"], alpha=0.25, ec='none')\n",
    "    ax.scatter(X, y, facecolor=samples[w][\"color\"], alpha=1, edgecolors='none', s=5)\n",
    "    if zoom:\n",
    "        axins.scatter(X, y, facecolor=samples[w][\"color\"], alpha=1, edgecolors='none', s=5)\n",
    "    print(gam.statistics_['edof'], gam.statistics_['pseudo_r2']['explained_deviance'])\n",
    "# ax.collections[-2].set_label('95% prediction')\n",
    "# ax.collections[-1].set_label('Observed percentage')\n",
    "\n",
    "\n",
    "ax.set_xlim(0, len(X)-2)\n",
    "ax.set_ylim(0, 3300)\n",
    "leg = ax.legend(frameon=False, bbox_to_anchor=(0.8, 1), loc='upper left', handlelength=1, ncol=1, \n",
    "                fontsize=8, title=\"Nut\", labelspacing = 0.2, handletextpad=0.3)\n",
    "leg._legend_box.align = \"left\"\n",
    "plt.setp(leg.get_title(),fontsize=\"8\")\n",
    "\n",
    "if zoom:\n",
    "    axins.set_xlim(300_000 / reso, 400_000 / reso)\n",
    "    axins.set_ylim(800, 1200)\n",
    "    axins.set_xticks([])\n",
    "    axins.set_yticks([])\n",
    "    ax.indicate_inset_zoom(axins, edgecolor=\"black\")\n",
    "\n",
    "# leg.legendHandles[-1].set_color('grey')\n",
    "# leg.legendHandles[-2].set_color('grey')\n",
    "\n",
    "xs = [0] + list(range(20, len(X) + 2, 20))\n",
    "ys = [v for v in range(0, 3500, 500)]\n",
    "ax.set_xticks(xs)\n",
    "ax.set_xticklabels([f\"{((v if v else 2) * reso) // 1_000}\".replace(\"1000kb\", \"1Mb\") for v in xs], size=8)\n",
    "\n",
    "ax.set_yticks(ys)\n",
    "ax.set_yticklabels([f\"{v / 1_000:.1f}\" for v in ys], size=8)\n",
    "ax.set_xlabel(\"Distance between PCHi-C anchors (kb)\", size=8)\n",
    "ax.set_ylabel(\"PCHi-C interactions per 10kb distance range (%)\", size=8)\n",
    "ax.spines[['right', 'top']].set_visible(False)\n",
    "plt.tight_layout()\n",
    "plt.savefig(f\"/home/fransua/Projects/Monica_p53/results/PCHiC/fig4D_10kb_{'' if zoom else 'no'}zoom_{'' if degron else 'no'}degron.pdf\", dpi=300)"
   ]
  },
  {
   "cell_type": "code",
   "execution_count": 387,
   "id": "043edfbf",
   "metadata": {
    "ExecuteTime": {
     "end_time": "2023-09-01T15:58:09.521104Z",
     "start_time": "2023-09-01T15:58:09.513167Z"
    }
   },
   "outputs": [
    {
     "name": "stdout",
     "output_type": "stream",
     "text": [
      "LinearGAM                                                                                                 \n",
      "=============================================== ==========================================================\n",
      "Distribution:                        NormalDist Effective DoF:                                     19.3835\n",
      "Link Function:                     IdentityLink Log Likelihood:                                  -852.8567\n",
      "Number of Samples:                          105 AIC:                                             1746.4804\n",
      "                                                AICc:                                            1756.9059\n",
      "                                                GCV:                                             1992.4834\n",
      "                                                Scale:                                           1343.7272\n",
      "                                                Pseudo R-Squared:                                   0.9986\n",
      "==========================================================================================================\n",
      "Feature Function                  Lambda               Rank         EDoF         P > x        Sig. Code   \n",
      "================================= ==================== ============ ============ ============ ============\n",
      "s(0)                              [0.001]              20           19.4         1.11e-16     ***         \n",
      "intercept                                              1            0.0          1.11e-16     ***         \n",
      "==========================================================================================================\n",
      "Significance codes:  0 '***' 0.001 '**' 0.01 '*' 0.05 '.' 0.1 ' ' 1\n",
      "\n",
      "WARNING: Fitting splines and a linear function to a feature introduces a model identifiability problem\n",
      "         which can cause p-values to appear significant when they are not.\n",
      "\n",
      "WARNING: p-values calculated in this manner behave correctly for un-penalized models or models with\n",
      "         known smoothing parameters, but when smoothing parameters have been estimated, the p-values\n",
      "         are typically lower than they should be, meaning that the tests reject the null too readily.\n"
     ]
    },
    {
     "name": "stderr",
     "output_type": "stream",
     "text": [
      "/tmp/ipykernel_17177/3358381670.py:1: UserWarning: KNOWN BUG: p-values computed in this summary are likely much smaller than they should be. \n",
      " \n",
      "Please do not make inferences based on these values! \n",
      "\n",
      "Collaborate on a solution, and stay up to date at: \n",
      "github.com/dswah/pyGAM/issues/163 \n",
      "\n",
      "  gam.summary()\n"
     ]
    }
   ],
   "source": [
    "gam.summary()"
   ]
  },
  {
   "cell_type": "code",
   "execution_count": null,
   "id": "0548371d",
   "metadata": {},
   "outputs": [],
   "source": []
  },
  {
   "cell_type": "code",
   "execution_count": null,
   "id": "5f4b80bf",
   "metadata": {},
   "outputs": [],
   "source": []
  }
 ],
 "metadata": {
  "kernelspec": {
   "display_name": "Python [conda env:py39]",
   "language": "python",
   "name": "conda-env-py39-py"
  },
  "language_info": {
   "codemirror_mode": {
    "name": "ipython",
    "version": 3
   },
   "file_extension": ".py",
   "mimetype": "text/x-python",
   "name": "python",
   "nbconvert_exporter": "python",
   "pygments_lexer": "ipython3",
   "version": "3.9.7"
  },
  "toc": {
   "base_numbering": 1,
   "nav_menu": {},
   "number_sections": false,
   "sideBar": true,
   "skip_h1_title": false,
   "title_cell": "Table of Contents",
   "title_sidebar": "Contents",
   "toc_cell": false,
   "toc_position": {},
   "toc_section_display": true,
   "toc_window_display": false
  }
 },
 "nbformat": 4,
 "nbformat_minor": 5
}
