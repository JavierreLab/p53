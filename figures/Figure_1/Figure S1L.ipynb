{
 "cells": [
  {
   "cell_type": "code",
   "execution_count": 1,
   "id": "95d58bad",
   "metadata": {
    "ExecuteTime": {
     "end_time": "2023-12-14T16:08:31.708662Z",
     "start_time": "2023-12-14T16:08:31.697944Z"
    }
   },
   "outputs": [],
   "source": [
    "import os"
   ]
  },
  {
   "cell_type": "code",
   "execution_count": 2,
   "id": "b9515ec7",
   "metadata": {
    "ExecuteTime": {
     "end_time": "2023-12-14T16:08:32.275378Z",
     "start_time": "2023-12-14T16:08:31.774295Z"
    }
   },
   "outputs": [],
   "source": [
    "import numpy as np\n",
    "import pandas as pd"
   ]
  },
  {
   "cell_type": "code",
   "execution_count": 3,
   "id": "34c1e661",
   "metadata": {
    "ExecuteTime": {
     "end_time": "2023-12-14T16:08:32.277812Z",
     "start_time": "2023-12-14T16:08:32.276424Z"
    }
   },
   "outputs": [],
   "source": [
    "import sqlite3 as lite "
   ]
  },
  {
   "cell_type": "code",
   "execution_count": 4,
   "id": "0faebb49",
   "metadata": {
    "ExecuteTime": {
     "end_time": "2023-12-14T16:08:32.284641Z",
     "start_time": "2023-12-14T16:08:32.278496Z"
    }
   },
   "outputs": [],
   "source": [
    "from matplotlib import pyplot as plt\n",
    "plt.rcParams[\"font.family\"] = \"Arial Narrow\""
   ]
  },
  {
   "cell_type": "markdown",
   "id": "969125f9",
   "metadata": {},
   "source": [
    "# Load compartments"
   ]
  },
  {
   "cell_type": "code",
   "execution_count": 5,
   "id": "c305574e",
   "metadata": {
    "ExecuteTime": {
     "end_time": "2023-12-14T16:08:32.287354Z",
     "start_time": "2023-12-14T16:08:32.285690Z"
    }
   },
   "outputs": [],
   "source": [
    "treatments = ['NUT']\n",
    "conditions = ['WT']\n",
    "times = ['0h', '1h', '4h', '7h', '10h', '24h', 'w24h']"
   ]
  },
  {
   "cell_type": "code",
   "execution_count": 6,
   "id": "a0e034bb",
   "metadata": {
    "ExecuteTime": {
     "end_time": "2023-12-14T16:08:32.579380Z",
     "start_time": "2023-12-14T16:08:32.576418Z"
    }
   },
   "outputs": [],
   "source": [
    "db_path = '../../data/ComplementaryData/HiC/TADbit_results/'"
   ]
  },
  {
   "cell_type": "code",
   "execution_count": 7,
   "id": "794ceedc",
   "metadata": {
    "ExecuteTime": {
     "end_time": "2023-12-14T16:08:32.828003Z",
     "start_time": "2023-12-14T16:08:32.823831Z"
    }
   },
   "outputs": [],
   "source": [
    "windows = [3]\n",
    "ev_indexes = [1, 2]"
   ]
  },
  {
   "cell_type": "code",
   "execution_count": 9,
   "id": "9dd562b9",
   "metadata": {
    "ExecuteTime": {
     "end_time": "2023-12-14T16:08:33.132427Z",
     "start_time": "2023-12-14T16:08:33.103525Z"
    }
   },
   "outputs": [],
   "source": [
    "hashs = {}\n",
    "wjobids = {}\n",
    "samples = []\n",
    "for treatment in treatments:\n",
    "    for condition in conditions:\n",
    "        for time in times:\n",
    "            sample = condition, treatment, time\n",
    "            try:\n",
    "                con = lite.connect(os.path.join(\n",
    "                    db_path, f'Cabrera_2022_HCT116_{condition}_{treatment}_{time}/trace.db'))\n",
    "            except lite.OperationalError:\n",
    "                print(f'Error {sample}')\n",
    "                continue\n",
    "            hashs[sample] = {}\n",
    "            wjobids[sample] = {}\n",
    "            samples.append(sample)\n",
    "            cur = con.cursor()\n",
    "            cur.execute(\"\"\"\n",
    "            select distinct Id, Parameters, Parameters_md5 from JOBs\n",
    "            where Type = 'Segment' AND parameters like '%compartments:1%' AND not parameters like '%crms:[chrY]%'\n",
    "            \"\"\")\n",
    "            jobids = cur.fetchall()\n",
    "            for window in windows:\n",
    "                hashs[sample][window] = {}\n",
    "                wjobids[sample][window] = {}\n",
    "                for ev_index in ev_indexes:\n",
    "                    if ev_index == 1:\n",
    "                        test_ev = lambda x: 'ev_index:[2]' not in x\n",
    "                    else:\n",
    "                        test_ev = lambda x: 'ev_index:[2]' in x\n",
    "                    hashs[sample][window][ev_index] = {}\n",
    "                    wjobids[sample][window][ev_index] = {}\n",
    "                    for jobid, parameters, md5 in jobids:\n",
    "                        if (test_ev(parameters) and\n",
    "                           f'smoothing_window:{window}' in parameters):\n",
    "                            c = parameters.split('crms:[')[1].split(']')[0]\n",
    "                            hashs[sample][window][ev_index][c] = md5\n",
    "                            wjobids[sample][window][ev_index][c] = jobid\n",
    "            con.close()\n",
    "            con = lite.connect(os.path.join(\n",
    "                db_path, f'Cabrera_2022_HCT116_{condition}_{treatment}_{time}/trace.db'))\n",
    "            cur = con.cursor()\n",
    "            cur.execute(\"\"\"\n",
    "            select distinct JOBid, richA_corr from SEGMENT_OUTPUTs where Resolution = 100000 and Chromosome != \"chrY\"\n",
    "            \"\"\")\n",
    "            jobids = dict(cur.fetchall())\n",
    "            for window in windows:\n",
    "                for ev_index in ev_indexes:\n",
    "                    for c in wjobids[sample][window][ev_index]:\n",
    "                        wjobids[sample][window][ev_index][c] = abs(\n",
    "                            jobids[wjobids[sample][window][ev_index][c]])\n",
    "            con.close()\n"
   ]
  },
  {
   "cell_type": "code",
   "execution_count": 10,
   "id": "6cea86b3",
   "metadata": {
    "ExecuteTime": {
     "end_time": "2023-12-14T16:08:35.086664Z",
     "start_time": "2023-12-14T16:08:35.083607Z"
    }
   },
   "outputs": [
    {
     "name": "stdout",
     "output_type": "stream",
     "text": [
      "('WT', 'NUT', '0h')\t3 (1)\t23\n",
      "('WT', 'NUT', '0h')\t3 (2)\t23\n",
      "('WT', 'NUT', '1h')\t3 (1)\t23\n",
      "('WT', 'NUT', '1h')\t3 (2)\t23\n",
      "('WT', 'NUT', '4h')\t3 (1)\t23\n",
      "('WT', 'NUT', '4h')\t3 (2)\t23\n",
      "('WT', 'NUT', '7h')\t3 (1)\t23\n",
      "('WT', 'NUT', '7h')\t3 (2)\t23\n",
      "('WT', 'NUT', '10h')\t3 (1)\t23\n",
      "('WT', 'NUT', '10h')\t3 (2)\t23\n",
      "('WT', 'NUT', '24h')\t3 (1)\t23\n",
      "('WT', 'NUT', '24h')\t3 (2)\t23\n",
      "('WT', 'NUT', 'w24h')\t3 (1)\t23\n",
      "('WT', 'NUT', 'w24h')\t3 (2)\t23\n"
     ]
    }
   ],
   "source": [
    "for t in hashs:\n",
    "    for w in windows:\n",
    "        for e in ev_indexes:\n",
    "            print('{}\\t{} ({})\\t{}'.format(t, w, e, len(hashs[t][w][e])))"
   ]
  },
  {
   "cell_type": "code",
   "execution_count": 11,
   "id": "eb0130a5",
   "metadata": {
    "ExecuteTime": {
     "end_time": "2023-12-14T16:08:40.470517Z",
     "start_time": "2023-12-14T16:08:40.465932Z"
    }
   },
   "outputs": [],
   "source": [
    "cpath = os.path.join(\n",
    "    db_path, \n",
    "    'Cabrera_2022_HCT116_{}_{}_{}/06_segmentation/compartments_100kb/{}_EigVect{}_{}.tsv')"
   ]
  },
  {
   "cell_type": "code",
   "execution_count": 12,
   "id": "f3e79921",
   "metadata": {
    "ExecuteTime": {
     "end_time": "2023-12-14T16:08:41.002673Z",
     "start_time": "2023-12-14T16:08:40.997890Z"
    }
   },
   "outputs": [],
   "source": [
    "chromosomes = [f'chr{c}' for c in list(range(1, 23)) + ['X']]"
   ]
  },
  {
   "cell_type": "code",
   "execution_count": 13,
   "id": "9db6c12d",
   "metadata": {
    "ExecuteTime": {
     "end_time": "2023-12-14T16:08:42.204011Z",
     "start_time": "2023-12-14T16:08:41.851425Z"
    }
   },
   "outputs": [],
   "source": [
    "h = 'hash'\n",
    "evs = {}\n",
    "for params in hashs:\n",
    "    evs[params] = {}\n",
    "    for w in windows:\n",
    "        evs[params][w] = {}\n",
    "        for nev in ev_indexes:\n",
    "            evs[params][w][nev] = {}\n",
    "            for c in chromosomes:\n",
    "                evs[params][w][nev][c] = {}\n",
    "                try:\n",
    "                    fh = open(cpath.format(*params, c, nev, hashs[params][w][nev][c]))\n",
    "                except KeyError:\n",
    "                    print('MISSING:', params, w, nev, c)\n",
    "                    continue\n",
    "                next(fh)\n",
    "                for nl, line in enumerate(fh):\n",
    "                    ev = line.split('\\t')[nev - 1]\n",
    "                    evs[params][w][nev][c][nl] = float(ev)"
   ]
  },
  {
   "cell_type": "markdown",
   "id": "a9668c18",
   "metadata": {},
   "source": [
    "## manually define which EV to choose"
   ]
  },
  {
   "cell_type": "code",
   "execution_count": 14,
   "id": "e24b5886",
   "metadata": {
    "ExecuteTime": {
     "end_time": "2023-12-14T16:08:56.125923Z",
     "start_time": "2023-12-14T16:08:56.121900Z"
    }
   },
   "outputs": [],
   "source": [
    "which_ev = {\n",
    "    ('0h'): {\n",
    "        'chr2' : 1,  # manual inspection\n",
    "        'chr4' : 2,\n",
    "        'chr7' : 2,\n",
    "        'chr12': 1,  # manual inspection\n",
    "    },\n",
    "    ('1h'): {\n",
    "        'chr2' : 1,  # manual inspection\n",
    "        'chr4' : 2,\n",
    "        'chr7' : 2,\n",
    "        'chr12': 1,  # manual inspection\n",
    "    },\n",
    "    ('4h'): {\n",
    "        'chr2' : 1,  # manual inspection\n",
    "        'chr4' : 2,\n",
    "        'chr7' : 2,\n",
    "        'chr12': 1,  # manual inspection\n",
    "    },\n",
    "    ('7h'): {\n",
    "        'chr2' : 1,  # manual inspection\n",
    "        'chr4' : 2,\n",
    "        'chr7' : 2,\n",
    "        'chr12': 1,  # manual inspection\n",
    "    },\n",
    "    ('10h'): {\n",
    "        'chr2' : 1,  # manual inspection\n",
    "        'chr4' : 2,\n",
    "        'chr7' : 2,\n",
    "        'chr12': 1,  # manual inspection\n",
    "    },\n",
    "    ('24h'): {\n",
    "        'chr2' : 1,  # manual inspection\n",
    "        'chr4' : 2,\n",
    "        'chr7' : 2,\n",
    "        'chr12': 1,  # manual inspection\n",
    "    },\n",
    "    ('w24h'): {\n",
    "        'chr2' : 1,  # manual inspection\n",
    "        'chr4' : 2,\n",
    "        'chr7' : 2,\n",
    "        'chr12': 1,  # manual inspection\n",
    "    },\n",
    "    ('w48h'): {\n",
    "        'chr2' : 1,  # manual inspection\n",
    "        'chr4' : 2,\n",
    "        'chr7' : 2,\n",
    "        'chr12': 1,  # manual inspection\n",
    "    }\n",
    "}"
   ]
  },
  {
   "cell_type": "code",
   "execution_count": 15,
   "id": "c5071452",
   "metadata": {
    "ExecuteTime": {
     "end_time": "2023-12-14T16:08:58.716446Z",
     "start_time": "2023-12-14T16:08:58.711949Z"
    }
   },
   "outputs": [],
   "source": [
    "w = 3\n",
    "raw_evs = {}\n",
    "for sample in hashs:\n",
    "    raw_evs[sample] = {}\n",
    "    for c in chromosomes:\n",
    "        nev = which_ev[sample[2]].get(c, 1)\n",
    "        raw_evs[sample][c] = evs[sample][w][nev][c]"
   ]
  },
  {
   "cell_type": "code",
   "execution_count": 16,
   "id": "bda2b655",
   "metadata": {
    "ExecuteTime": {
     "end_time": "2023-12-14T16:08:59.097767Z",
     "start_time": "2023-12-14T16:08:59.092378Z"
    }
   },
   "outputs": [],
   "source": [
    "for n, c in enumerate(chromosomes, 1):\n",
    "    len_max = max(len(raw_evs[s][c].values()) for s in hashs)\n",
    "    for s in hashs:\n",
    "        len_other = len(raw_evs[s][c].values())\n",
    "        if len_max != len_other:\n",
    "            for i in range(len_other + 1, len_max + 1):\n",
    "                raw_evs[s][c][i] = float('nan')"
   ]
  },
  {
   "cell_type": "markdown",
   "id": "c7235201",
   "metadata": {},
   "source": [
    "# proportion of A/B Compartments"
   ]
  },
  {
   "cell_type": "code",
   "execution_count": 19,
   "id": "44debbde",
   "metadata": {
    "ExecuteTime": {
     "end_time": "2023-12-14T16:13:23.293324Z",
     "start_time": "2023-12-14T16:13:23.087259Z"
    }
   },
   "outputs": [],
   "source": [
    "good_bins = set()\n",
    "for condition in list(hashs.keys())[:-1]:\n",
    "    x = [(c, i) for c in chromosomes for i, v in enumerate(norm_evs[condition][c].values()) if np.isfinite(v)]\n",
    "    if not good_bins:\n",
    "        good_bins = set(x)\n",
    "    else:\n",
    "        good_bins.intersection_update(x)"
   ]
  },
  {
   "cell_type": "code",
   "execution_count": 20,
   "id": "563886a9",
   "metadata": {
    "ExecuteTime": {
     "end_time": "2023-12-14T16:13:23.511382Z",
     "start_time": "2023-12-14T16:13:23.508452Z"
    }
   },
   "outputs": [
    {
     "data": {
      "text/plain": [
       "27245"
      ]
     },
     "execution_count": 20,
     "metadata": {},
     "output_type": "execute_result"
    }
   ],
   "source": [
    "len(good_bins)"
   ]
  },
  {
   "cell_type": "code",
   "execution_count": 21,
   "id": "60a05df6",
   "metadata": {
    "ExecuteTime": {
     "end_time": "2023-12-14T16:13:25.275668Z",
     "start_time": "2023-12-14T16:13:25.083090Z"
    }
   },
   "outputs": [
    {
     "name": "stdout",
     "output_type": "stream",
     "text": [
      "WT-NUT-0h\t58.8%\n",
      "WT-NUT-1h\t61.5%\n",
      "WT-NUT-4h\t60.6%\n",
      "WT-NUT-7h\t59.7%\n",
      "WT-NUT-10h\t54.6%\n",
      "WT-NUT-24h\t55.8%\n",
      "WT-NUT-w24h\t57.7%\n"
     ]
    }
   ],
   "source": [
    "comps = {}\n",
    "for condition in hashs:\n",
    "    x = [v for c in chromosomes for n, v in enumerate(raw_evs[condition][c].values()) \n",
    "         if np.isfinite(v) and (c, n) in good_bins]\n",
    "    comps[condition] = x\n",
    "    print(f'{\"-\".join(condition):}\\t{sum(v > 0 for v in x) / (len(x)) * 100:.1f}%')\n"
   ]
  },
  {
   "cell_type": "code",
   "execution_count": 22,
   "id": "4c14c572",
   "metadata": {
    "ExecuteTime": {
     "end_time": "2023-12-14T16:13:25.954829Z",
     "start_time": "2023-12-14T16:13:25.791028Z"
    }
   },
   "outputs": [
    {
     "name": "stdout",
     "output_type": "stream",
     "text": [
      " WT-NUT-0h 40.5% B compartment\n",
      " WT-NUT-1h 37.8% B compartment\n",
      " WT-NUT-4h 38.6% B compartment\n",
      " WT-NUT-7h 39.5% B compartment\n",
      "WT-NUT-10h 44.6% B compartment\n",
      "WT-NUT-24h 44.2% B compartment\n",
      "WT-NUT-w24h 41.2% B compartment\n"
     ]
    }
   ],
   "source": [
    "for condition in hashs:\n",
    "    x = [v for c in chromosomes for v in raw_evs[condition][c].values() if np.isfinite(v)]\n",
    "    print(f'{\"-\".join(condition):>10} {sum(v < 0 for v in x) / (len(x)) * 100:.1f}% B compartment')\n"
   ]
  },
  {
   "cell_type": "code",
   "execution_count": 23,
   "id": "68f6e133",
   "metadata": {
    "ExecuteTime": {
     "end_time": "2023-12-14T16:13:26.704756Z",
     "start_time": "2023-12-14T16:13:26.702324Z"
    }
   },
   "outputs": [],
   "source": [
    "colors = {\n",
    "    '0h'  : \"#fde72580\", \n",
    "    '1h'  : \"#37b57880\",\n",
    "    '4h'  : \"#21908d80\",\n",
    "    '7h'  : \"#31668d80\",\n",
    "    '10h' : \"#43377f80\",\n",
    "    '24h' : \"#44015480\",\n",
    "    'w24h': '#fb852480',\n",
    "#     'w48h': '#00000080',\n",
    "}"
   ]
  },
  {
   "cell_type": "code",
   "execution_count": null,
   "id": "23f80508",
   "metadata": {},
   "outputs": [],
   "source": []
  },
  {
   "cell_type": "code",
   "execution_count": 24,
   "id": "33c0d0d2",
   "metadata": {
    "ExecuteTime": {
     "end_time": "2023-12-14T16:16:16.823099Z",
     "start_time": "2023-12-14T16:16:16.684456Z"
    }
   },
   "outputs": [
    {
     "data": {
      "image/png": "[encoded data removed]",
      "text/plain": [
       "<Figure size 450x660 with 1 Axes>"
      ]
     },
     "metadata": {},
     "output_type": "display_data"
    }
   ],
   "source": [
    "plt.figure(figsize=(3, 4.4), dpi=150)\n",
    "plt.barh(range(-len(comps), 0), [sum(v < 0 for v in x) / len(x) * 100 for x in comps.values()],\n",
    "        color=\"#23447F\", height=0.7)\n",
    "\n",
    "for n, (k, x) in enumerate(comps.items(), 1):\n",
    "    plt.text(\n",
    "        20, -n, \n",
    "        f\"{sum(v < 0 for v in x)}\", \n",
    "        ha='center', va='center', color='w')\n",
    "    plt.text(\n",
    "        70, -n, \n",
    "        f\"{sum(v > 0 for v in x)}\", \n",
    "        ha='center', va='center', color='w')\n",
    "    if 'w' not in k[2]:\n",
    "        name = f\"Nut {k[2]}\"\n",
    "    else:\n",
    "        name = f\"Wash\"\n",
    "    plt.text(\n",
    "        -7, -n, \n",
    "        name, bbox=dict(boxstyle=\"square\", ec=(0, 0, 0, 1), fc=colors[k[2]], \n",
    "                alpha=None, pad=0.18),\n",
    "        ha='center', va='center', color='k', rotation=90)\n",
    "\n",
    "plt.barh(range(-len(comps), 0), [sum(v > 0 for v in x) / len(x) * 100 for x in comps.values()],\n",
    "        left=[sum(v < 0 for v in x) / len(x) * 100 for x in comps.values()],\n",
    "        color=\"#881010\", height=0.7)\n",
    "\n",
    "med = np.nanmedian([sum(v < 0 for v in x) / len(x) * 100 for x in list(comps.values())[:-2]])\n",
    "\n",
    "plt.axvline(med, color='k', lw=2)\n",
    "plt.axvline(med, color='w', lw=1)\n",
    "plt.plot(med, -0.5, 'v', mec='k', mfc='w', clip_on=False)\n",
    "\n",
    "plt.xlim(0, 100)\n",
    "plt.ylim(-len(comps) - 0.5, -0.44)\n",
    "plt.yticks([])\n",
    "plt.xticks([0, 25,50, 75, 100], [0, \"\",\"\", \"\", 100])\n",
    "plt.xlabel(\"% of compartments\")\n",
    "plt.gca().spines[['right', 'top', 'left']].set_visible(False)\n",
    "plt.savefig(\"/home/fransua/Projects/Monica_p53/results/compartments/compartment_proportions_S1E_w24h.pdf\")"
   ]
  },
  {
   "cell_type": "code",
   "execution_count": null,
   "id": "941c6023",
   "metadata": {},
   "outputs": [],
   "source": []
  }
 ],
 "metadata": {
  "kernelspec": {
   "display_name": "Python 3 (ipykernel)",
   "language": "python",
   "name": "python3"
  },
  "language_info": {
   "codemirror_mode": {
    "name": "ipython",
    "version": 3
   },
   "file_extension": ".py",
   "mimetype": "text/x-python",
   "name": "python",
   "nbconvert_exporter": "python",
   "pygments_lexer": "ipython3",
   "version": "3.11.5"
  },
  "notify_time": "5",
  "toc": {
   "base_numbering": 1,
   "nav_menu": {},
   "number_sections": false,
   "sideBar": true,
   "skip_h1_title": false,
   "title_cell": "Table of Contents",
   "title_sidebar": "Contents",
   "toc_cell": false,
   "toc_position": {
    "height": "calc(100% - 180px)",
    "left": "10px",
    "top": "150px",
    "width": "243.391px"
   },
   "toc_section_display": true,
   "toc_window_display": true
  }
 },
 "nbformat": 4,
 "nbformat_minor": 5
}
