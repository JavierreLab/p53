{
 "cells": [
  {
   "cell_type": "code",
   "execution_count": 50,
   "id": "17ec6b35",
   "metadata": {
    "ExecuteTime": {
     "end_time": "2023-12-14T09:08:41.276665Z",
     "start_time": "2023-12-14T09:08:40.583336Z"
    }
   },
   "outputs": [],
   "source": [
    "import os\n",
    "import numpy as np\n",
    "import pandas as pd\n",
    "from matplotlib import pyplot as plt\n",
    "from matplotlib.colors import LinearSegmentedColormap\n",
    "import scipy.cluster.hierarchy as sch\n",
    "from itertools import product"
   ]
  },
  {
   "cell_type": "code",
   "execution_count": 2,
   "id": "3513c787",
   "metadata": {
    "ExecuteTime": {
     "end_time": "2023-12-14T09:08:42.311746Z",
     "start_time": "2023-12-14T09:08:42.309520Z"
    }
   },
   "outputs": [],
   "source": [
    "colors = {\n",
    "    '0h'  : \"#fde72580\", \n",
    "    '1h'  : \"#37b57880\",\n",
    "    '4h'  : \"#21908d80\",\n",
    "    '7h'  : \"#31668d80\",\n",
    "    '10h' : \"#43377f80\",\n",
    "    '24h' : \"#44015480\",\n",
    "    'w24h': '#fb852480',\n",
    "#     'w48h': '#00000080',\n",
    "}"
   ]
  },
  {
   "cell_type": "code",
   "execution_count": 3,
   "id": "1d1c8e29",
   "metadata": {
    "ExecuteTime": {
     "end_time": "2023-12-14T09:08:42.681905Z",
     "start_time": "2023-12-14T09:08:42.679981Z"
    }
   },
   "outputs": [],
   "source": [
    "plt.rcParams[\"font.family\"] = \"Arial Narrow\""
   ]
  },
  {
   "cell_type": "code",
   "execution_count": 5,
   "id": "65839f33",
   "metadata": {
    "ExecuteTime": {
     "end_time": "2023-12-14T09:08:43.226097Z",
     "start_time": "2023-12-14T09:08:43.181810Z"
    }
   },
   "outputs": [],
   "source": [
    "# Load compartments\n",
    "comps = pd.read_csv('../../data/ComplementaryData/HiC/p53_normalized_compartments.tsv', sep='\\t', index_col=0)"
   ]
  },
  {
   "cell_type": "code",
   "execution_count": 6,
   "id": "705f9b75",
   "metadata": {
    "ExecuteTime": {
     "end_time": "2023-12-14T09:08:43.843349Z",
     "start_time": "2023-12-14T09:08:43.823799Z"
    }
   },
   "outputs": [
    {
     "data": {
      "text/html": [
       "<div>\n",
       "<style scoped>\n",
       "    .dataframe tbody tr th:only-of-type {\n",
       "        vertical-align: middle;\n",
       "    }\n",
       "\n",
       "    .dataframe tbody tr th {\n",
       "        vertical-align: top;\n",
       "    }\n",
       "\n",
       "    .dataframe thead th {\n",
       "        text-align: right;\n",
       "    }\n",
       "</style>\n",
       "<table border=\"1\" class=\"dataframe\">\n",
       "  <thead>\n",
       "    <tr style=\"text-align: right;\">\n",
       "      <th></th>\n",
       "      <th>Chromosome</th>\n",
       "      <th>Start</th>\n",
       "      <th>End</th>\n",
       "      <th>WT-NUT-0h</th>\n",
       "      <th>WT-NUT-1h</th>\n",
       "      <th>WT-NUT-4h</th>\n",
       "      <th>WT-NUT-7h</th>\n",
       "      <th>WT-NUT-10h</th>\n",
       "      <th>WT-NUT-24h</th>\n",
       "      <th>WT-NUT-w24h</th>\n",
       "    </tr>\n",
       "  </thead>\n",
       "  <tbody>\n",
       "    <tr>\n",
       "      <th>0</th>\n",
       "      <td>1</td>\n",
       "      <td>1</td>\n",
       "      <td>100000</td>\n",
       "      <td>NaN</td>\n",
       "      <td>NaN</td>\n",
       "      <td>NaN</td>\n",
       "      <td>NaN</td>\n",
       "      <td>NaN</td>\n",
       "      <td>NaN</td>\n",
       "      <td>NaN</td>\n",
       "    </tr>\n",
       "    <tr>\n",
       "      <th>1</th>\n",
       "      <td>1</td>\n",
       "      <td>100001</td>\n",
       "      <td>200000</td>\n",
       "      <td>NaN</td>\n",
       "      <td>NaN</td>\n",
       "      <td>NaN</td>\n",
       "      <td>NaN</td>\n",
       "      <td>NaN</td>\n",
       "      <td>NaN</td>\n",
       "      <td>0.190503</td>\n",
       "    </tr>\n",
       "    <tr>\n",
       "      <th>2</th>\n",
       "      <td>1</td>\n",
       "      <td>200001</td>\n",
       "      <td>300000</td>\n",
       "      <td>NaN</td>\n",
       "      <td>NaN</td>\n",
       "      <td>NaN</td>\n",
       "      <td>NaN</td>\n",
       "      <td>NaN</td>\n",
       "      <td>NaN</td>\n",
       "      <td>0.243394</td>\n",
       "    </tr>\n",
       "    <tr>\n",
       "      <th>3</th>\n",
       "      <td>1</td>\n",
       "      <td>300001</td>\n",
       "      <td>400000</td>\n",
       "      <td>NaN</td>\n",
       "      <td>NaN</td>\n",
       "      <td>NaN</td>\n",
       "      <td>NaN</td>\n",
       "      <td>NaN</td>\n",
       "      <td>NaN</td>\n",
       "      <td>NaN</td>\n",
       "    </tr>\n",
       "    <tr>\n",
       "      <th>4</th>\n",
       "      <td>1</td>\n",
       "      <td>400001</td>\n",
       "      <td>500000</td>\n",
       "      <td>NaN</td>\n",
       "      <td>NaN</td>\n",
       "      <td>NaN</td>\n",
       "      <td>NaN</td>\n",
       "      <td>NaN</td>\n",
       "      <td>NaN</td>\n",
       "      <td>NaN</td>\n",
       "    </tr>\n",
       "    <tr>\n",
       "      <th>...</th>\n",
       "      <td>...</td>\n",
       "      <td>...</td>\n",
       "      <td>...</td>\n",
       "      <td>...</td>\n",
       "      <td>...</td>\n",
       "      <td>...</td>\n",
       "      <td>...</td>\n",
       "      <td>...</td>\n",
       "      <td>...</td>\n",
       "      <td>...</td>\n",
       "    </tr>\n",
       "    <tr>\n",
       "      <th>30371</th>\n",
       "      <td>X</td>\n",
       "      <td>154800001</td>\n",
       "      <td>154900000</td>\n",
       "      <td>0.189703</td>\n",
       "      <td>0.199737</td>\n",
       "      <td>0.254933</td>\n",
       "      <td>0.191116</td>\n",
       "      <td>0.221287</td>\n",
       "      <td>0.22803</td>\n",
       "      <td>0.314355</td>\n",
       "    </tr>\n",
       "    <tr>\n",
       "      <th>30372</th>\n",
       "      <td>X</td>\n",
       "      <td>154900001</td>\n",
       "      <td>155000000</td>\n",
       "      <td>0.194494</td>\n",
       "      <td>0.220903</td>\n",
       "      <td>0.283882</td>\n",
       "      <td>0.197022</td>\n",
       "      <td>0.234084</td>\n",
       "      <td>NaN</td>\n",
       "      <td>0.342265</td>\n",
       "    </tr>\n",
       "    <tr>\n",
       "      <th>30373</th>\n",
       "      <td>X</td>\n",
       "      <td>155000001</td>\n",
       "      <td>155100000</td>\n",
       "      <td>NaN</td>\n",
       "      <td>NaN</td>\n",
       "      <td>NaN</td>\n",
       "      <td>NaN</td>\n",
       "      <td>NaN</td>\n",
       "      <td>NaN</td>\n",
       "      <td>NaN</td>\n",
       "    </tr>\n",
       "    <tr>\n",
       "      <th>30374</th>\n",
       "      <td>X</td>\n",
       "      <td>155100001</td>\n",
       "      <td>155200000</td>\n",
       "      <td>NaN</td>\n",
       "      <td>NaN</td>\n",
       "      <td>NaN</td>\n",
       "      <td>NaN</td>\n",
       "      <td>NaN</td>\n",
       "      <td>NaN</td>\n",
       "      <td>NaN</td>\n",
       "    </tr>\n",
       "    <tr>\n",
       "      <th>30375</th>\n",
       "      <td>X</td>\n",
       "      <td>155200001</td>\n",
       "      <td>155300000</td>\n",
       "      <td>NaN</td>\n",
       "      <td>NaN</td>\n",
       "      <td>NaN</td>\n",
       "      <td>NaN</td>\n",
       "      <td>NaN</td>\n",
       "      <td>NaN</td>\n",
       "      <td>NaN</td>\n",
       "    </tr>\n",
       "  </tbody>\n",
       "</table>\n",
       "<p>30376 rows × 10 columns</p>\n",
       "</div>"
      ],
      "text/plain": [
       "      Chromosome      Start        End  WT-NUT-0h  WT-NUT-1h  WT-NUT-4h  \\\n",
       "0              1          1     100000        NaN        NaN        NaN   \n",
       "1              1     100001     200000        NaN        NaN        NaN   \n",
       "2              1     200001     300000        NaN        NaN        NaN   \n",
       "3              1     300001     400000        NaN        NaN        NaN   \n",
       "4              1     400001     500000        NaN        NaN        NaN   \n",
       "...          ...        ...        ...        ...        ...        ...   \n",
       "30371          X  154800001  154900000   0.189703   0.199737   0.254933   \n",
       "30372          X  154900001  155000000   0.194494   0.220903   0.283882   \n",
       "30373          X  155000001  155100000        NaN        NaN        NaN   \n",
       "30374          X  155100001  155200000        NaN        NaN        NaN   \n",
       "30375          X  155200001  155300000        NaN        NaN        NaN   \n",
       "\n",
       "       WT-NUT-7h  WT-NUT-10h  WT-NUT-24h  WT-NUT-w24h  \n",
       "0            NaN         NaN         NaN          NaN  \n",
       "1            NaN         NaN         NaN     0.190503  \n",
       "2            NaN         NaN         NaN     0.243394  \n",
       "3            NaN         NaN         NaN          NaN  \n",
       "4            NaN         NaN         NaN          NaN  \n",
       "...          ...         ...         ...          ...  \n",
       "30371   0.191116    0.221287     0.22803     0.314355  \n",
       "30372   0.197022    0.234084         NaN     0.342265  \n",
       "30373        NaN         NaN         NaN          NaN  \n",
       "30374        NaN         NaN         NaN          NaN  \n",
       "30375        NaN         NaN         NaN          NaN  \n",
       "\n",
       "[30376 rows x 10 columns]"
      ]
     },
     "execution_count": 6,
     "metadata": {},
     "output_type": "execute_result"
    }
   ],
   "source": [
    "comps"
   ]
  },
  {
   "cell_type": "code",
   "execution_count": 7,
   "id": "d513b5d7",
   "metadata": {
    "ExecuteTime": {
     "end_time": "2023-12-14T09:08:44.349542Z",
     "start_time": "2023-12-14T09:08:44.341964Z"
    }
   },
   "outputs": [
    {
     "data": {
      "text/plain": [
       "Index(['Chromosome', 'Start', 'End', 'WT-NUT-0h', 'WT-NUT-1h', 'WT-NUT-4h',\n",
       "       'WT-NUT-7h', 'WT-NUT-10h', 'WT-NUT-24h', 'WT-NUT-w24h'],\n",
       "      dtype='object')"
      ]
     },
     "execution_count": 7,
     "metadata": {},
     "output_type": "execute_result"
    }
   ],
   "source": [
    "comps.columns"
   ]
  },
  {
   "cell_type": "code",
   "execution_count": 12,
   "id": "f49d2b5e",
   "metadata": {
    "ExecuteTime": {
     "end_time": "2023-12-14T09:08:45.775257Z",
     "start_time": "2023-12-14T09:08:45.764963Z"
    }
   },
   "outputs": [],
   "source": [
    "scores = comps[['WT-NUT-0h', 'WT-NUT-1h', 'WT-NUT-4h', 'WT-NUT-7h',\n",
    "                'WT-NUT-10h', 'WT-NUT-24h', 'WT-NUT-w24h']].copy().dropna()"
   ]
  },
  {
   "cell_type": "markdown",
   "id": "e38af758-ecad-4d0e-9bed-45c6c15dda10",
   "metadata": {},
   "source": [
    "Keep only bins with compartment value in non-washout samples"
   ]
  },
  {
   "cell_type": "code",
   "execution_count": 13,
   "id": "f24e41aa-5ee4-4f5a-a900-218389d51d25",
   "metadata": {
    "ExecuteTime": {
     "end_time": "2023-12-14T09:08:46.142925Z",
     "start_time": "2023-12-14T09:08:46.132905Z"
    }
   },
   "outputs": [],
   "source": [
    "scores = scores[~((scores[scores.columns[:-1]] >= 0).all(axis=1) | \n",
    "                  (scores[scores.columns[:-1]] <= 0).all(axis=1))]"
   ]
  },
  {
   "cell_type": "code",
   "execution_count": 14,
   "id": "7348c730-6281-4915-9fc0-33d90a1b2a6d",
   "metadata": {},
   "outputs": [
    {
     "data": {
      "text/html": [
       "<div>\n",
       "<style scoped>\n",
       "    .dataframe tbody tr th:only-of-type {\n",
       "        vertical-align: middle;\n",
       "    }\n",
       "\n",
       "    .dataframe tbody tr th {\n",
       "        vertical-align: top;\n",
       "    }\n",
       "\n",
       "    .dataframe thead th {\n",
       "        text-align: right;\n",
       "    }\n",
       "</style>\n",
       "<table border=\"1\" class=\"dataframe\">\n",
       "  <thead>\n",
       "    <tr style=\"text-align: right;\">\n",
       "      <th></th>\n",
       "      <th>WT-NUT-0h</th>\n",
       "      <th>WT-NUT-1h</th>\n",
       "      <th>WT-NUT-4h</th>\n",
       "      <th>WT-NUT-7h</th>\n",
       "      <th>WT-NUT-10h</th>\n",
       "      <th>WT-NUT-24h</th>\n",
       "      <th>WT-NUT-w24h</th>\n",
       "    </tr>\n",
       "  </thead>\n",
       "  <tbody>\n",
       "    <tr>\n",
       "      <th>153</th>\n",
       "      <td>0.011164</td>\n",
       "      <td>0.106230</td>\n",
       "      <td>0.108810</td>\n",
       "      <td>0.028211</td>\n",
       "      <td>-0.063010</td>\n",
       "      <td>-0.075065</td>\n",
       "      <td>0.041166</td>\n",
       "    </tr>\n",
       "    <tr>\n",
       "      <th>339</th>\n",
       "      <td>0.040125</td>\n",
       "      <td>0.126925</td>\n",
       "      <td>0.043011</td>\n",
       "      <td>0.017711</td>\n",
       "      <td>-0.093342</td>\n",
       "      <td>-0.121845</td>\n",
       "      <td>0.132262</td>\n",
       "    </tr>\n",
       "    <tr>\n",
       "      <th>352</th>\n",
       "      <td>-0.000628</td>\n",
       "      <td>0.010891</td>\n",
       "      <td>0.018699</td>\n",
       "      <td>-0.043266</td>\n",
       "      <td>-0.125760</td>\n",
       "      <td>-0.142514</td>\n",
       "      <td>0.080923</td>\n",
       "    </tr>\n",
       "    <tr>\n",
       "      <th>353</th>\n",
       "      <td>0.137670</td>\n",
       "      <td>0.078944</td>\n",
       "      <td>0.112367</td>\n",
       "      <td>0.064660</td>\n",
       "      <td>0.022274</td>\n",
       "      <td>-0.038727</td>\n",
       "      <td>0.220314</td>\n",
       "    </tr>\n",
       "    <tr>\n",
       "      <th>370</th>\n",
       "      <td>0.096255</td>\n",
       "      <td>0.098795</td>\n",
       "      <td>0.098598</td>\n",
       "      <td>0.079344</td>\n",
       "      <td>0.013585</td>\n",
       "      <td>-0.063419</td>\n",
       "      <td>0.154739</td>\n",
       "    </tr>\n",
       "    <tr>\n",
       "      <th>...</th>\n",
       "      <td>...</td>\n",
       "      <td>...</td>\n",
       "      <td>...</td>\n",
       "      <td>...</td>\n",
       "      <td>...</td>\n",
       "      <td>...</td>\n",
       "      <td>...</td>\n",
       "    </tr>\n",
       "    <tr>\n",
       "      <th>30034</th>\n",
       "      <td>-0.009126</td>\n",
       "      <td>-0.068747</td>\n",
       "      <td>-0.095204</td>\n",
       "      <td>-0.150609</td>\n",
       "      <td>0.017788</td>\n",
       "      <td>-0.025203</td>\n",
       "      <td>-0.278030</td>\n",
       "    </tr>\n",
       "    <tr>\n",
       "      <th>30048</th>\n",
       "      <td>0.020299</td>\n",
       "      <td>0.024051</td>\n",
       "      <td>0.042006</td>\n",
       "      <td>0.023200</td>\n",
       "      <td>-0.026892</td>\n",
       "      <td>0.100664</td>\n",
       "      <td>-0.015784</td>\n",
       "    </tr>\n",
       "    <tr>\n",
       "      <th>30184</th>\n",
       "      <td>-0.036611</td>\n",
       "      <td>0.005975</td>\n",
       "      <td>-0.013474</td>\n",
       "      <td>-0.021075</td>\n",
       "      <td>-0.086389</td>\n",
       "      <td>0.003154</td>\n",
       "      <td>-0.000827</td>\n",
       "    </tr>\n",
       "    <tr>\n",
       "      <th>30210</th>\n",
       "      <td>0.026121</td>\n",
       "      <td>-0.043897</td>\n",
       "      <td>0.068201</td>\n",
       "      <td>0.004562</td>\n",
       "      <td>-0.012778</td>\n",
       "      <td>0.016112</td>\n",
       "      <td>-0.044116</td>\n",
       "    </tr>\n",
       "    <tr>\n",
       "      <th>30308</th>\n",
       "      <td>0.068013</td>\n",
       "      <td>0.105636</td>\n",
       "      <td>0.041672</td>\n",
       "      <td>0.056711</td>\n",
       "      <td>-0.000273</td>\n",
       "      <td>0.066687</td>\n",
       "      <td>0.109251</td>\n",
       "    </tr>\n",
       "  </tbody>\n",
       "</table>\n",
       "<p>3395 rows × 7 columns</p>\n",
       "</div>"
      ],
      "text/plain": [
       "       WT-NUT-0h  WT-NUT-1h  WT-NUT-4h  WT-NUT-7h  WT-NUT-10h  WT-NUT-24h  \\\n",
       "153     0.011164   0.106230   0.108810   0.028211   -0.063010   -0.075065   \n",
       "339     0.040125   0.126925   0.043011   0.017711   -0.093342   -0.121845   \n",
       "352    -0.000628   0.010891   0.018699  -0.043266   -0.125760   -0.142514   \n",
       "353     0.137670   0.078944   0.112367   0.064660    0.022274   -0.038727   \n",
       "370     0.096255   0.098795   0.098598   0.079344    0.013585   -0.063419   \n",
       "...          ...        ...        ...        ...         ...         ...   \n",
       "30034  -0.009126  -0.068747  -0.095204  -0.150609    0.017788   -0.025203   \n",
       "30048   0.020299   0.024051   0.042006   0.023200   -0.026892    0.100664   \n",
       "30184  -0.036611   0.005975  -0.013474  -0.021075   -0.086389    0.003154   \n",
       "30210   0.026121  -0.043897   0.068201   0.004562   -0.012778    0.016112   \n",
       "30308   0.068013   0.105636   0.041672   0.056711   -0.000273    0.066687   \n",
       "\n",
       "       WT-NUT-w24h  \n",
       "153       0.041166  \n",
       "339       0.132262  \n",
       "352       0.080923  \n",
       "353       0.220314  \n",
       "370       0.154739  \n",
       "...            ...  \n",
       "30034    -0.278030  \n",
       "30048    -0.015784  \n",
       "30184    -0.000827  \n",
       "30210    -0.044116  \n",
       "30308     0.109251  \n",
       "\n",
       "[3395 rows x 7 columns]"
      ]
     },
     "execution_count": 14,
     "metadata": {},
     "output_type": "execute_result"
    }
   ],
   "source": [
    "scores"
   ]
  },
  {
   "cell_type": "markdown",
   "id": "8230b2ed-ef94-4d6d-8b6e-cf4b98d1ee5a",
   "metadata": {},
   "source": [
    "### Overlap between DMSO and Nut 24h or washout conditions"
   ]
  },
  {
   "cell_type": "code",
   "execution_count": 41,
   "id": "e78222a9-becf-4c47-a8ca-c34993282853",
   "metadata": {},
   "outputs": [
    {
     "name": "stdout",
     "output_type": "stream",
     "text": [
      "Percetange overlapping DMSO (cut: 0.5)\n",
      "   24h     0.498\n",
      "  w24h     0.532\n",
      "0.9368770764119602\n"
     ]
    }
   ],
   "source": [
    "print(f\"Percetange overlapping DMSO (cut: {cut})\")\n",
    "avo = []\n",
    "for tp in ['24h', 'w24h']:\n",
    "    v = len(scores[((scores[f\"WT-NUT-0h\"  ] >  0) & (scores[f\"WT-NUT-{tp}\"] >  0)) | \n",
    "                    (scores[f\"WT-NUT-0h\"  ] < -0) & (scores[f\"WT-NUT-{tp}\"] < -0)])\n",
    "    avo.append((v) / len(scores))\n",
    "    print(f\"{tp:>6}  {(v) / len(scores):>8.3f}\")\n",
    "print(avo[0] / avo[1])"
   ]
  },
  {
   "cell_type": "markdown",
   "id": "b20127b5-324e-4b0c-b95f-0ef0b9c4e72e",
   "metadata": {},
   "source": [
    "## Clustering"
   ]
  },
  {
   "cell_type": "code",
   "execution_count": 42,
   "id": "83c1b302",
   "metadata": {
    "ExecuteTime": {
     "end_time": "2023-12-14T09:08:58.872612Z",
     "start_time": "2023-12-14T09:08:46.933101Z"
    }
   },
   "outputs": [],
   "source": [
    "Y = sch.linkage(scores[['WT-NUT-0h', 'WT-NUT-1h' , 'WT-NUT-4h' , \n",
    "                        'WT-NUT-7h', 'WT-NUT-10h', 'WT-NUT-24h', 'WT-NUT-w24h']], \n",
    "                method='average', optimal_ordering=True)"
   ]
  },
  {
   "cell_type": "code",
   "execution_count": 43,
   "id": "15b9e4da",
   "metadata": {
    "ExecuteTime": {
     "end_time": "2023-12-14T09:23:16.612407Z",
     "start_time": "2023-12-14T09:23:16.592209Z"
    }
   },
   "outputs": [],
   "source": [
    "Z1 = sch.dendrogram(Y, orientation='left', no_plot=True, color_threshold=0, above_threshold_color='k') #link_color_func=lambda x: 'k')\n",
    "idx1 = np.array(Z1['leaves'])\n",
    "D = scores.to_numpy()[idx1,:]"
   ]
  },
  {
   "cell_type": "code",
   "execution_count": 45,
   "id": "cf9beb27",
   "metadata": {
    "ExecuteTime": {
     "end_time": "2023-12-14T09:23:17.188555Z",
     "start_time": "2023-12-14T09:23:17.184523Z"
    }
   },
   "outputs": [],
   "source": [
    "upper = lambda x: x > 0\n",
    "lower = lambda x: x < 0"
   ]
  },
  {
   "cell_type": "code",
   "execution_count": 46,
   "id": "fea6e72e",
   "metadata": {
    "ExecuteTime": {
     "end_time": "2023-12-14T09:23:17.351676Z",
     "start_time": "2023-12-14T09:23:17.345846Z"
    }
   },
   "outputs": [
    {
     "data": {
      "text/plain": [
       "array([[1., 1.],\n",
       "       [1., 1.],\n",
       "       [1., 1.],\n",
       "       [0., 0.],\n",
       "       [0., 0.],\n",
       "       [0., 0.]])"
      ]
     },
     "execution_count": 46,
     "metadata": {},
     "output_type": "execute_result"
    }
   ],
   "source": [
    "np.concatenate([np.ones((3, 2)), np.zeros((3, 2))])"
   ]
  },
  {
   "cell_type": "code",
   "execution_count": 47,
   "id": "c3891709",
   "metadata": {
    "ExecuteTime": {
     "end_time": "2023-12-14T09:23:17.511052Z",
     "start_time": "2023-12-14T09:23:17.500824Z"
    }
   },
   "outputs": [],
   "source": [
    "C6 = None\n",
    "C7 = None\n",
    "for t1, t2, t3, t4, t5, t6 in list(product([upper, lower], repeat=6))[1:-1]:\n",
    "    tmp = D[t1(D[:,0]) & t2(D[:,1]) & t3(D[:,2]) & t4(D[:,3]) & t5(D[:,4]) & t6(D[:,5])]\n",
    "    if (len(tmp) / len(D) * 100) < 1:\n",
    "        if C7 is None:\n",
    "            C7 = tmp.copy()\n",
    "        else:\n",
    "            C7 = np.concatenate([C7, tmp])\n",
    "    elif (len(tmp) / len(D) * 100) < 5:\n",
    "        if C6 is None:\n",
    "            C6 = tmp.copy()\n",
    "        else:\n",
    "            C6 = np.concatenate([C6, tmp])"
   ]
  },
  {
   "cell_type": "markdown",
   "id": "e9ea4ef8-6699-4e76-9d3b-82346899e0bc",
   "metadata": {},
   "source": [
    "#### group hierarchical clusters with more heterogeneity"
   ]
  },
  {
   "cell_type": "code",
   "execution_count": 48,
   "id": "4ee8fcd0",
   "metadata": {
    "ExecuteTime": {
     "end_time": "2023-12-14T09:23:17.659787Z",
     "start_time": "2023-12-14T09:23:17.655660Z"
    }
   },
   "outputs": [],
   "source": [
    "C3 = D[(D[:,0] > 0) & (D[:,1] > 0) & (D[:,2] > 0) & (D[:,3] > 0) & (D[:,4] < 0) & (D[:,5] > 0)]\n",
    "C4 = D[(D[:,0] > 0) & (D[:,1] > 0) & (D[:,2] > 0) & (D[:,3] > 0) & (D[:,4] > 0) & (D[:,5] < 0)]\n",
    "C5 = D[(D[:,0] > 0) & (D[:,1] > 0) & (D[:,2] > 0) & (D[:,3] > 0) & (D[:,4] < 0) & (D[:,5] < 0)]\n",
    "\n",
    "C1 = D[(D[:,0] < 0) & (D[:,1] > 0) & (D[:,2] > 0) & (D[:,3] > 0) & (D[:,4] < 0) & (D[:,5] < 0)]\n",
    "C2 = D[(D[:,0] < 0) & (D[:,1] > 0) & (D[:,2] < 0) & (D[:,3] < 0) & (D[:,4] < 0) & (D[:,5] < 0)]"
   ]
  },
  {
   "cell_type": "code",
   "execution_count": 49,
   "id": "59de1df7",
   "metadata": {
    "ExecuteTime": {
     "end_time": "2023-12-14T09:23:18.223199Z",
     "start_time": "2023-12-14T09:23:18.217921Z"
    }
   },
   "outputs": [],
   "source": [
    "D = np.concatenate((C1, C2, C3, C4, C5, C6, C7), axis=0)"
   ]
  },
  {
   "cell_type": "markdown",
   "id": "3f44e9d1-3d0b-45c0-894e-dc5743d35e8d",
   "metadata": {},
   "source": [
    "### plot"
   ]
  },
  {
   "cell_type": "code",
   "execution_count": 51,
   "id": "73f01fb7",
   "metadata": {
    "ExecuteTime": {
     "end_time": "2023-12-14T09:23:33.286993Z",
     "start_time": "2023-12-14T09:23:33.284056Z"
    }
   },
   "outputs": [],
   "source": [
    "mycmap = LinearSegmentedColormap.from_list('lala', \n",
    "                                           [\"#23447F\", \"#9298BA\", \"#FFFAFA\", \"#CE8B7F\", \"#880F10\"], N=256)"
   ]
  },
  {
   "cell_type": "code",
   "execution_count": 53,
   "id": "4a798d4f",
   "metadata": {
    "ExecuteTime": {
     "end_time": "2023-12-14T09:52:24.782223Z",
     "start_time": "2023-12-14T09:52:24.417268Z"
    }
   },
   "outputs": [
    {
     "data": {
      "text/plain": [
       "Text(-0.65, 0.3, 'Compartment score')"
      ]
     },
     "execution_count": 53,
     "metadata": {},
     "output_type": "execute_result"
    },
    {
     "data": {
      "image/png": "[encoded data removed]",
      "text/plain": [
       "<Figure size 930x750 with 3 Axes>"
      ]
     },
     "metadata": {},
     "output_type": "display_data"
    }
   ],
   "source": [
    "fig = plt.figure(figsize=(3.1, 2.5), dpi=300)\n",
    "axmatrix = fig.add_axes([0.11, 0.1, 0.72, 0.82])\n",
    "axwash   = fig.add_axes([0.86, 0.1, 0.12, 0.82])\n",
    "pos = 0\n",
    "w = len(D) * 0.004\n",
    "prev_b = 0\n",
    "meta = {2: 'Early', 5: 'Late', 6: 'Dynamic', 7: '<1%'}\n",
    "for c, h in enumerate([len(C1), len(C2), len(C3), len(C4), len(C5), len(C6), len(C7)], 1):\n",
    "    b = pos\n",
    "    e = pos + h\n",
    "    axmatrix.text(-0.82, (b + e) / 2, f\"C{c}\", size=8, va='center')\n",
    "    axmatrix.plot([-0.5, -0.83, -0.83, -0.5, -0.5], \n",
    "                  [b + w, b + w, e - w, e - w, b + w], \n",
    "                  'k', lw=0.75, clip_on=False, alpha=1)\n",
    "    if c in [2, 5, 6, 7]:\n",
    "        axmatrix.plot([-0.9 , -1.23, -1.23, -0.9 , -0.9], \n",
    "                      [prev_b + w, prev_b + w, e - w, e - w, prev_b + w], \n",
    "                      'k', lw=0.75, clip_on=False, alpha=1)\n",
    "        axmatrix.text(-1.17, (prev_b + e) / 2, meta[c], size=8, va='center', rotation=90)\n",
    "        prev_b = e\n",
    "        \n",
    "    pos = e\n",
    "\n",
    "im = axmatrix.matshow(D[:,:-1], aspect='auto', origin='upper', cmap=mycmap, vmin=-0.5, vmax=0.5)\n",
    "im = axwash.matshow(D[:,-1:], aspect='auto', origin='upper', cmap=mycmap, vmin=-0.5, vmax=0.5)\n",
    "axmatrix.axison = False\n",
    "axwash.axison = False\n",
    "\n",
    "for n, sample in enumerate(scores.columns[:-1]):\n",
    "    t0 = sample.split('-')[-1]\n",
    "    axmatrix.text(n, 0 - len(scores) * 0.025, f\"Nut {t0}\", \n",
    "                  size=8, ha='center', bbox=dict(boxstyle=\"square\", ec=(0, 0, 0, 1), lw=0.5,\n",
    "                                                 fc=colors[t0], alpha=None, pad=0.15))\n",
    "\n",
    "axwash.text(0, 0 - len(scores) * 0.025, \"Wash\", \n",
    "              size=8, ha='center', bbox=dict(boxstyle=\"square\", ec=(0, 0, 0, 1), lw=0.5,\n",
    "                                             fc=colors[\"w24h\"], alpha=None, pad=0.15))\n",
    "    \n",
    "cax = fig.add_axes([0.78, 0.06, 0.2, 0.03])\n",
    "plt.colorbar(im, cax=cax, orientation=\"horizontal\")\n",
    "cax.tick_params(labelsize=8, length=2, pad=2)\n",
    "cax.text(-0.65, 0.3, 'Compartment score', va='center', ha='right', size=8)\n",
    "# plt.savefig('some_path.pdf', dpi=300)\n",
    "# plt.savefig('some_path.png', dpi=300)"
   ]
  },
  {
   "cell_type": "code",
   "execution_count": null,
   "id": "440e72e2",
   "metadata": {},
   "outputs": [],
   "source": []
  },
  {
   "cell_type": "code",
   "execution_count": null,
   "id": "9c9a546a",
   "metadata": {},
   "outputs": [],
   "source": []
  }
 ],
 "metadata": {
  "kernelspec": {
   "display_name": "base",
   "language": "python",
   "name": "base"
  },
  "language_info": {
   "codemirror_mode": {
    "name": "ipython",
    "version": 3
   },
   "file_extension": ".py",
   "mimetype": "text/x-python",
   "name": "python",
   "nbconvert_exporter": "python",
   "pygments_lexer": "ipython3",
   "version": "3.11.5"
  },
  "notify_time": "5",
  "toc": {
   "base_numbering": 1,
   "nav_menu": {},
   "number_sections": false,
   "sideBar": true,
   "skip_h1_title": false,
   "title_cell": "Table of Contents",
   "title_sidebar": "Contents",
   "toc_cell": false,
   "toc_position": {},
   "toc_section_display": true,
   "toc_window_display": false
  }
 },
 "nbformat": 4,
 "nbformat_minor": 5
}
